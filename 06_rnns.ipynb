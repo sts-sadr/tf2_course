{
 "cells": [
  {
   "cell_type": "markdown",
   "metadata": {},
   "source": [
    "# RNNs"
   ]
  },
  {
   "cell_type": "markdown",
   "metadata": {},
   "source": [
    "In this notebook you will learn how to build Recurrent Neural Networks (RNNs) for time series forecasting and sequence classification."
   ]
  },
  {
   "cell_type": "markdown",
   "metadata": {},
   "source": [
    "## Imports"
   ]
  },
  {
   "cell_type": "code",
   "execution_count": 1,
   "metadata": {},
   "outputs": [],
   "source": [
    "%matplotlib inline"
   ]
  },
  {
   "cell_type": "code",
   "execution_count": 2,
   "metadata": {},
   "outputs": [],
   "source": [
    "import matplotlib as mpl\n",
    "import matplotlib.pyplot as plt\n",
    "import numpy as np\n",
    "import os\n",
    "import pandas as pd\n",
    "import sklearn\n",
    "import sys\n",
    "import tensorflow as tf\n",
    "from tensorflow import keras\n",
    "import time"
   ]
  },
  {
   "cell_type": "code",
   "execution_count": 3,
   "metadata": {},
   "outputs": [
    {
     "name": "stdout",
     "output_type": "stream",
     "text": [
      "python 3.7.2 (default, Dec 29 2018, 06:19:36) \n",
      "[GCC 7.3.0]\n",
      "matplotlib 3.0.2\n",
      "numpy 1.15.4\n",
      "pandas 0.23.4\n",
      "sklearn 0.20.1\n",
      "tensorflow 2.0.0-dev20190226\n",
      "tensorflow.python.keras.api._v2.keras 2.2.4-tf\n"
     ]
    }
   ],
   "source": [
    "print(\"python\", sys.version)\n",
    "for module in mpl, np, pd, sklearn, tf, keras:\n",
    "    print(module.__name__, module.__version__)"
   ]
  },
  {
   "cell_type": "code",
   "execution_count": 4,
   "metadata": {},
   "outputs": [],
   "source": [
    "assert sys.version_info >= (3, 5) # Python ≥3.5 required\n",
    "assert tf.__version__ >= \"2.0\"    # TensorFlow ≥2.0 required"
   ]
  },
  {
   "cell_type": "markdown",
   "metadata": {},
   "source": [
    "![Exercise](https://c1.staticflickr.com/9/8101/8553474140_c50cf08708_b.jpg)"
   ]
  },
  {
   "cell_type": "markdown",
   "metadata": {},
   "source": [
    "# Exercise 1 – Time series forecasting"
   ]
  },
  {
   "cell_type": "markdown",
   "metadata": {},
   "source": [
    "## 1.1) Load the data"
   ]
  },
  {
   "cell_type": "markdown",
   "metadata": {},
   "source": [
    "Let's start with a simple univariate time series: the daily temperatures in Melbourne from 1981 to 1990 ([source](https://datamarket.com/data/set/2324/daily-minimum-temperatures-in-melbourne-australia-1981-1990))."
   ]
  },
  {
   "cell_type": "code",
   "execution_count": 5,
   "metadata": {},
   "outputs": [],
   "source": [
    "temps = pd.read_csv(\"datasets/daily-minimum-temperatures-in-me.csv\",\n",
    "                    parse_dates=[0], index_col=0)"
   ]
  },
  {
   "cell_type": "code",
   "execution_count": 6,
   "metadata": {},
   "outputs": [
    {
     "name": "stdout",
     "output_type": "stream",
     "text": [
      "<class 'pandas.core.frame.DataFrame'>\n",
      "DatetimeIndex: 3650 entries, 1981-01-01 to 1990-12-31\n",
      "Data columns (total 1 columns):\n",
      "Temperature    3650 non-null float64\n",
      "dtypes: float64(1)\n",
      "memory usage: 57.0 KB\n"
     ]
    }
   ],
   "source": [
    "temps.info()"
   ]
  },
  {
   "cell_type": "code",
   "execution_count": 7,
   "metadata": {},
   "outputs": [
    {
     "data": {
      "text/html": [
       "<div>\n",
       "<style scoped>\n",
       "    .dataframe tbody tr th:only-of-type {\n",
       "        vertical-align: middle;\n",
       "    }\n",
       "\n",
       "    .dataframe tbody tr th {\n",
       "        vertical-align: top;\n",
       "    }\n",
       "\n",
       "    .dataframe thead th {\n",
       "        text-align: right;\n",
       "    }\n",
       "</style>\n",
       "<table border=\"1\" class=\"dataframe\">\n",
       "  <thead>\n",
       "    <tr style=\"text-align: right;\">\n",
       "      <th></th>\n",
       "      <th>Temperature</th>\n",
       "    </tr>\n",
       "    <tr>\n",
       "      <th>Date</th>\n",
       "      <th></th>\n",
       "    </tr>\n",
       "  </thead>\n",
       "  <tbody>\n",
       "    <tr>\n",
       "      <th>1981-01-01</th>\n",
       "      <td>20.7</td>\n",
       "    </tr>\n",
       "    <tr>\n",
       "      <th>1981-01-02</th>\n",
       "      <td>17.9</td>\n",
       "    </tr>\n",
       "    <tr>\n",
       "      <th>1981-01-03</th>\n",
       "      <td>18.8</td>\n",
       "    </tr>\n",
       "    <tr>\n",
       "      <th>1981-01-04</th>\n",
       "      <td>14.6</td>\n",
       "    </tr>\n",
       "    <tr>\n",
       "      <th>1981-01-05</th>\n",
       "      <td>15.8</td>\n",
       "    </tr>\n",
       "  </tbody>\n",
       "</table>\n",
       "</div>"
      ],
      "text/plain": [
       "            Temperature\n",
       "Date                   \n",
       "1981-01-01         20.7\n",
       "1981-01-02         17.9\n",
       "1981-01-03         18.8\n",
       "1981-01-04         14.6\n",
       "1981-01-05         15.8"
      ]
     },
     "execution_count": 7,
     "metadata": {},
     "output_type": "execute_result"
    }
   ],
   "source": [
    "temps.head()"
   ]
  },
  {
   "cell_type": "code",
   "execution_count": 8,
   "metadata": {},
   "outputs": [
    {
     "data": {
      "image/png": "[encoded data removed]",
      "text/plain": [
       "<Figure size 720x360 with 1 Axes>"
      ]
     },
     "metadata": {
      "needs_background": "light"
     },
     "output_type": "display_data"
    }
   ],
   "source": [
    "temps.plot(figsize=(10,5))\n",
    "plt.show()"
   ]
  },
  {
   "cell_type": "markdown",
   "metadata": {},
   "source": [
    "## 1.2) Prepare the data"
   ]
  },
  {
   "cell_type": "markdown",
   "metadata": {},
   "source": [
    "A few dates are missing, for example December 31st, 1984:"
   ]
  },
  {
   "cell_type": "code",
   "execution_count": 9,
   "metadata": {},
   "outputs": [
    {
     "data": {
      "text/html": [
       "<div>\n",
       "<style scoped>\n",
       "    .dataframe tbody tr th:only-of-type {\n",
       "        vertical-align: middle;\n",
       "    }\n",
       "\n",
       "    .dataframe tbody tr th {\n",
       "        vertical-align: top;\n",
       "    }\n",
       "\n",
       "    .dataframe thead th {\n",
       "        text-align: right;\n",
       "    }\n",
       "</style>\n",
       "<table border=\"1\" class=\"dataframe\">\n",
       "  <thead>\n",
       "    <tr style=\"text-align: right;\">\n",
       "      <th></th>\n",
       "      <th>Temperature</th>\n",
       "    </tr>\n",
       "    <tr>\n",
       "      <th>Date</th>\n",
       "      <th></th>\n",
       "    </tr>\n",
       "  </thead>\n",
       "  <tbody>\n",
       "    <tr>\n",
       "      <th>1984-12-29</th>\n",
       "      <td>16.0</td>\n",
       "    </tr>\n",
       "    <tr>\n",
       "      <th>1984-12-30</th>\n",
       "      <td>16.4</td>\n",
       "    </tr>\n",
       "    <tr>\n",
       "      <th>1985-01-01</th>\n",
       "      <td>13.3</td>\n",
       "    </tr>\n",
       "    <tr>\n",
       "      <th>1985-01-02</th>\n",
       "      <td>15.2</td>\n",
       "    </tr>\n",
       "  </tbody>\n",
       "</table>\n",
       "</div>"
      ],
      "text/plain": [
       "            Temperature\n",
       "Date                   \n",
       "1984-12-29         16.0\n",
       "1984-12-30         16.4\n",
       "1985-01-01         13.3\n",
       "1985-01-02         15.2"
      ]
     },
     "execution_count": 9,
     "metadata": {},
     "output_type": "execute_result"
    }
   ],
   "source": [
    "temps.loc[\"1984-12-29\":\"1985-01-02\"]"
   ]
  },
  {
   "cell_type": "markdown",
   "metadata": {},
   "source": [
    "Let's ensure there's one row per day, filling missing values with the previous valid value:"
   ]
  },
  {
   "cell_type": "code",
   "execution_count": 10,
   "metadata": {},
   "outputs": [
    {
     "data": {
      "text/html": [
       "<div>\n",
       "<style scoped>\n",
       "    .dataframe tbody tr th:only-of-type {\n",
       "        vertical-align: middle;\n",
       "    }\n",
       "\n",
       "    .dataframe tbody tr th {\n",
       "        vertical-align: top;\n",
       "    }\n",
       "\n",
       "    .dataframe thead th {\n",
       "        text-align: right;\n",
       "    }\n",
       "</style>\n",
       "<table border=\"1\" class=\"dataframe\">\n",
       "  <thead>\n",
       "    <tr style=\"text-align: right;\">\n",
       "      <th></th>\n",
       "      <th>Temperature</th>\n",
       "    </tr>\n",
       "    <tr>\n",
       "      <th>Date</th>\n",
       "      <th></th>\n",
       "    </tr>\n",
       "  </thead>\n",
       "  <tbody>\n",
       "    <tr>\n",
       "      <th>1984-12-29</th>\n",
       "      <td>16.0</td>\n",
       "    </tr>\n",
       "    <tr>\n",
       "      <th>1984-12-30</th>\n",
       "      <td>16.4</td>\n",
       "    </tr>\n",
       "    <tr>\n",
       "      <th>1984-12-31</th>\n",
       "      <td>16.4</td>\n",
       "    </tr>\n",
       "    <tr>\n",
       "      <th>1985-01-01</th>\n",
       "      <td>13.3</td>\n",
       "    </tr>\n",
       "    <tr>\n",
       "      <th>1985-01-02</th>\n",
       "      <td>15.2</td>\n",
       "    </tr>\n",
       "  </tbody>\n",
       "</table>\n",
       "</div>"
      ],
      "text/plain": [
       "            Temperature\n",
       "Date                   \n",
       "1984-12-29         16.0\n",
       "1984-12-30         16.4\n",
       "1984-12-31         16.4\n",
       "1985-01-01         13.3\n",
       "1985-01-02         15.2"
      ]
     },
     "execution_count": 10,
     "metadata": {},
     "output_type": "execute_result"
    }
   ],
   "source": [
    "temps = temps.asfreq(\"1D\", method=\"ffill\")\n",
    "temps.loc[\"1984-12-29\":\"1985-01-02\"]"
   ]
  },
  {
   "cell_type": "markdown",
   "metadata": {},
   "source": [
    "Alternatively, we could have interpolated using `temps.interpolate()`."
   ]
  },
  {
   "cell_type": "markdown",
   "metadata": {},
   "source": [
    "## 1.3) Add the shifted columns"
   ]
  },
  {
   "cell_type": "markdown",
   "metadata": {},
   "source": [
    "Next, let's create a function to add lag columns:"
   ]
  },
  {
   "cell_type": "code",
   "execution_count": 11,
   "metadata": {},
   "outputs": [],
   "source": [
    "def add_lags(series, times):\n",
    "    cols = []\n",
    "    column_index = []\n",
    "    for time in times:\n",
    "        cols.append(series.shift(-time))\n",
    "        lag_fmt = \"t+{time}\" if time > 0 else \"t{time}\" if time < 0 else \"t\"\n",
    "        column_index += [(lag_fmt.format(time=time), col_name)\n",
    "                        for col_name in series.columns]\n",
    "    df = pd.concat(cols, axis=1)\n",
    "    df.columns = pd.MultiIndex.from_tuples(column_index)\n",
    "    return df"
   ]
  },
  {
   "cell_type": "markdown",
   "metadata": {},
   "source": [
    "We will try to predict the temperature in 5 days (t+5) using the temperatures from the last 30 days (t-29 to t):"
   ]
  },
  {
   "cell_type": "code",
   "execution_count": 12,
   "metadata": {},
   "outputs": [],
   "source": [
    "X = add_lags(temps, times=range(-30+1,1)).iloc[30:-5]\n",
    "y = add_lags(temps, times=[5]).iloc[30:-5]"
   ]
  },
  {
   "cell_type": "code",
   "execution_count": 13,
   "metadata": {},
   "outputs": [
    {
     "data": {
      "text/html": [
       "<div>\n",
       "<style scoped>\n",
       "    .dataframe tbody tr th:only-of-type {\n",
       "        vertical-align: middle;\n",
       "    }\n",
       "\n",
       "    .dataframe tbody tr th {\n",
       "        vertical-align: top;\n",
       "    }\n",
       "\n",
       "    .dataframe thead tr th {\n",
       "        text-align: left;\n",
       "    }\n",
       "\n",
       "    .dataframe thead tr:last-of-type th {\n",
       "        text-align: right;\n",
       "    }\n",
       "</style>\n",
       "<table border=\"1\" class=\"dataframe\">\n",
       "  <thead>\n",
       "    <tr>\n",
       "      <th></th>\n",
       "      <th>t-29</th>\n",
       "      <th>t-28</th>\n",
       "      <th>t-27</th>\n",
       "      <th>t-26</th>\n",
       "      <th>t-25</th>\n",
       "      <th>t-24</th>\n",
       "      <th>t-23</th>\n",
       "      <th>t-22</th>\n",
       "      <th>t-21</th>\n",
       "      <th>t-20</th>\n",
       "      <th>...</th>\n",
       "      <th>t-9</th>\n",
       "      <th>t-8</th>\n",
       "      <th>t-7</th>\n",
       "      <th>t-6</th>\n",
       "      <th>t-5</th>\n",
       "      <th>t-4</th>\n",
       "      <th>t-3</th>\n",
       "      <th>t-2</th>\n",
       "      <th>t-1</th>\n",
       "      <th>t</th>\n",
       "    </tr>\n",
       "    <tr>\n",
       "      <th></th>\n",
       "      <th>Temperature</th>\n",
       "      <th>Temperature</th>\n",
       "      <th>Temperature</th>\n",
       "      <th>Temperature</th>\n",
       "      <th>Temperature</th>\n",
       "      <th>Temperature</th>\n",
       "      <th>Temperature</th>\n",
       "      <th>Temperature</th>\n",
       "      <th>Temperature</th>\n",
       "      <th>Temperature</th>\n",
       "      <th>...</th>\n",
       "      <th>Temperature</th>\n",
       "      <th>Temperature</th>\n",
       "      <th>Temperature</th>\n",
       "      <th>Temperature</th>\n",
       "      <th>Temperature</th>\n",
       "      <th>Temperature</th>\n",
       "      <th>Temperature</th>\n",
       "      <th>Temperature</th>\n",
       "      <th>Temperature</th>\n",
       "      <th>Temperature</th>\n",
       "    </tr>\n",
       "    <tr>\n",
       "      <th>Date</th>\n",
       "      <th></th>\n",
       "      <th></th>\n",
       "      <th></th>\n",
       "      <th></th>\n",
       "      <th></th>\n",
       "      <th></th>\n",
       "      <th></th>\n",
       "      <th></th>\n",
       "      <th></th>\n",
       "      <th></th>\n",
       "      <th></th>\n",
       "      <th></th>\n",
       "      <th></th>\n",
       "      <th></th>\n",
       "      <th></th>\n",
       "      <th></th>\n",
       "      <th></th>\n",
       "      <th></th>\n",
       "      <th></th>\n",
       "      <th></th>\n",
       "      <th></th>\n",
       "    </tr>\n",
       "  </thead>\n",
       "  <tbody>\n",
       "    <tr>\n",
       "      <th>1981-01-31</th>\n",
       "      <td>17.9</td>\n",
       "      <td>18.8</td>\n",
       "      <td>14.6</td>\n",
       "      <td>15.8</td>\n",
       "      <td>15.8</td>\n",
       "      <td>15.8</td>\n",
       "      <td>17.4</td>\n",
       "      <td>21.8</td>\n",
       "      <td>20.0</td>\n",
       "      <td>16.2</td>\n",
       "      <td>...</td>\n",
       "      <td>12.1</td>\n",
       "      <td>14.4</td>\n",
       "      <td>16.0</td>\n",
       "      <td>16.5</td>\n",
       "      <td>18.7</td>\n",
       "      <td>19.4</td>\n",
       "      <td>17.2</td>\n",
       "      <td>15.5</td>\n",
       "      <td>15.1</td>\n",
       "      <td>15.4</td>\n",
       "    </tr>\n",
       "    <tr>\n",
       "      <th>1981-02-01</th>\n",
       "      <td>18.8</td>\n",
       "      <td>14.6</td>\n",
       "      <td>15.8</td>\n",
       "      <td>15.8</td>\n",
       "      <td>15.8</td>\n",
       "      <td>17.4</td>\n",
       "      <td>21.8</td>\n",
       "      <td>20.0</td>\n",
       "      <td>16.2</td>\n",
       "      <td>13.3</td>\n",
       "      <td>...</td>\n",
       "      <td>14.4</td>\n",
       "      <td>16.0</td>\n",
       "      <td>16.5</td>\n",
       "      <td>18.7</td>\n",
       "      <td>19.4</td>\n",
       "      <td>17.2</td>\n",
       "      <td>15.5</td>\n",
       "      <td>15.1</td>\n",
       "      <td>15.4</td>\n",
       "      <td>15.3</td>\n",
       "    </tr>\n",
       "    <tr>\n",
       "      <th>1981-02-02</th>\n",
       "      <td>14.6</td>\n",
       "      <td>15.8</td>\n",
       "      <td>15.8</td>\n",
       "      <td>15.8</td>\n",
       "      <td>17.4</td>\n",
       "      <td>21.8</td>\n",
       "      <td>20.0</td>\n",
       "      <td>16.2</td>\n",
       "      <td>13.3</td>\n",
       "      <td>16.7</td>\n",
       "      <td>...</td>\n",
       "      <td>16.0</td>\n",
       "      <td>16.5</td>\n",
       "      <td>18.7</td>\n",
       "      <td>19.4</td>\n",
       "      <td>17.2</td>\n",
       "      <td>15.5</td>\n",
       "      <td>15.1</td>\n",
       "      <td>15.4</td>\n",
       "      <td>15.3</td>\n",
       "      <td>18.8</td>\n",
       "    </tr>\n",
       "    <tr>\n",
       "      <th>1981-02-03</th>\n",
       "      <td>15.8</td>\n",
       "      <td>15.8</td>\n",
       "      <td>15.8</td>\n",
       "      <td>17.4</td>\n",
       "      <td>21.8</td>\n",
       "      <td>20.0</td>\n",
       "      <td>16.2</td>\n",
       "      <td>13.3</td>\n",
       "      <td>16.7</td>\n",
       "      <td>21.5</td>\n",
       "      <td>...</td>\n",
       "      <td>16.5</td>\n",
       "      <td>18.7</td>\n",
       "      <td>19.4</td>\n",
       "      <td>17.2</td>\n",
       "      <td>15.5</td>\n",
       "      <td>15.1</td>\n",
       "      <td>15.4</td>\n",
       "      <td>15.3</td>\n",
       "      <td>18.8</td>\n",
       "      <td>21.9</td>\n",
       "    </tr>\n",
       "    <tr>\n",
       "      <th>1981-02-04</th>\n",
       "      <td>15.8</td>\n",
       "      <td>15.8</td>\n",
       "      <td>17.4</td>\n",
       "      <td>21.8</td>\n",
       "      <td>20.0</td>\n",
       "      <td>16.2</td>\n",
       "      <td>13.3</td>\n",
       "      <td>16.7</td>\n",
       "      <td>21.5</td>\n",
       "      <td>25.0</td>\n",
       "      <td>...</td>\n",
       "      <td>18.7</td>\n",
       "      <td>19.4</td>\n",
       "      <td>17.2</td>\n",
       "      <td>15.5</td>\n",
       "      <td>15.1</td>\n",
       "      <td>15.4</td>\n",
       "      <td>15.3</td>\n",
       "      <td>18.8</td>\n",
       "      <td>21.9</td>\n",
       "      <td>19.9</td>\n",
       "    </tr>\n",
       "  </tbody>\n",
       "</table>\n",
       "<p>5 rows × 30 columns</p>\n",
       "</div>"
      ],
      "text/plain": [
       "                  t-29        t-28        t-27        t-26        t-25  \\\n",
       "           Temperature Temperature Temperature Temperature Temperature   \n",
       "Date                                                                     \n",
       "1981-01-31        17.9        18.8        14.6        15.8        15.8   \n",
       "1981-02-01        18.8        14.6        15.8        15.8        15.8   \n",
       "1981-02-02        14.6        15.8        15.8        15.8        17.4   \n",
       "1981-02-03        15.8        15.8        15.8        17.4        21.8   \n",
       "1981-02-04        15.8        15.8        17.4        21.8        20.0   \n",
       "\n",
       "                  t-24        t-23        t-22        t-21        t-20  \\\n",
       "           Temperature Temperature Temperature Temperature Temperature   \n",
       "Date                                                                     \n",
       "1981-01-31        15.8        17.4        21.8        20.0        16.2   \n",
       "1981-02-01        17.4        21.8        20.0        16.2        13.3   \n",
       "1981-02-02        21.8        20.0        16.2        13.3        16.7   \n",
       "1981-02-03        20.0        16.2        13.3        16.7        21.5   \n",
       "1981-02-04        16.2        13.3        16.7        21.5        25.0   \n",
       "\n",
       "               ...             t-9         t-8         t-7         t-6  \\\n",
       "               ...     Temperature Temperature Temperature Temperature   \n",
       "Date           ...                                                       \n",
       "1981-01-31     ...            12.1        14.4        16.0        16.5   \n",
       "1981-02-01     ...            14.4        16.0        16.5        18.7   \n",
       "1981-02-02     ...            16.0        16.5        18.7        19.4   \n",
       "1981-02-03     ...            16.5        18.7        19.4        17.2   \n",
       "1981-02-04     ...            18.7        19.4        17.2        15.5   \n",
       "\n",
       "                   t-5         t-4         t-3         t-2         t-1  \\\n",
       "           Temperature Temperature Temperature Temperature Temperature   \n",
       "Date                                                                     \n",
       "1981-01-31        18.7        19.4        17.2        15.5        15.1   \n",
       "1981-02-01        19.4        17.2        15.5        15.1        15.4   \n",
       "1981-02-02        17.2        15.5        15.1        15.4        15.3   \n",
       "1981-02-03        15.5        15.1        15.4        15.3        18.8   \n",
       "1981-02-04        15.1        15.4        15.3        18.8        21.9   \n",
       "\n",
       "                     t  \n",
       "           Temperature  \n",
       "Date                    \n",
       "1981-01-31        15.4  \n",
       "1981-02-01        15.3  \n",
       "1981-02-02        18.8  \n",
       "1981-02-03        21.9  \n",
       "1981-02-04        19.9  \n",
       "\n",
       "[5 rows x 30 columns]"
      ]
     },
     "execution_count": 13,
     "metadata": {},
     "output_type": "execute_result"
    }
   ],
   "source": [
    "X.head()"
   ]
  },
  {
   "cell_type": "code",
   "execution_count": 14,
   "metadata": {},
   "outputs": [
    {
     "data": {
      "text/html": [
       "<div>\n",
       "<style scoped>\n",
       "    .dataframe tbody tr th:only-of-type {\n",
       "        vertical-align: middle;\n",
       "    }\n",
       "\n",
       "    .dataframe tbody tr th {\n",
       "        vertical-align: top;\n",
       "    }\n",
       "\n",
       "    .dataframe thead tr th {\n",
       "        text-align: left;\n",
       "    }\n",
       "\n",
       "    .dataframe thead tr:last-of-type th {\n",
       "        text-align: right;\n",
       "    }\n",
       "</style>\n",
       "<table border=\"1\" class=\"dataframe\">\n",
       "  <thead>\n",
       "    <tr>\n",
       "      <th></th>\n",
       "      <th>t+5</th>\n",
       "    </tr>\n",
       "    <tr>\n",
       "      <th></th>\n",
       "      <th>Temperature</th>\n",
       "    </tr>\n",
       "    <tr>\n",
       "      <th>Date</th>\n",
       "      <th></th>\n",
       "    </tr>\n",
       "  </thead>\n",
       "  <tbody>\n",
       "    <tr>\n",
       "      <th>1981-01-31</th>\n",
       "      <td>16.6</td>\n",
       "    </tr>\n",
       "    <tr>\n",
       "      <th>1981-02-01</th>\n",
       "      <td>16.8</td>\n",
       "    </tr>\n",
       "    <tr>\n",
       "      <th>1981-02-02</th>\n",
       "      <td>14.6</td>\n",
       "    </tr>\n",
       "    <tr>\n",
       "      <th>1981-02-03</th>\n",
       "      <td>17.1</td>\n",
       "    </tr>\n",
       "    <tr>\n",
       "      <th>1981-02-04</th>\n",
       "      <td>25.0</td>\n",
       "    </tr>\n",
       "  </tbody>\n",
       "</table>\n",
       "</div>"
      ],
      "text/plain": [
       "                   t+5\n",
       "           Temperature\n",
       "Date                  \n",
       "1981-01-31        16.6\n",
       "1981-02-01        16.8\n",
       "1981-02-02        14.6\n",
       "1981-02-03        17.1\n",
       "1981-02-04        25.0"
      ]
     },
     "execution_count": 14,
     "metadata": {},
     "output_type": "execute_result"
    }
   ],
   "source": [
    "y.head()"
   ]
  },
  {
   "cell_type": "markdown",
   "metadata": {},
   "source": [
    "Note: you may want to use `keras.preprocessing.sequence.TimeseriesGenerator` or `tf.data.Dataset.window()` instead."
   ]
  },
  {
   "cell_type": "markdown",
   "metadata": {},
   "source": [
    "## 1.4) Split the dataset"
   ]
  },
  {
   "cell_type": "markdown",
   "metadata": {},
   "source": [
    "Split this dataset into three periods: training (1981-1986), validation (1987-1988) and testing (1989-1990)."
   ]
  },
  {
   "cell_type": "code",
   "execution_count": 15,
   "metadata": {},
   "outputs": [],
   "source": [
    "#X_train, y_train = ...\n",
    "#X_valid, y_valid = ...\n",
    "#X_test, y_test = ..."
   ]
  },
  {
   "cell_type": "code",
   "execution_count": null,
   "metadata": {},
   "outputs": [],
   "source": []
  },
  {
   "cell_type": "code",
   "execution_count": null,
   "metadata": {},
   "outputs": [],
   "source": []
  },
  {
   "cell_type": "code",
   "execution_count": null,
   "metadata": {},
   "outputs": [],
   "source": []
  },
  {
   "cell_type": "markdown",
   "metadata": {},
   "source": [
    "## 1.5) Reshape the inputs for the RNN"
   ]
  },
  {
   "cell_type": "markdown",
   "metadata": {},
   "source": [
    "Keras and TensorFlow expect a 3D NumPy array for any sequence. Its shape should be (number of instances, number of time steps, number of features per time step). Since this is a univariate time series, the last dimension is 1. Reshape the input features to get 3D arrays:"
   ]
  },
  {
   "cell_type": "code",
   "execution_count": 16,
   "metadata": {},
   "outputs": [],
   "source": [
    "#X_train_3D = ...\n",
    "#X_valid_3D = ...\n",
    "#X_test_3D = ..."
   ]
  },
  {
   "cell_type": "code",
   "execution_count": null,
   "metadata": {},
   "outputs": [],
   "source": []
  },
  {
   "cell_type": "code",
   "execution_count": null,
   "metadata": {},
   "outputs": [],
   "source": []
  },
  {
   "cell_type": "code",
   "execution_count": null,
   "metadata": {},
   "outputs": [],
   "source": []
  },
  {
   "cell_type": "markdown",
   "metadata": {},
   "source": [
    "## 1.6) Build some baseline models"
   ]
  },
  {
   "cell_type": "markdown",
   "metadata": {},
   "source": [
    "Build some baseline models (at least one) and evaluate them on the validation set, using the Mean Absolute Error (MAE). For example:\n",
    "\n",
    "* a naive model, that just predicts the last known value.\n",
    "* an EMA model that predicts an exponential moving average of the last 48 hours (you can try to find the best span).\n",
    "* a linear model.\n",
    "\n",
    "Optional: plot the predictions."
   ]
  },
  {
   "cell_type": "code",
   "execution_count": null,
   "metadata": {},
   "outputs": [],
   "source": []
  },
  {
   "cell_type": "code",
   "execution_count": null,
   "metadata": {},
   "outputs": [],
   "source": []
  },
  {
   "cell_type": "code",
   "execution_count": null,
   "metadata": {},
   "outputs": [],
   "source": []
  },
  {
   "cell_type": "markdown",
   "metadata": {},
   "source": [
    "## 1.7) Build a simple RNN"
   ]
  },
  {
   "cell_type": "markdown",
   "metadata": {},
   "source": [
    "Using Keras, build a simple 2-layer RNN with 100 neurons per layer, plus a dense layer with a single neuron. Train the model for 200 epochs with a batch size of 200, using Stochastic Gradient Descent with an learning rate of 0.005. Make sure to print the validation loss during training.\n",
    "\n",
    "Hints:\n",
    "\n",
    "* Create a `Sequential` model.\n",
    "* Add two `SimpleRNN` layers, with 100 units each. The first should return sequences but not the second. Indeed, in a Seq2Vec model, the last RNN layer should not return sequences. The first layer should specify the input shape (i.e., the shape of a single input sequence).\n",
    "* Use the MSE as the loss.\n",
    "* Call the model's `compile()` method, passing it an `SGD` instance with `lr=0.005`.\n",
    "* Call the model's `fit()` method, with the inputs and targets, number of epochs, batch size and validation data."
   ]
  },
  {
   "cell_type": "code",
   "execution_count": 17,
   "metadata": {},
   "outputs": [],
   "source": [
    "#model1 = ..."
   ]
  },
  {
   "cell_type": "code",
   "execution_count": null,
   "metadata": {},
   "outputs": [],
   "source": []
  },
  {
   "cell_type": "code",
   "execution_count": null,
   "metadata": {},
   "outputs": [],
   "source": []
  },
  {
   "cell_type": "code",
   "execution_count": null,
   "metadata": {},
   "outputs": [],
   "source": []
  },
  {
   "cell_type": "markdown",
   "metadata": {},
   "source": [
    "## 1.8) Plot the history"
   ]
  },
  {
   "cell_type": "markdown",
   "metadata": {},
   "source": [
    "Recall that you can simply use `pd.DataFrame(history.history).plot()`."
   ]
  },
  {
   "cell_type": "code",
   "execution_count": null,
   "metadata": {},
   "outputs": [],
   "source": []
  },
  {
   "cell_type": "code",
   "execution_count": null,
   "metadata": {},
   "outputs": [],
   "source": []
  },
  {
   "cell_type": "code",
   "execution_count": null,
   "metadata": {},
   "outputs": [],
   "source": []
  },
  {
   "cell_type": "markdown",
   "metadata": {},
   "source": [
    "## 1.9) Evaluate the model"
   ]
  },
  {
   "cell_type": "markdown",
   "metadata": {},
   "source": [
    "Evaluate your RNN on the validation set, using the MAE. Try training your model again using the Huber loss and see if you get better performance."
   ]
  },
  {
   "cell_type": "code",
   "execution_count": null,
   "metadata": {},
   "outputs": [],
   "source": [
    "def huber_loss(y_true, y_pred, max_grad=1.):\n",
    "    err = tf.abs(y_true - y_pred, name='abs')\n",
    "    mg = tf.constant(max_grad, name='max_grad')\n",
    "    lin = mg * (err - 0.5 * mg)\n",
    "    quad = 0.5 * err * err\n",
    "    return tf.where(err < mg, quad, lin)"
   ]
  },
  {
   "cell_type": "code",
   "execution_count": null,
   "metadata": {},
   "outputs": [],
   "source": []
  },
  {
   "cell_type": "code",
   "execution_count": null,
   "metadata": {},
   "outputs": [],
   "source": []
  },
  {
   "cell_type": "code",
   "execution_count": null,
   "metadata": {},
   "outputs": [],
   "source": []
  },
  {
   "cell_type": "markdown",
   "metadata": {},
   "source": [
    "## 1.10) Plot the predictions"
   ]
  },
  {
   "cell_type": "markdown",
   "metadata": {},
   "source": [
    "Make predictions on the validation set and plot them. Compare them to the targets and the baseline predictions."
   ]
  },
  {
   "cell_type": "code",
   "execution_count": null,
   "metadata": {},
   "outputs": [],
   "source": []
  },
  {
   "cell_type": "code",
   "execution_count": null,
   "metadata": {},
   "outputs": [],
   "source": []
  },
  {
   "cell_type": "code",
   "execution_count": null,
   "metadata": {},
   "outputs": [],
   "source": []
  },
  {
   "cell_type": "markdown",
   "metadata": {},
   "source": [
    "![Exercise solution](https://camo.githubusercontent.com/250388fde3fac9135ead9471733ee28e049f7a37/68747470733a2f2f75706c6f61642e77696b696d656469612e6f72672f77696b6970656469612f636f6d6d6f6e732f302f30362f46696c6f735f736567756e646f5f6c6f676f5f253238666c69707065642532392e6a7067)"
   ]
  },
  {
   "cell_type": "markdown",
   "metadata": {},
   "source": [
    "# Exercise 1 – Solution"
   ]
  },
  {
   "cell_type": "markdown",
   "metadata": {},
   "source": [
    "## 1.1) Load the data"
   ]
  },
  {
   "cell_type": "markdown",
   "metadata": {},
   "source": [
    "Let's start with a simple univariate time series: the daily temperatures in Melbourne from 1981 to 1990 ([source](https://datamarket.com/data/set/2324/daily-minimum-temperatures-in-melbourne-australia-1981-1990))."
   ]
  },
  {
   "cell_type": "code",
   "execution_count": 18,
   "metadata": {},
   "outputs": [],
   "source": [
    "temps = pd.read_csv(\"datasets/daily-minimum-temperatures-in-me.csv\",\n",
    "                    parse_dates=[0], index_col=0)"
   ]
  },
  {
   "cell_type": "code",
   "execution_count": 19,
   "metadata": {},
   "outputs": [
    {
     "name": "stdout",
     "output_type": "stream",
     "text": [
      "<class 'pandas.core.frame.DataFrame'>\n",
      "DatetimeIndex: 3650 entries, 1981-01-01 to 1990-12-31\n",
      "Data columns (total 1 columns):\n",
      "Temperature    3650 non-null float64\n",
      "dtypes: float64(1)\n",
      "memory usage: 57.0 KB\n"
     ]
    }
   ],
   "source": [
    "temps.info()"
   ]
  },
  {
   "cell_type": "code",
   "execution_count": 20,
   "metadata": {},
   "outputs": [
    {
     "data": {
      "text/html": [
       "<div>\n",
       "<style scoped>\n",
       "    .dataframe tbody tr th:only-of-type {\n",
       "        vertical-align: middle;\n",
       "    }\n",
       "\n",
       "    .dataframe tbody tr th {\n",
       "        vertical-align: top;\n",
       "    }\n",
       "\n",
       "    .dataframe thead th {\n",
       "        text-align: right;\n",
       "    }\n",
       "</style>\n",
       "<table border=\"1\" class=\"dataframe\">\n",
       "  <thead>\n",
       "    <tr style=\"text-align: right;\">\n",
       "      <th></th>\n",
       "      <th>Temperature</th>\n",
       "    </tr>\n",
       "    <tr>\n",
       "      <th>Date</th>\n",
       "      <th></th>\n",
       "    </tr>\n",
       "  </thead>\n",
       "  <tbody>\n",
       "    <tr>\n",
       "      <th>1981-01-01</th>\n",
       "      <td>20.7</td>\n",
       "    </tr>\n",
       "    <tr>\n",
       "      <th>1981-01-02</th>\n",
       "      <td>17.9</td>\n",
       "    </tr>\n",
       "    <tr>\n",
       "      <th>1981-01-03</th>\n",
       "      <td>18.8</td>\n",
       "    </tr>\n",
       "    <tr>\n",
       "      <th>1981-01-04</th>\n",
       "      <td>14.6</td>\n",
       "    </tr>\n",
       "    <tr>\n",
       "      <th>1981-01-05</th>\n",
       "      <td>15.8</td>\n",
       "    </tr>\n",
       "  </tbody>\n",
       "</table>\n",
       "</div>"
      ],
      "text/plain": [
       "            Temperature\n",
       "Date                   \n",
       "1981-01-01         20.7\n",
       "1981-01-02         17.9\n",
       "1981-01-03         18.8\n",
       "1981-01-04         14.6\n",
       "1981-01-05         15.8"
      ]
     },
     "execution_count": 20,
     "metadata": {},
     "output_type": "execute_result"
    }
   ],
   "source": [
    "temps.head()"
   ]
  },
  {
   "cell_type": "code",
   "execution_count": 21,
   "metadata": {},
   "outputs": [
    {
     "data": {
      "image/png": "[encoded data removed]",
      "text/plain": [
       "<Figure size 720x360 with 1 Axes>"
      ]
     },
     "metadata": {
      "needs_background": "light"
     },
     "output_type": "display_data"
    }
   ],
   "source": [
    "temps.plot(figsize=(10,5))\n",
    "plt.show()"
   ]
  },
  {
   "cell_type": "markdown",
   "metadata": {},
   "source": [
    "## 1.2) Prepare the data"
   ]
  },
  {
   "cell_type": "markdown",
   "metadata": {},
   "source": [
    "A few dates are missing, for example December 31st, 1984:"
   ]
  },
  {
   "cell_type": "code",
   "execution_count": 22,
   "metadata": {},
   "outputs": [
    {
     "data": {
      "text/html": [
       "<div>\n",
       "<style scoped>\n",
       "    .dataframe tbody tr th:only-of-type {\n",
       "        vertical-align: middle;\n",
       "    }\n",
       "\n",
       "    .dataframe tbody tr th {\n",
       "        vertical-align: top;\n",
       "    }\n",
       "\n",
       "    .dataframe thead th {\n",
       "        text-align: right;\n",
       "    }\n",
       "</style>\n",
       "<table border=\"1\" class=\"dataframe\">\n",
       "  <thead>\n",
       "    <tr style=\"text-align: right;\">\n",
       "      <th></th>\n",
       "      <th>Temperature</th>\n",
       "    </tr>\n",
       "    <tr>\n",
       "      <th>Date</th>\n",
       "      <th></th>\n",
       "    </tr>\n",
       "  </thead>\n",
       "  <tbody>\n",
       "    <tr>\n",
       "      <th>1984-12-29</th>\n",
       "      <td>16.0</td>\n",
       "    </tr>\n",
       "    <tr>\n",
       "      <th>1984-12-30</th>\n",
       "      <td>16.4</td>\n",
       "    </tr>\n",
       "    <tr>\n",
       "      <th>1985-01-01</th>\n",
       "      <td>13.3</td>\n",
       "    </tr>\n",
       "    <tr>\n",
       "      <th>1985-01-02</th>\n",
       "      <td>15.2</td>\n",
       "    </tr>\n",
       "  </tbody>\n",
       "</table>\n",
       "</div>"
      ],
      "text/plain": [
       "            Temperature\n",
       "Date                   \n",
       "1984-12-29         16.0\n",
       "1984-12-30         16.4\n",
       "1985-01-01         13.3\n",
       "1985-01-02         15.2"
      ]
     },
     "execution_count": 22,
     "metadata": {},
     "output_type": "execute_result"
    }
   ],
   "source": [
    "temps.loc[\"1984-12-29\":\"1985-01-02\"]"
   ]
  },
  {
   "cell_type": "markdown",
   "metadata": {},
   "source": [
    "Let's ensure there's one row per day, filling missing values with the previous valid value:"
   ]
  },
  {
   "cell_type": "code",
   "execution_count": 23,
   "metadata": {},
   "outputs": [
    {
     "data": {
      "text/html": [
       "<div>\n",
       "<style scoped>\n",
       "    .dataframe tbody tr th:only-of-type {\n",
       "        vertical-align: middle;\n",
       "    }\n",
       "\n",
       "    .dataframe tbody tr th {\n",
       "        vertical-align: top;\n",
       "    }\n",
       "\n",
       "    .dataframe thead th {\n",
       "        text-align: right;\n",
       "    }\n",
       "</style>\n",
       "<table border=\"1\" class=\"dataframe\">\n",
       "  <thead>\n",
       "    <tr style=\"text-align: right;\">\n",
       "      <th></th>\n",
       "      <th>Temperature</th>\n",
       "    </tr>\n",
       "    <tr>\n",
       "      <th>Date</th>\n",
       "      <th></th>\n",
       "    </tr>\n",
       "  </thead>\n",
       "  <tbody>\n",
       "    <tr>\n",
       "      <th>1984-12-29</th>\n",
       "      <td>16.0</td>\n",
       "    </tr>\n",
       "    <tr>\n",
       "      <th>1984-12-30</th>\n",
       "      <td>16.4</td>\n",
       "    </tr>\n",
       "    <tr>\n",
       "      <th>1984-12-31</th>\n",
       "      <td>16.4</td>\n",
       "    </tr>\n",
       "    <tr>\n",
       "      <th>1985-01-01</th>\n",
       "      <td>13.3</td>\n",
       "    </tr>\n",
       "    <tr>\n",
       "      <th>1985-01-02</th>\n",
       "      <td>15.2</td>\n",
       "    </tr>\n",
       "  </tbody>\n",
       "</table>\n",
       "</div>"
      ],
      "text/plain": [
       "            Temperature\n",
       "Date                   \n",
       "1984-12-29         16.0\n",
       "1984-12-30         16.4\n",
       "1984-12-31         16.4\n",
       "1985-01-01         13.3\n",
       "1985-01-02         15.2"
      ]
     },
     "execution_count": 23,
     "metadata": {},
     "output_type": "execute_result"
    }
   ],
   "source": [
    "temps = temps.asfreq(\"1D\", method=\"ffill\")\n",
    "temps.loc[\"1984-12-29\":\"1985-01-02\"]"
   ]
  },
  {
   "cell_type": "markdown",
   "metadata": {},
   "source": [
    "Alternatively, we could have interpolated using `temps.interpolate()`."
   ]
  },
  {
   "cell_type": "markdown",
   "metadata": {},
   "source": [
    "## 1.3) Add the shifted columns"
   ]
  },
  {
   "cell_type": "markdown",
   "metadata": {},
   "source": [
    "Next, let's create a function to add lag columns:"
   ]
  },
  {
   "cell_type": "code",
   "execution_count": 24,
   "metadata": {},
   "outputs": [],
   "source": [
    "def add_lags(series, times):\n",
    "    cols = []\n",
    "    column_index = []\n",
    "    for time in times:\n",
    "        cols.append(series.shift(-time))\n",
    "        lag_fmt = \"t+{time}\" if time > 0 else \"t{time}\" if time < 0 else \"t\"\n",
    "        column_index += [(lag_fmt.format(time=time), col_name)\n",
    "                        for col_name in series.columns]\n",
    "    df = pd.concat(cols, axis=1)\n",
    "    df.columns = pd.MultiIndex.from_tuples(column_index)\n",
    "    return df"
   ]
  },
  {
   "cell_type": "code",
   "execution_count": 25,
   "metadata": {},
   "outputs": [
    {
     "data": {
      "text/html": [
       "<div>\n",
       "<style scoped>\n",
       "    .dataframe tbody tr th:only-of-type {\n",
       "        vertical-align: middle;\n",
       "    }\n",
       "\n",
       "    .dataframe tbody tr th {\n",
       "        vertical-align: top;\n",
       "    }\n",
       "\n",
       "    .dataframe thead tr th {\n",
       "        text-align: left;\n",
       "    }\n",
       "\n",
       "    .dataframe thead tr:last-of-type th {\n",
       "        text-align: right;\n",
       "    }\n",
       "</style>\n",
       "<table border=\"1\" class=\"dataframe\">\n",
       "  <thead>\n",
       "    <tr>\n",
       "      <th></th>\n",
       "      <th>t-2</th>\n",
       "      <th>t-1</th>\n",
       "      <th>t</th>\n",
       "      <th>t+2</th>\n",
       "    </tr>\n",
       "    <tr>\n",
       "      <th></th>\n",
       "      <th>Temperature</th>\n",
       "      <th>Temperature</th>\n",
       "      <th>Temperature</th>\n",
       "      <th>Temperature</th>\n",
       "    </tr>\n",
       "    <tr>\n",
       "      <th>Date</th>\n",
       "      <th></th>\n",
       "      <th></th>\n",
       "      <th></th>\n",
       "      <th></th>\n",
       "    </tr>\n",
       "  </thead>\n",
       "  <tbody>\n",
       "    <tr>\n",
       "      <th>1981-01-01</th>\n",
       "      <td>NaN</td>\n",
       "      <td>NaN</td>\n",
       "      <td>20.7</td>\n",
       "      <td>18.8</td>\n",
       "    </tr>\n",
       "    <tr>\n",
       "      <th>1981-01-02</th>\n",
       "      <td>NaN</td>\n",
       "      <td>20.7</td>\n",
       "      <td>17.9</td>\n",
       "      <td>14.6</td>\n",
       "    </tr>\n",
       "    <tr>\n",
       "      <th>1981-01-03</th>\n",
       "      <td>20.7</td>\n",
       "      <td>17.9</td>\n",
       "      <td>18.8</td>\n",
       "      <td>15.8</td>\n",
       "    </tr>\n",
       "    <tr>\n",
       "      <th>1981-01-04</th>\n",
       "      <td>17.9</td>\n",
       "      <td>18.8</td>\n",
       "      <td>14.6</td>\n",
       "      <td>15.8</td>\n",
       "    </tr>\n",
       "    <tr>\n",
       "      <th>1981-01-05</th>\n",
       "      <td>18.8</td>\n",
       "      <td>14.6</td>\n",
       "      <td>15.8</td>\n",
       "      <td>15.8</td>\n",
       "    </tr>\n",
       "    <tr>\n",
       "      <th>1981-01-06</th>\n",
       "      <td>14.6</td>\n",
       "      <td>15.8</td>\n",
       "      <td>15.8</td>\n",
       "      <td>17.4</td>\n",
       "    </tr>\n",
       "    <tr>\n",
       "      <th>1981-01-07</th>\n",
       "      <td>15.8</td>\n",
       "      <td>15.8</td>\n",
       "      <td>15.8</td>\n",
       "      <td>21.8</td>\n",
       "    </tr>\n",
       "    <tr>\n",
       "      <th>1981-01-08</th>\n",
       "      <td>15.8</td>\n",
       "      <td>15.8</td>\n",
       "      <td>17.4</td>\n",
       "      <td>20.0</td>\n",
       "    </tr>\n",
       "    <tr>\n",
       "      <th>1981-01-09</th>\n",
       "      <td>15.8</td>\n",
       "      <td>17.4</td>\n",
       "      <td>21.8</td>\n",
       "      <td>16.2</td>\n",
       "    </tr>\n",
       "    <tr>\n",
       "      <th>1981-01-10</th>\n",
       "      <td>17.4</td>\n",
       "      <td>21.8</td>\n",
       "      <td>20.0</td>\n",
       "      <td>13.3</td>\n",
       "    </tr>\n",
       "  </tbody>\n",
       "</table>\n",
       "</div>"
      ],
      "text/plain": [
       "                   t-2         t-1           t         t+2\n",
       "           Temperature Temperature Temperature Temperature\n",
       "Date                                                      \n",
       "1981-01-01         NaN         NaN        20.7        18.8\n",
       "1981-01-02         NaN        20.7        17.9        14.6\n",
       "1981-01-03        20.7        17.9        18.8        15.8\n",
       "1981-01-04        17.9        18.8        14.6        15.8\n",
       "1981-01-05        18.8        14.6        15.8        15.8\n",
       "1981-01-06        14.6        15.8        15.8        17.4\n",
       "1981-01-07        15.8        15.8        15.8        21.8\n",
       "1981-01-08        15.8        15.8        17.4        20.0\n",
       "1981-01-09        15.8        17.4        21.8        16.2\n",
       "1981-01-10        17.4        21.8        20.0        13.3"
      ]
     },
     "execution_count": 25,
     "metadata": {},
     "output_type": "execute_result"
    }
   ],
   "source": [
    "add_lags(temps, times=(-2, -1, 0, +2)).head(10)"
   ]
  },
  {
   "cell_type": "markdown",
   "metadata": {},
   "source": [
    "We will try to predict the temperature in 5 days (t+5) using the temperatures from the last 30 days (t-29 to t):"
   ]
  },
  {
   "cell_type": "code",
   "execution_count": 26,
   "metadata": {},
   "outputs": [],
   "source": [
    "X = add_lags(temps, times=range(-30+1,1)).iloc[30:-5]\n",
    "y = add_lags(temps, times=[5]).iloc[30:-5]"
   ]
  },
  {
   "cell_type": "code",
   "execution_count": 27,
   "metadata": {},
   "outputs": [
    {
     "data": {
      "text/html": [
       "<div>\n",
       "<style scoped>\n",
       "    .dataframe tbody tr th:only-of-type {\n",
       "        vertical-align: middle;\n",
       "    }\n",
       "\n",
       "    .dataframe tbody tr th {\n",
       "        vertical-align: top;\n",
       "    }\n",
       "\n",
       "    .dataframe thead tr th {\n",
       "        text-align: left;\n",
       "    }\n",
       "\n",
       "    .dataframe thead tr:last-of-type th {\n",
       "        text-align: right;\n",
       "    }\n",
       "</style>\n",
       "<table border=\"1\" class=\"dataframe\">\n",
       "  <thead>\n",
       "    <tr>\n",
       "      <th></th>\n",
       "      <th>t-29</th>\n",
       "      <th>t-28</th>\n",
       "      <th>t-27</th>\n",
       "      <th>t-26</th>\n",
       "      <th>t-25</th>\n",
       "      <th>t-24</th>\n",
       "      <th>t-23</th>\n",
       "      <th>t-22</th>\n",
       "      <th>t-21</th>\n",
       "      <th>t-20</th>\n",
       "      <th>...</th>\n",
       "      <th>t-9</th>\n",
       "      <th>t-8</th>\n",
       "      <th>t-7</th>\n",
       "      <th>t-6</th>\n",
       "      <th>t-5</th>\n",
       "      <th>t-4</th>\n",
       "      <th>t-3</th>\n",
       "      <th>t-2</th>\n",
       "      <th>t-1</th>\n",
       "      <th>t</th>\n",
       "    </tr>\n",
       "    <tr>\n",
       "      <th></th>\n",
       "      <th>Temperature</th>\n",
       "      <th>Temperature</th>\n",
       "      <th>Temperature</th>\n",
       "      <th>Temperature</th>\n",
       "      <th>Temperature</th>\n",
       "      <th>Temperature</th>\n",
       "      <th>Temperature</th>\n",
       "      <th>Temperature</th>\n",
       "      <th>Temperature</th>\n",
       "      <th>Temperature</th>\n",
       "      <th>...</th>\n",
       "      <th>Temperature</th>\n",
       "      <th>Temperature</th>\n",
       "      <th>Temperature</th>\n",
       "      <th>Temperature</th>\n",
       "      <th>Temperature</th>\n",
       "      <th>Temperature</th>\n",
       "      <th>Temperature</th>\n",
       "      <th>Temperature</th>\n",
       "      <th>Temperature</th>\n",
       "      <th>Temperature</th>\n",
       "    </tr>\n",
       "    <tr>\n",
       "      <th>Date</th>\n",
       "      <th></th>\n",
       "      <th></th>\n",
       "      <th></th>\n",
       "      <th></th>\n",
       "      <th></th>\n",
       "      <th></th>\n",
       "      <th></th>\n",
       "      <th></th>\n",
       "      <th></th>\n",
       "      <th></th>\n",
       "      <th></th>\n",
       "      <th></th>\n",
       "      <th></th>\n",
       "      <th></th>\n",
       "      <th></th>\n",
       "      <th></th>\n",
       "      <th></th>\n",
       "      <th></th>\n",
       "      <th></th>\n",
       "      <th></th>\n",
       "      <th></th>\n",
       "    </tr>\n",
       "  </thead>\n",
       "  <tbody>\n",
       "    <tr>\n",
       "      <th>1981-01-31</th>\n",
       "      <td>17.9</td>\n",
       "      <td>18.8</td>\n",
       "      <td>14.6</td>\n",
       "      <td>15.8</td>\n",
       "      <td>15.8</td>\n",
       "      <td>15.8</td>\n",
       "      <td>17.4</td>\n",
       "      <td>21.8</td>\n",
       "      <td>20.0</td>\n",
       "      <td>16.2</td>\n",
       "      <td>...</td>\n",
       "      <td>12.1</td>\n",
       "      <td>14.4</td>\n",
       "      <td>16.0</td>\n",
       "      <td>16.5</td>\n",
       "      <td>18.7</td>\n",
       "      <td>19.4</td>\n",
       "      <td>17.2</td>\n",
       "      <td>15.5</td>\n",
       "      <td>15.1</td>\n",
       "      <td>15.4</td>\n",
       "    </tr>\n",
       "    <tr>\n",
       "      <th>1981-02-01</th>\n",
       "      <td>18.8</td>\n",
       "      <td>14.6</td>\n",
       "      <td>15.8</td>\n",
       "      <td>15.8</td>\n",
       "      <td>15.8</td>\n",
       "      <td>17.4</td>\n",
       "      <td>21.8</td>\n",
       "      <td>20.0</td>\n",
       "      <td>16.2</td>\n",
       "      <td>13.3</td>\n",
       "      <td>...</td>\n",
       "      <td>14.4</td>\n",
       "      <td>16.0</td>\n",
       "      <td>16.5</td>\n",
       "      <td>18.7</td>\n",
       "      <td>19.4</td>\n",
       "      <td>17.2</td>\n",
       "      <td>15.5</td>\n",
       "      <td>15.1</td>\n",
       "      <td>15.4</td>\n",
       "      <td>15.3</td>\n",
       "    </tr>\n",
       "    <tr>\n",
       "      <th>1981-02-02</th>\n",
       "      <td>14.6</td>\n",
       "      <td>15.8</td>\n",
       "      <td>15.8</td>\n",
       "      <td>15.8</td>\n",
       "      <td>17.4</td>\n",
       "      <td>21.8</td>\n",
       "      <td>20.0</td>\n",
       "      <td>16.2</td>\n",
       "      <td>13.3</td>\n",
       "      <td>16.7</td>\n",
       "      <td>...</td>\n",
       "      <td>16.0</td>\n",
       "      <td>16.5</td>\n",
       "      <td>18.7</td>\n",
       "      <td>19.4</td>\n",
       "      <td>17.2</td>\n",
       "      <td>15.5</td>\n",
       "      <td>15.1</td>\n",
       "      <td>15.4</td>\n",
       "      <td>15.3</td>\n",
       "      <td>18.8</td>\n",
       "    </tr>\n",
       "    <tr>\n",
       "      <th>1981-02-03</th>\n",
       "      <td>15.8</td>\n",
       "      <td>15.8</td>\n",
       "      <td>15.8</td>\n",
       "      <td>17.4</td>\n",
       "      <td>21.8</td>\n",
       "      <td>20.0</td>\n",
       "      <td>16.2</td>\n",
       "      <td>13.3</td>\n",
       "      <td>16.7</td>\n",
       "      <td>21.5</td>\n",
       "      <td>...</td>\n",
       "      <td>16.5</td>\n",
       "      <td>18.7</td>\n",
       "      <td>19.4</td>\n",
       "      <td>17.2</td>\n",
       "      <td>15.5</td>\n",
       "      <td>15.1</td>\n",
       "      <td>15.4</td>\n",
       "      <td>15.3</td>\n",
       "      <td>18.8</td>\n",
       "      <td>21.9</td>\n",
       "    </tr>\n",
       "    <tr>\n",
       "      <th>1981-02-04</th>\n",
       "      <td>15.8</td>\n",
       "      <td>15.8</td>\n",
       "      <td>17.4</td>\n",
       "      <td>21.8</td>\n",
       "      <td>20.0</td>\n",
       "      <td>16.2</td>\n",
       "      <td>13.3</td>\n",
       "      <td>16.7</td>\n",
       "      <td>21.5</td>\n",
       "      <td>25.0</td>\n",
       "      <td>...</td>\n",
       "      <td>18.7</td>\n",
       "      <td>19.4</td>\n",
       "      <td>17.2</td>\n",
       "      <td>15.5</td>\n",
       "      <td>15.1</td>\n",
       "      <td>15.4</td>\n",
       "      <td>15.3</td>\n",
       "      <td>18.8</td>\n",
       "      <td>21.9</td>\n",
       "      <td>19.9</td>\n",
       "    </tr>\n",
       "  </tbody>\n",
       "</table>\n",
       "<p>5 rows × 30 columns</p>\n",
       "</div>"
      ],
      "text/plain": [
       "                  t-29        t-28        t-27        t-26        t-25  \\\n",
       "           Temperature Temperature Temperature Temperature Temperature   \n",
       "Date                                                                     \n",
       "1981-01-31        17.9        18.8        14.6        15.8        15.8   \n",
       "1981-02-01        18.8        14.6        15.8        15.8        15.8   \n",
       "1981-02-02        14.6        15.8        15.8        15.8        17.4   \n",
       "1981-02-03        15.8        15.8        15.8        17.4        21.8   \n",
       "1981-02-04        15.8        15.8        17.4        21.8        20.0   \n",
       "\n",
       "                  t-24        t-23        t-22        t-21        t-20  \\\n",
       "           Temperature Temperature Temperature Temperature Temperature   \n",
       "Date                                                                     \n",
       "1981-01-31        15.8        17.4        21.8        20.0        16.2   \n",
       "1981-02-01        17.4        21.8        20.0        16.2        13.3   \n",
       "1981-02-02        21.8        20.0        16.2        13.3        16.7   \n",
       "1981-02-03        20.0        16.2        13.3        16.7        21.5   \n",
       "1981-02-04        16.2        13.3        16.7        21.5        25.0   \n",
       "\n",
       "               ...             t-9         t-8         t-7         t-6  \\\n",
       "               ...     Temperature Temperature Temperature Temperature   \n",
       "Date           ...                                                       \n",
       "1981-01-31     ...            12.1        14.4        16.0        16.5   \n",
       "1981-02-01     ...            14.4        16.0        16.5        18.7   \n",
       "1981-02-02     ...            16.0        16.5        18.7        19.4   \n",
       "1981-02-03     ...            16.5        18.7        19.4        17.2   \n",
       "1981-02-04     ...            18.7        19.4        17.2        15.5   \n",
       "\n",
       "                   t-5         t-4         t-3         t-2         t-1  \\\n",
       "           Temperature Temperature Temperature Temperature Temperature   \n",
       "Date                                                                     \n",
       "1981-01-31        18.7        19.4        17.2        15.5        15.1   \n",
       "1981-02-01        19.4        17.2        15.5        15.1        15.4   \n",
       "1981-02-02        17.2        15.5        15.1        15.4        15.3   \n",
       "1981-02-03        15.5        15.1        15.4        15.3        18.8   \n",
       "1981-02-04        15.1        15.4        15.3        18.8        21.9   \n",
       "\n",
       "                     t  \n",
       "           Temperature  \n",
       "Date                    \n",
       "1981-01-31        15.4  \n",
       "1981-02-01        15.3  \n",
       "1981-02-02        18.8  \n",
       "1981-02-03        21.9  \n",
       "1981-02-04        19.9  \n",
       "\n",
       "[5 rows x 30 columns]"
      ]
     },
     "execution_count": 27,
     "metadata": {},
     "output_type": "execute_result"
    }
   ],
   "source": [
    "X.head()"
   ]
  },
  {
   "cell_type": "code",
   "execution_count": 28,
   "metadata": {},
   "outputs": [
    {
     "data": {
      "text/html": [
       "<div>\n",
       "<style scoped>\n",
       "    .dataframe tbody tr th:only-of-type {\n",
       "        vertical-align: middle;\n",
       "    }\n",
       "\n",
       "    .dataframe tbody tr th {\n",
       "        vertical-align: top;\n",
       "    }\n",
       "\n",
       "    .dataframe thead tr th {\n",
       "        text-align: left;\n",
       "    }\n",
       "\n",
       "    .dataframe thead tr:last-of-type th {\n",
       "        text-align: right;\n",
       "    }\n",
       "</style>\n",
       "<table border=\"1\" class=\"dataframe\">\n",
       "  <thead>\n",
       "    <tr>\n",
       "      <th></th>\n",
       "      <th>t+5</th>\n",
       "    </tr>\n",
       "    <tr>\n",
       "      <th></th>\n",
       "      <th>Temperature</th>\n",
       "    </tr>\n",
       "    <tr>\n",
       "      <th>Date</th>\n",
       "      <th></th>\n",
       "    </tr>\n",
       "  </thead>\n",
       "  <tbody>\n",
       "    <tr>\n",
       "      <th>1981-01-31</th>\n",
       "      <td>16.6</td>\n",
       "    </tr>\n",
       "    <tr>\n",
       "      <th>1981-02-01</th>\n",
       "      <td>16.8</td>\n",
       "    </tr>\n",
       "    <tr>\n",
       "      <th>1981-02-02</th>\n",
       "      <td>14.6</td>\n",
       "    </tr>\n",
       "    <tr>\n",
       "      <th>1981-02-03</th>\n",
       "      <td>17.1</td>\n",
       "    </tr>\n",
       "    <tr>\n",
       "      <th>1981-02-04</th>\n",
       "      <td>25.0</td>\n",
       "    </tr>\n",
       "  </tbody>\n",
       "</table>\n",
       "</div>"
      ],
      "text/plain": [
       "                   t+5\n",
       "           Temperature\n",
       "Date                  \n",
       "1981-01-31        16.6\n",
       "1981-02-01        16.8\n",
       "1981-02-02        14.6\n",
       "1981-02-03        17.1\n",
       "1981-02-04        25.0"
      ]
     },
     "execution_count": 28,
     "metadata": {},
     "output_type": "execute_result"
    }
   ],
   "source": [
    "y.head()"
   ]
  },
  {
   "cell_type": "markdown",
   "metadata": {},
   "source": [
    "## 1.4) Split the dataset"
   ]
  },
  {
   "cell_type": "markdown",
   "metadata": {},
   "source": [
    "Let's split this dataset into three periods: training, validation and testing:"
   ]
  },
  {
   "cell_type": "code",
   "execution_count": 29,
   "metadata": {},
   "outputs": [],
   "source": [
    "train_slice = slice(None, \"1986-12-25\")\n",
    "valid_slice = slice(\"1987-01-01\", \"1988-12-25\")\n",
    "test_slice = slice(\"1989-01-01\", None)"
   ]
  },
  {
   "cell_type": "code",
   "execution_count": 30,
   "metadata": {},
   "outputs": [],
   "source": [
    "X_train, y_train = X.loc[train_slice], y.loc[train_slice]\n",
    "X_valid, y_valid = X.loc[valid_slice], y.loc[valid_slice]\n",
    "X_test, y_test = X.loc[test_slice], y.loc[test_slice]"
   ]
  },
  {
   "cell_type": "markdown",
   "metadata": {},
   "source": [
    "## 1.5) Reshape the inputs for the RNN"
   ]
  },
  {
   "cell_type": "markdown",
   "metadata": {},
   "source": [
    "Now let's create a function to reshape the multilevel DataFrames to 3D numpy arrays to feed to an RNN:"
   ]
  },
  {
   "cell_type": "code",
   "execution_count": 31,
   "metadata": {},
   "outputs": [],
   "source": [
    "def multilevel_df_to_ndarray(df):\n",
    "    shape = [-1] + [len(level) for level in df.columns.remove_unused_levels().levels]\n",
    "    return df.values.reshape(shape)"
   ]
  },
  {
   "cell_type": "code",
   "execution_count": 32,
   "metadata": {},
   "outputs": [],
   "source": [
    "X_train_3D = multilevel_df_to_ndarray(X_train)\n",
    "X_valid_3D = multilevel_df_to_ndarray(X_valid)\n",
    "X_test_3D = multilevel_df_to_ndarray(X_test)"
   ]
  },
  {
   "cell_type": "code",
   "execution_count": 33,
   "metadata": {},
   "outputs": [
    {
     "data": {
      "text/plain": [
       "(2155, 30)"
      ]
     },
     "execution_count": 33,
     "metadata": {},
     "output_type": "execute_result"
    }
   ],
   "source": [
    "X_train.shape"
   ]
  },
  {
   "cell_type": "code",
   "execution_count": 34,
   "metadata": {},
   "outputs": [
    {
     "data": {
      "text/plain": [
       "(2155, 30, 1)"
      ]
     },
     "execution_count": 34,
     "metadata": {},
     "output_type": "execute_result"
    }
   ],
   "source": [
    "X_train_3D.shape"
   ]
  },
  {
   "cell_type": "markdown",
   "metadata": {},
   "source": [
    "## 1.6) Build some baseline models"
   ]
  },
  {
   "cell_type": "markdown",
   "metadata": {},
   "source": [
    "Now let's evaluate some basic strategies, to get some baselines:"
   ]
  },
  {
   "cell_type": "code",
   "execution_count": 35,
   "metadata": {},
   "outputs": [],
   "source": [
    "from sklearn.metrics import mean_absolute_error"
   ]
  },
  {
   "cell_type": "code",
   "execution_count": 36,
   "metadata": {},
   "outputs": [],
   "source": [
    "def naive(X):\n",
    "    return X.iloc[:, -1]"
   ]
  },
  {
   "cell_type": "code",
   "execution_count": 37,
   "metadata": {},
   "outputs": [],
   "source": [
    "y_pred_naive = naive(X_valid)"
   ]
  },
  {
   "cell_type": "code",
   "execution_count": 38,
   "metadata": {},
   "outputs": [
    {
     "data": {
      "text/plain": [
       "2.976551724137931"
      ]
     },
     "execution_count": 38,
     "metadata": {},
     "output_type": "execute_result"
    }
   ],
   "source": [
    "mean_absolute_error(y_valid, y_pred_naive)"
   ]
  },
  {
   "cell_type": "code",
   "execution_count": 39,
   "metadata": {},
   "outputs": [],
   "source": [
    "def ema(X, span):\n",
    "    return X.T.ewm(span=span).mean().T.iloc[:, -1]"
   ]
  },
  {
   "cell_type": "code",
   "execution_count": 40,
   "metadata": {},
   "outputs": [],
   "source": [
    "y_pred_ema = ema(X_valid, span=10)"
   ]
  },
  {
   "cell_type": "code",
   "execution_count": 41,
   "metadata": {},
   "outputs": [
    {
     "data": {
      "text/plain": [
       "2.3581754113889133"
      ]
     },
     "execution_count": 41,
     "metadata": {},
     "output_type": "execute_result"
    }
   ],
   "source": [
    "mean_absolute_error(y_valid, y_pred_ema)"
   ]
  },
  {
   "cell_type": "code",
   "execution_count": 42,
   "metadata": {},
   "outputs": [],
   "source": [
    "from sklearn.linear_model import LinearRegression"
   ]
  },
  {
   "cell_type": "code",
   "execution_count": 43,
   "metadata": {},
   "outputs": [
    {
     "data": {
      "text/plain": [
       "LinearRegression(copy_X=True, fit_intercept=True, n_jobs=None,\n",
       "         normalize=False)"
      ]
     },
     "execution_count": 43,
     "metadata": {},
     "output_type": "execute_result"
    }
   ],
   "source": [
    "lin_reg = LinearRegression()\n",
    "lin_reg.fit(X_train, y_train)"
   ]
  },
  {
   "cell_type": "code",
   "execution_count": 44,
   "metadata": {},
   "outputs": [],
   "source": [
    "y_pred_linear = lin_reg.predict(X_valid)"
   ]
  },
  {
   "cell_type": "markdown",
   "metadata": {},
   "source": [
    "Let's plot these predictions:"
   ]
  },
  {
   "cell_type": "code",
   "execution_count": 32,
   "metadata": {},
   "outputs": [],
   "source": [
    "def plot_predictions(*named_predictions, start=None, end=None, **kwargs):\n",
    "    day_range = slice(start, end)\n",
    "    plt.figure(figsize=(10,5))\n",
    "    for name, y_pred in named_predictions:\n",
    "        if hasattr(y_pred, \"values\"):\n",
    "            y_pred = y_pred.values\n",
    "        plt.plot(y_pred[day_range], label=name, **kwargs)\n",
    "    plt.legend()\n",
    "    plt.show()"
   ]
  },
  {
   "cell_type": "code",
   "execution_count": 33,
   "metadata": {},
   "outputs": [
    {
     "data": {
      "image/png": "[encoded data removed]",
      "text/plain": [
       "<Figure size 720x360 with 1 Axes>"
      ]
     },
     "metadata": {
      "needs_background": "light"
     },
     "output_type": "display_data"
    }
   ],
   "source": [
    "plot_predictions((\"Target\", y_valid),\n",
    "                 (\"Naive\", y_pred_naive),\n",
    "                 (\"EMA\", y_pred_ema),\n",
    "                 (\"Linear\", y_pred_linear),\n",
    "                 end=365)"
   ]
  },
  {
   "cell_type": "markdown",
   "metadata": {},
   "source": [
    "## 1.7) Build a simple RNN"
   ]
  },
  {
   "cell_type": "markdown",
   "metadata": {},
   "source": [
    "Let's create a simple 2-layer RNN with 100 neurons per layer, plus a dense layer with a single neuron:"
   ]
  },
  {
   "cell_type": "code",
   "execution_count": 34,
   "metadata": {},
   "outputs": [
    {
     "data": {
      "text/plain": [
       "(30, 1)"
      ]
     },
     "execution_count": 34,
     "metadata": {},
     "output_type": "execute_result"
    }
   ],
   "source": [
    "input_shape = X_train_3D.shape[1:]\n",
    "input_shape"
   ]
  },
  {
   "cell_type": "code",
   "execution_count": 45,
   "metadata": {},
   "outputs": [
    {
     "data": {
      "text/plain": [
       "2.260654985675416"
      ]
     },
     "execution_count": 45,
     "metadata": {},
     "output_type": "execute_result"
    }
   ],
   "source": [
    "mean_absolute_error(y_valid, y_pred_linear)"
   ]
  },
  {
   "cell_type": "code",
   "execution_count": 46,
   "metadata": {},
   "outputs": [
    {
     "ename": "NameError",
     "evalue": "name 'input_shape' is not defined",
     "output_type": "error",
     "traceback": [
      "\u001b[0;31m---------------------------------------------------------------------------\u001b[0m",
      "\u001b[0;31mNameError\u001b[0m                                 Traceback (most recent call last)",
      "\u001b[0;32m<ipython-input-46-922069a11b1c>\u001b[0m in \u001b[0;36m<module>\u001b[0;34m\u001b[0m\n\u001b[1;32m      1\u001b[0m \u001b[0mmodel1\u001b[0m \u001b[0;34m=\u001b[0m \u001b[0mkeras\u001b[0m\u001b[0;34m.\u001b[0m\u001b[0mmodels\u001b[0m\u001b[0;34m.\u001b[0m\u001b[0mSequential\u001b[0m\u001b[0;34m(\u001b[0m\u001b[0;34m)\u001b[0m\u001b[0;34m\u001b[0m\u001b[0;34m\u001b[0m\u001b[0m\n\u001b[0;32m----> 2\u001b[0;31m \u001b[0mmodel1\u001b[0m\u001b[0;34m.\u001b[0m\u001b[0madd\u001b[0m\u001b[0;34m(\u001b[0m\u001b[0mkeras\u001b[0m\u001b[0;34m.\u001b[0m\u001b[0mlayers\u001b[0m\u001b[0;34m.\u001b[0m\u001b[0mSimpleRNN\u001b[0m\u001b[0;34m(\u001b[0m\u001b[0;36m100\u001b[0m\u001b[0;34m,\u001b[0m \u001b[0mreturn_sequences\u001b[0m\u001b[0;34m=\u001b[0m\u001b[0;32mTrue\u001b[0m\u001b[0;34m,\u001b[0m \u001b[0minput_shape\u001b[0m\u001b[0;34m=\u001b[0m\u001b[0minput_shape\u001b[0m\u001b[0;34m)\u001b[0m\u001b[0;34m)\u001b[0m\u001b[0;34m\u001b[0m\u001b[0;34m\u001b[0m\u001b[0m\n\u001b[0m\u001b[1;32m      3\u001b[0m \u001b[0mmodel1\u001b[0m\u001b[0;34m.\u001b[0m\u001b[0madd\u001b[0m\u001b[0;34m(\u001b[0m\u001b[0mkeras\u001b[0m\u001b[0;34m.\u001b[0m\u001b[0mlayers\u001b[0m\u001b[0;34m.\u001b[0m\u001b[0mSimpleRNN\u001b[0m\u001b[0;34m(\u001b[0m\u001b[0;36m50\u001b[0m\u001b[0;34m)\u001b[0m\u001b[0;34m)\u001b[0m\u001b[0;34m\u001b[0m\u001b[0;34m\u001b[0m\u001b[0m\n\u001b[1;32m      4\u001b[0m \u001b[0mmodel1\u001b[0m\u001b[0;34m.\u001b[0m\u001b[0madd\u001b[0m\u001b[0;34m(\u001b[0m\u001b[0mkeras\u001b[0m\u001b[0;34m.\u001b[0m\u001b[0mlayers\u001b[0m\u001b[0;34m.\u001b[0m\u001b[0mDense\u001b[0m\u001b[0;34m(\u001b[0m\u001b[0;36m1\u001b[0m\u001b[0;34m)\u001b[0m\u001b[0;34m)\u001b[0m\u001b[0;34m\u001b[0m\u001b[0;34m\u001b[0m\u001b[0m\n\u001b[1;32m      5\u001b[0m \u001b[0mmodel1\u001b[0m\u001b[0;34m.\u001b[0m\u001b[0mcompile\u001b[0m\u001b[0;34m(\u001b[0m\u001b[0mloss\u001b[0m\u001b[0;34m=\u001b[0m\u001b[0;34m\"mse\"\u001b[0m\u001b[0;34m,\u001b[0m \u001b[0moptimizer\u001b[0m\u001b[0;34m=\u001b[0m\u001b[0mkeras\u001b[0m\u001b[0;34m.\u001b[0m\u001b[0moptimizers\u001b[0m\u001b[0;34m.\u001b[0m\u001b[0mSGD\u001b[0m\u001b[0;34m(\u001b[0m\u001b[0mlr\u001b[0m\u001b[0;34m=\u001b[0m\u001b[0;36m0.005\u001b[0m\u001b[0;34m)\u001b[0m\u001b[0;34m,\u001b[0m \u001b[0mmetrics\u001b[0m\u001b[0;34m=\u001b[0m\u001b[0;34m[\u001b[0m\u001b[0;34m\"mae\"\u001b[0m\u001b[0;34m]\u001b[0m\u001b[0;34m)\u001b[0m\u001b[0;34m\u001b[0m\u001b[0;34m\u001b[0m\u001b[0m\n",
      "\u001b[0;31mNameError\u001b[0m: name 'input_shape' is not defined"
     ]
    }
   ],
   "source": [
    "model1 = keras.models.Sequential()\n",
    "model1.add(keras.layers.SimpleRNN(100, return_sequences=True, input_shape=input_shape))\n",
    "model1.add(keras.layers.SimpleRNN(50))\n",
    "model1.add(keras.layers.Dense(1))\n",
    "model1.compile(loss=\"mse\", optimizer=keras.optimizers.SGD(lr=0.005), metrics=[\"mae\"])"
   ]
  },
  {
   "cell_type": "code",
   "execution_count": 47,
   "metadata": {},
   "outputs": [
    {
     "ename": "RuntimeError",
     "evalue": "You must compile a model before training/testing. Use `model.compile(optimizer, loss)`.",
     "output_type": "error",
     "traceback": [
      "\u001b[0;31m---------------------------------------------------------------------------\u001b[0m",
      "\u001b[0;31mRuntimeError\u001b[0m                              Traceback (most recent call last)",
      "\u001b[0;32m<ipython-input-47-af6246f8b437>\u001b[0m in \u001b[0;36m<module>\u001b[0;34m\u001b[0m\n\u001b[1;32m      1\u001b[0m history1 = model1.fit(X_train_3D, y_train, epochs=200, batch_size=200,\n\u001b[0;32m----> 2\u001b[0;31m                       validation_data=(X_valid_3D, y_valid))\n\u001b[0m",
      "\u001b[0;32m~/projects/tf2_course/tf2/lib/python3.7/site-packages/tensorflow/python/keras/engine/training.py\u001b[0m in \u001b[0;36mfit\u001b[0;34m(self, x, y, batch_size, epochs, verbose, callbacks, validation_split, validation_data, shuffle, class_weight, sample_weight, initial_epoch, steps_per_epoch, validation_steps, validation_freq, max_queue_size, workers, use_multiprocessing, **kwargs)\u001b[0m\n\u001b[1;32m    804\u001b[0m         \u001b[0msteps\u001b[0m\u001b[0;34m=\u001b[0m\u001b[0msteps_per_epoch\u001b[0m\u001b[0;34m,\u001b[0m\u001b[0;34m\u001b[0m\u001b[0;34m\u001b[0m\u001b[0m\n\u001b[1;32m    805\u001b[0m         \u001b[0mvalidation_split\u001b[0m\u001b[0;34m=\u001b[0m\u001b[0mvalidation_split\u001b[0m\u001b[0;34m,\u001b[0m\u001b[0;34m\u001b[0m\u001b[0;34m\u001b[0m\u001b[0m\n\u001b[0;32m--> 806\u001b[0;31m         shuffle=shuffle)\n\u001b[0m\u001b[1;32m    807\u001b[0m \u001b[0;34m\u001b[0m\u001b[0m\n\u001b[1;32m    808\u001b[0m     \u001b[0;31m# Prepare validation data.\u001b[0m\u001b[0;34m\u001b[0m\u001b[0;34m\u001b[0m\u001b[0;34m\u001b[0m\u001b[0m\n",
      "\u001b[0;32m~/projects/tf2_course/tf2/lib/python3.7/site-packages/tensorflow/python/keras/engine/training.py\u001b[0m in \u001b[0;36m_standardize_user_data\u001b[0;34m(self, x, y, sample_weight, class_weight, batch_size, check_steps, steps_name, steps, validation_split, shuffle, extract_tensors_from_dataset)\u001b[0m\n\u001b[1;32m   2508\u001b[0m     \u001b[0;32mif\u001b[0m \u001b[0my_input\u001b[0m \u001b[0;32mis\u001b[0m \u001b[0;32mnot\u001b[0m \u001b[0;32mNone\u001b[0m\u001b[0;34m:\u001b[0m\u001b[0;34m\u001b[0m\u001b[0;34m\u001b[0m\u001b[0m\n\u001b[1;32m   2509\u001b[0m       \u001b[0;32mif\u001b[0m \u001b[0;32mnot\u001b[0m \u001b[0mself\u001b[0m\u001b[0;34m.\u001b[0m\u001b[0moptimizer\u001b[0m\u001b[0;34m:\u001b[0m\u001b[0;34m\u001b[0m\u001b[0;34m\u001b[0m\u001b[0m\n\u001b[0;32m-> 2510\u001b[0;31m         raise RuntimeError('You must compile a model before '\n\u001b[0m\u001b[1;32m   2511\u001b[0m                            \u001b[0;34m'training/testing. '\u001b[0m\u001b[0;34m\u001b[0m\u001b[0;34m\u001b[0m\u001b[0m\n\u001b[1;32m   2512\u001b[0m                            'Use `model.compile(optimizer, loss)`.')\n",
      "\u001b[0;31mRuntimeError\u001b[0m: You must compile a model before training/testing. Use `model.compile(optimizer, loss)`."
     ]
    }
   ],
   "source": [
    "history1 = model1.fit(X_train_3D, y_train, epochs=200, batch_size=200,\n",
    "                      validation_data=(X_valid_3D, y_valid))"
   ]
  },
  {
   "cell_type": "markdown",
   "metadata": {},
   "source": [
    "## 1.8) Plot the history"
   ]
  },
  {
   "cell_type": "code",
   "execution_count": 37,
   "metadata": {},
   "outputs": [],
   "source": [
    "def plot_history(history, loss=\"loss\"):\n",
    "    train_losses = history.history[loss]\n",
    "    valid_losses = history.history[\"val_\" + loss]\n",
    "    n_epochs = len(history.epoch)\n",
    "    minloss = np.min(valid_losses)\n",
    "    \n",
    "    plt.plot(train_losses, color=\"b\", label=\"Train\")\n",
    "    plt.plot(valid_losses, color=\"r\", label=\"Validation\")\n",
    "    plt.plot([0, n_epochs], [minloss, minloss], \"k--\",\n",
    "             label=\"Min val: {:.2f}\".format(minloss))\n",
    "    plt.axis([0, n_epochs, 0, 20])\n",
    "    plt.legend()\n",
    "    plt.show()"
   ]
  },
  {
   "cell_type": "code",
   "execution_count": 38,
   "metadata": {},
   "outputs": [
    {
     "data": {
      "image/png": "[encoded data removed]",
      "text/plain": [
       "<Figure size 432x288 with 1 Axes>"
      ]
     },
     "metadata": {
      "needs_background": "light"
     },
     "output_type": "display_data"
    }
   ],
   "source": [
    "plot_history(history1)"
   ]
  },
  {
   "cell_type": "markdown",
   "metadata": {},
   "source": [
    "## 1.9) Evaluate the model"
   ]
  },
  {
   "cell_type": "code",
   "execution_count": 39,
   "metadata": {},
   "outputs": [
    {
     "name": "stdout",
     "output_type": "stream",
     "text": [
      "725/725 [==============================] - 0s 119us/sample - loss: 8.6227 - mae: 2.2919\n"
     ]
    },
    {
     "data": {
      "text/plain": [
       "[8.622721843061775, 2.2919292]"
      ]
     },
     "execution_count": 39,
     "metadata": {},
     "output_type": "execute_result"
    }
   ],
   "source": [
    "model1.evaluate(X_valid_3D, y_valid)"
   ]
  },
  {
   "cell_type": "code",
   "execution_count": 40,
   "metadata": {},
   "outputs": [],
   "source": [
    "def huber_loss(y_true, y_pred, max_grad=1.):\n",
    "    err = tf.abs(y_true - y_pred, name='abs')\n",
    "    mg = tf.constant(max_grad, name='max_grad')\n",
    "    lin = mg * (err - 0.5 * mg)\n",
    "    quad = 0.5 * err * err\n",
    "    return tf.where(err < mg, quad, lin)"
   ]
  },
  {
   "cell_type": "code",
   "execution_count": 41,
   "metadata": {},
   "outputs": [],
   "source": [
    "model1 = keras.models.Sequential()\n",
    "model1.add(keras.layers.SimpleRNN(100, return_sequences=True, input_shape=input_shape))\n",
    "model1.add(keras.layers.SimpleRNN(100))\n",
    "model1.add(keras.layers.Dense(1))\n",
    "model1.compile(loss=huber_loss, optimizer=keras.optimizers.SGD(lr=0.005), metrics=[\"mae\"])"
   ]
  },
  {
   "cell_type": "code",
   "execution_count": 42,
   "metadata": {},
   "outputs": [
    {
     "name": "stdout",
     "output_type": "stream",
     "text": [
      "Train on 2155 samples, validate on 725 samples\n",
      "Epoch 1/200\n",
      "2155/2155 [==============================] - 1s 375us/sample - loss: 6.6782 - mae: 7.1677 - val_loss: 3.9545 - val_mae: 4.4388\n",
      "Epoch 2/200\n",
      "2155/2155 [==============================] - 0s 156us/sample - loss: 3.1696 - mae: 3.6389 - val_loss: 2.6352 - val_mae: 3.1010\n",
      "Epoch 3/200\n",
      "2155/2155 [==============================] - 0s 162us/sample - loss: 2.6387 - mae: 3.1031 - val_loss: 2.3945 - val_mae: 2.8533\n",
      "Epoch 4/200\n",
      "2155/2155 [==============================] - 0s 159us/sample - loss: 2.5314 - mae: 2.9939 - val_loss: 2.3181 - val_mae: 2.7746\n",
      "Epoch 5/200\n",
      "2155/2155 [==============================] - 0s 153us/sample - loss: 2.4520 - mae: 2.9141 - val_loss: 2.2379 - val_mae: 2.6933\n",
      "Epoch 6/200\n",
      "2155/2155 [==============================] - 0s 166us/sample - loss: 2.3543 - mae: 2.8163 - val_loss: 2.1592 - val_mae: 2.6179\n",
      "Epoch 7/200\n",
      "2155/2155 [==============================] - 0s 158us/sample - loss: 2.2491 - mae: 2.7125 - val_loss: 2.0612 - val_mae: 2.5193\n",
      "Epoch 8/200\n",
      "2155/2155 [==============================] - 0s 181us/sample - loss: 2.1546 - mae: 2.6146 - val_loss: 2.0026 - val_mae: 2.4596\n",
      "Epoch 9/200\n",
      "2155/2155 [==============================] - 0s 163us/sample - loss: 2.0834 - mae: 2.5417 - val_loss: 1.9481 - val_mae: 2.4086\n",
      "Epoch 10/200\n",
      "2155/2155 [==============================] - 0s 161us/sample - loss: 2.0367 - mae: 2.4938 - val_loss: 1.9183 - val_mae: 2.3773\n",
      "Epoch 11/200\n",
      "2155/2155 [==============================] - 0s 154us/sample - loss: 2.0005 - mae: 2.4567 - val_loss: 1.8981 - val_mae: 2.3565\n",
      "Epoch 12/200\n",
      "2155/2155 [==============================] - 0s 162us/sample - loss: 1.9690 - mae: 2.4240 - val_loss: 1.8848 - val_mae: 2.3439\n",
      "Epoch 13/200\n",
      "2155/2155 [==============================] - 0s 163us/sample - loss: 1.9599 - mae: 2.4127 - val_loss: 1.8821 - val_mae: 2.3395\n",
      "Epoch 14/200\n",
      "2155/2155 [==============================] - 0s 184us/sample - loss: 1.9599 - mae: 2.4135 - val_loss: 1.8766 - val_mae: 2.3353\n",
      "Epoch 15/200\n",
      "2155/2155 [==============================] - 0s 163us/sample - loss: 1.9288 - mae: 2.3793 - val_loss: 1.9001 - val_mae: 2.3563\n",
      "Epoch 16/200\n",
      "2155/2155 [==============================] - 0s 157us/sample - loss: 1.9326 - mae: 2.3866 - val_loss: 1.8619 - val_mae: 2.3209\n",
      "Epoch 17/200\n",
      "2155/2155 [==============================] - 0s 157us/sample - loss: 1.9206 - mae: 2.3749 - val_loss: 1.8580 - val_mae: 2.3169\n",
      "Epoch 18/200\n",
      "2155/2155 [==============================] - 0s 164us/sample - loss: 1.9234 - mae: 2.3765 - val_loss: 1.8679 - val_mae: 2.3232\n",
      "Epoch 19/200\n",
      "2155/2155 [==============================] - 0s 156us/sample - loss: 1.9825 - mae: 2.4375 - val_loss: 1.9007 - val_mae: 2.3559\n",
      "Epoch 20/200\n",
      "2155/2155 [==============================] - 0s 167us/sample - loss: 1.9216 - mae: 2.3765 - val_loss: 1.9328 - val_mae: 2.3900\n",
      "Epoch 21/200\n",
      "2155/2155 [==============================] - 0s 165us/sample - loss: 1.9299 - mae: 2.3807 - val_loss: 1.8527 - val_mae: 2.3095\n",
      "Epoch 22/200\n",
      "2155/2155 [==============================] - 0s 165us/sample - loss: 1.9102 - mae: 2.3624 - val_loss: 1.9848 - val_mae: 2.4421\n",
      "Epoch 23/200\n",
      "2155/2155 [==============================] - 0s 192us/sample - loss: 1.9343 - mae: 2.3878 - val_loss: 1.8485 - val_mae: 2.3045\n",
      "Epoch 24/200\n",
      "2155/2155 [==============================] - 0s 161us/sample - loss: 1.9097 - mae: 2.3654 - val_loss: 1.9182 - val_mae: 2.3762\n",
      "Epoch 25/200\n",
      "2155/2155 [==============================] - 0s 156us/sample - loss: 1.9054 - mae: 2.3602 - val_loss: 1.8409 - val_mae: 2.2971\n",
      "Epoch 26/200\n",
      "2155/2155 [==============================] - 0s 152us/sample - loss: 1.9213 - mae: 2.3728 - val_loss: 1.9177 - val_mae: 2.3755\n",
      "Epoch 27/200\n",
      "2155/2155 [==============================] - 0s 165us/sample - loss: 1.8927 - mae: 2.3447 - val_loss: 1.8417 - val_mae: 2.2979\n",
      "Epoch 28/200\n",
      "2155/2155 [==============================] - 0s 175us/sample - loss: 1.9119 - mae: 2.3651 - val_loss: 1.9041 - val_mae: 2.3618\n",
      "Epoch 29/200\n",
      "2155/2155 [==============================] - 0s 166us/sample - loss: 1.8980 - mae: 2.3531 - val_loss: 1.8567 - val_mae: 2.3110\n",
      "Epoch 30/200\n",
      "2155/2155 [==============================] - 0s 156us/sample - loss: 1.8951 - mae: 2.3467 - val_loss: 1.9303 - val_mae: 2.3887\n",
      "Epoch 31/200\n",
      "2155/2155 [==============================] - 0s 156us/sample - loss: 1.9117 - mae: 2.3634 - val_loss: 1.8325 - val_mae: 2.2890\n",
      "Epoch 32/200\n",
      "2155/2155 [==============================] - 0s 150us/sample - loss: 1.8945 - mae: 2.3491 - val_loss: 1.8292 - val_mae: 2.2855\n",
      "Epoch 33/200\n",
      "2155/2155 [==============================] - 0s 156us/sample - loss: 1.8880 - mae: 2.3393 - val_loss: 1.8380 - val_mae: 2.2935\n",
      "Epoch 34/200\n",
      "2155/2155 [==============================] - 0s 153us/sample - loss: 1.9188 - mae: 2.3705 - val_loss: 1.8447 - val_mae: 2.3004\n",
      "Epoch 35/200\n",
      "2155/2155 [==============================] - 0s 152us/sample - loss: 1.8790 - mae: 2.3327 - val_loss: 1.8428 - val_mae: 2.2983\n",
      "Epoch 36/200\n",
      "2155/2155 [==============================] - 0s 158us/sample - loss: 1.8847 - mae: 2.3370 - val_loss: 1.8252 - val_mae: 2.2818\n",
      "Epoch 37/200\n",
      "2155/2155 [==============================] - 0s 148us/sample - loss: 1.9000 - mae: 2.3538 - val_loss: 1.8634 - val_mae: 2.3182\n",
      "Epoch 38/200\n",
      "2155/2155 [==============================] - 0s 151us/sample - loss: 1.8907 - mae: 2.3438 - val_loss: 1.9039 - val_mae: 2.3572\n",
      "Epoch 39/200\n",
      "2155/2155 [==============================] - 0s 155us/sample - loss: 1.8888 - mae: 2.3429 - val_loss: 1.8430 - val_mae: 2.2973\n",
      "Epoch 40/200\n",
      "2155/2155 [==============================] - 0s 158us/sample - loss: 1.8736 - mae: 2.3277 - val_loss: 1.8498 - val_mae: 2.3044\n",
      "Epoch 41/200\n",
      "2155/2155 [==============================] - 0s 153us/sample - loss: 1.8830 - mae: 2.3338 - val_loss: 1.8446 - val_mae: 2.3000\n",
      "Epoch 42/200\n",
      "2155/2155 [==============================] - 0s 150us/sample - loss: 1.8876 - mae: 2.3423 - val_loss: 1.8123 - val_mae: 2.2692\n",
      "Epoch 43/200\n",
      "2155/2155 [==============================] - 0s 157us/sample - loss: 1.8805 - mae: 2.3352 - val_loss: 1.8839 - val_mae: 2.3402\n",
      "Epoch 44/200\n",
      "2155/2155 [==============================] - 0s 160us/sample - loss: 1.8904 - mae: 2.3425 - val_loss: 1.9283 - val_mae: 2.3854\n",
      "Epoch 45/200\n",
      "2155/2155 [==============================] - 0s 148us/sample - loss: 1.8805 - mae: 2.3337 - val_loss: 1.8304 - val_mae: 2.2853\n",
      "Epoch 46/200\n",
      "2155/2155 [==============================] - 0s 158us/sample - loss: 1.8960 - mae: 2.3486 - val_loss: 1.8115 - val_mae: 2.2680\n",
      "Epoch 47/200\n",
      "2155/2155 [==============================] - 0s 160us/sample - loss: 1.8893 - mae: 2.3427 - val_loss: 1.8100 - val_mae: 2.2657\n",
      "Epoch 48/200\n",
      "2155/2155 [==============================] - 0s 160us/sample - loss: 1.8691 - mae: 2.3215 - val_loss: 1.8094 - val_mae: 2.2659\n",
      "Epoch 49/200\n",
      "2155/2155 [==============================] - 0s 160us/sample - loss: 1.8873 - mae: 2.3412 - val_loss: 1.8274 - val_mae: 2.2825\n",
      "Epoch 50/200\n",
      "2155/2155 [==============================] - 0s 175us/sample - loss: 1.8863 - mae: 2.3396 - val_loss: 1.8080 - val_mae: 2.2644\n",
      "Epoch 51/200\n",
      "2155/2155 [==============================] - 0s 151us/sample - loss: 1.8940 - mae: 2.3472 - val_loss: 1.8044 - val_mae: 2.2618\n",
      "Epoch 52/200\n",
      "2155/2155 [==============================] - 0s 162us/sample - loss: 1.8695 - mae: 2.3219 - val_loss: 1.8121 - val_mae: 2.2666\n",
      "Epoch 53/200\n",
      "2155/2155 [==============================] - 0s 160us/sample - loss: 1.8770 - mae: 2.3297 - val_loss: 1.8893 - val_mae: 2.3445\n",
      "Epoch 54/200\n",
      "2155/2155 [==============================] - 0s 155us/sample - loss: 1.8761 - mae: 2.3297 - val_loss: 1.8114 - val_mae: 2.2687\n",
      "Epoch 55/200\n",
      "2155/2155 [==============================] - 0s 152us/sample - loss: 1.8711 - mae: 2.3239 - val_loss: 1.8168 - val_mae: 2.2699\n",
      "Epoch 56/200\n",
      "2155/2155 [==============================] - 0s 157us/sample - loss: 1.8810 - mae: 2.3329 - val_loss: 1.8399 - val_mae: 2.2974\n",
      "Epoch 57/200\n",
      "2155/2155 [==============================] - 0s 159us/sample - loss: 1.8769 - mae: 2.3282 - val_loss: 1.8048 - val_mae: 2.2634\n",
      "Epoch 58/200\n",
      "2155/2155 [==============================] - 0s 152us/sample - loss: 1.8782 - mae: 2.3327 - val_loss: 1.8115 - val_mae: 2.2687\n",
      "Epoch 59/200\n",
      "2155/2155 [==============================] - 0s 165us/sample - loss: 1.8875 - mae: 2.3419 - val_loss: 1.8024 - val_mae: 2.2564\n",
      "Epoch 60/200\n",
      "2155/2155 [==============================] - 0s 151us/sample - loss: 1.8742 - mae: 2.3298 - val_loss: 1.7978 - val_mae: 2.2536\n",
      "Epoch 61/200\n",
      "2155/2155 [==============================] - 0s 168us/sample - loss: 1.8916 - mae: 2.3470 - val_loss: 1.8229 - val_mae: 2.2770\n",
      "Epoch 62/200\n",
      "2155/2155 [==============================] - 0s 166us/sample - loss: 1.8889 - mae: 2.3433 - val_loss: 1.8061 - val_mae: 2.2651\n",
      "Epoch 63/200\n",
      "2155/2155 [==============================] - 0s 160us/sample - loss: 1.8673 - mae: 2.3193 - val_loss: 1.9333 - val_mae: 2.3881\n",
      "Epoch 64/200\n",
      "2155/2155 [==============================] - 0s 150us/sample - loss: 1.8934 - mae: 2.3496 - val_loss: 1.7962 - val_mae: 2.2503\n",
      "Epoch 65/200\n",
      "2155/2155 [==============================] - 0s 155us/sample - loss: 1.8603 - mae: 2.3141 - val_loss: 1.8209 - val_mae: 2.2756\n",
      "Epoch 66/200\n",
      "2155/2155 [==============================] - 0s 156us/sample - loss: 1.8652 - mae: 2.3192 - val_loss: 1.8521 - val_mae: 2.3079\n",
      "Epoch 67/200\n",
      "2155/2155 [==============================] - 0s 155us/sample - loss: 1.8950 - mae: 2.3482 - val_loss: 1.7908 - val_mae: 2.2483\n",
      "Epoch 68/200\n",
      "2155/2155 [==============================] - 0s 167us/sample - loss: 1.8974 - mae: 2.3492 - val_loss: 1.7984 - val_mae: 2.2572\n",
      "Epoch 69/200\n",
      "2155/2155 [==============================] - 0s 162us/sample - loss: 1.8830 - mae: 2.3356 - val_loss: 1.7868 - val_mae: 2.2428\n",
      "Epoch 70/200\n",
      "2155/2155 [==============================] - 0s 159us/sample - loss: 1.8761 - mae: 2.3281 - val_loss: 1.7935 - val_mae: 2.2521\n",
      "Epoch 71/200\n",
      "2155/2155 [==============================] - 0s 154us/sample - loss: 1.8576 - mae: 2.3114 - val_loss: 1.7963 - val_mae: 2.2515\n",
      "Epoch 72/200\n",
      "2155/2155 [==============================] - 0s 156us/sample - loss: 1.8893 - mae: 2.3410 - val_loss: 1.8952 - val_mae: 2.3487\n",
      "Epoch 73/200\n",
      "2155/2155 [==============================] - 0s 154us/sample - loss: 1.8841 - mae: 2.3374 - val_loss: 1.8642 - val_mae: 2.3173\n",
      "Epoch 74/200\n",
      "2155/2155 [==============================] - 0s 161us/sample - loss: 1.8742 - mae: 2.3276 - val_loss: 1.7910 - val_mae: 2.2443\n",
      "Epoch 75/200\n",
      "2155/2155 [==============================] - 0s 183us/sample - loss: 1.8594 - mae: 2.3131 - val_loss: 1.8103 - val_mae: 2.2682\n",
      "Epoch 76/200\n",
      "2155/2155 [==============================] - 0s 155us/sample - loss: 1.8633 - mae: 2.3144 - val_loss: 1.8058 - val_mae: 2.2574\n",
      "Epoch 77/200\n",
      "2155/2155 [==============================] - 0s 178us/sample - loss: 1.8830 - mae: 2.3370 - val_loss: 1.8681 - val_mae: 2.3232\n",
      "Epoch 78/200\n",
      "2155/2155 [==============================] - 0s 173us/sample - loss: 1.8673 - mae: 2.3208 - val_loss: 1.8065 - val_mae: 2.2559\n",
      "Epoch 79/200\n",
      "2155/2155 [==============================] - 0s 159us/sample - loss: 1.8533 - mae: 2.3054 - val_loss: 1.7973 - val_mae: 2.2563\n",
      "Epoch 80/200\n",
      "2155/2155 [==============================] - 0s 157us/sample - loss: 1.8561 - mae: 2.3082 - val_loss: 1.7964 - val_mae: 2.2546\n",
      "Epoch 81/200\n",
      "2155/2155 [==============================] - 0s 175us/sample - loss: 1.8651 - mae: 2.3185 - val_loss: 1.8739 - val_mae: 2.3293\n",
      "Epoch 82/200\n",
      "2155/2155 [==============================] - 0s 159us/sample - loss: 1.8725 - mae: 2.3260 - val_loss: 1.9596 - val_mae: 2.4147\n",
      "Epoch 83/200\n",
      "2155/2155 [==============================] - 0s 162us/sample - loss: 1.8823 - mae: 2.3371 - val_loss: 1.7807 - val_mae: 2.2340\n",
      "Epoch 84/200\n",
      "2155/2155 [==============================] - 0s 177us/sample - loss: 1.9031 - mae: 2.3547 - val_loss: 1.7901 - val_mae: 2.2492\n",
      "Epoch 85/200\n",
      "2155/2155 [==============================] - 0s 155us/sample - loss: 1.8643 - mae: 2.3160 - val_loss: 1.8018 - val_mae: 2.2604\n",
      "Epoch 86/200\n",
      "2155/2155 [==============================] - 0s 164us/sample - loss: 1.8632 - mae: 2.3151 - val_loss: 1.7799 - val_mae: 2.2334\n",
      "Epoch 87/200\n",
      "2155/2155 [==============================] - 0s 164us/sample - loss: 1.8627 - mae: 2.3137 - val_loss: 1.7916 - val_mae: 2.2508\n",
      "Epoch 88/200\n",
      "2155/2155 [==============================] - 0s 165us/sample - loss: 1.8782 - mae: 2.3311 - val_loss: 1.8014 - val_mae: 2.2531\n",
      "Epoch 89/200\n",
      "2155/2155 [==============================] - 0s 160us/sample - loss: 1.8606 - mae: 2.3144 - val_loss: 1.7793 - val_mae: 2.2366\n",
      "Epoch 90/200\n",
      "2155/2155 [==============================] - 0s 180us/sample - loss: 1.8656 - mae: 2.3188 - val_loss: 1.7938 - val_mae: 2.2437\n",
      "Epoch 91/200\n",
      "2155/2155 [==============================] - 0s 152us/sample - loss: 1.8620 - mae: 2.3136 - val_loss: 1.7898 - val_mae: 2.2411\n",
      "Epoch 92/200\n",
      "2155/2155 [==============================] - 0s 157us/sample - loss: 1.8925 - mae: 2.3468 - val_loss: 1.7802 - val_mae: 2.2332\n",
      "Epoch 93/200\n",
      "2155/2155 [==============================] - 0s 163us/sample - loss: 1.8524 - mae: 2.3037 - val_loss: 1.7865 - val_mae: 2.2456\n",
      "Epoch 94/200\n",
      "2155/2155 [==============================] - 0s 171us/sample - loss: 1.8855 - mae: 2.3407 - val_loss: 1.8297 - val_mae: 2.2794\n",
      "Epoch 95/200\n",
      "2155/2155 [==============================] - 0s 185us/sample - loss: 1.8715 - mae: 2.3255 - val_loss: 1.8158 - val_mae: 2.2743\n",
      "Epoch 96/200\n",
      "2155/2155 [==============================] - 0s 158us/sample - loss: 1.8610 - mae: 2.3138 - val_loss: 1.8039 - val_mae: 2.2622\n",
      "Epoch 97/200\n",
      "2155/2155 [==============================] - 0s 160us/sample - loss: 1.8461 - mae: 2.2997 - val_loss: 1.8259 - val_mae: 2.2755\n",
      "Epoch 98/200\n",
      "2155/2155 [==============================] - 0s 173us/sample - loss: 1.8672 - mae: 2.3186 - val_loss: 1.7727 - val_mae: 2.2293\n",
      "Epoch 99/200\n",
      "2155/2155 [==============================] - 0s 161us/sample - loss: 1.8459 - mae: 2.2978 - val_loss: 1.8147 - val_mae: 2.2642\n",
      "Epoch 100/200\n",
      "2155/2155 [==============================] - 0s 156us/sample - loss: 1.8531 - mae: 2.3057 - val_loss: 1.7998 - val_mae: 2.2583\n",
      "Epoch 101/200\n",
      "2155/2155 [==============================] - 0s 160us/sample - loss: 1.8671 - mae: 2.3201 - val_loss: 1.8111 - val_mae: 2.2699\n",
      "Epoch 102/200\n",
      "2155/2155 [==============================] - 0s 168us/sample - loss: 1.8790 - mae: 2.3327 - val_loss: 1.7789 - val_mae: 2.2305\n",
      "Epoch 103/200\n",
      "2155/2155 [==============================] - 0s 176us/sample - loss: 1.8549 - mae: 2.3051 - val_loss: 1.7754 - val_mae: 2.2276\n",
      "Epoch 104/200\n",
      "2155/2155 [==============================] - 0s 176us/sample - loss: 1.8687 - mae: 2.3219 - val_loss: 1.8040 - val_mae: 2.2552\n",
      "Epoch 105/200\n",
      "2155/2155 [==============================] - 0s 158us/sample - loss: 1.8645 - mae: 2.3150 - val_loss: 1.7985 - val_mae: 2.2565\n",
      "Epoch 106/200\n",
      "2155/2155 [==============================] - 0s 172us/sample - loss: 1.8767 - mae: 2.3315 - val_loss: 1.7713 - val_mae: 2.2288\n",
      "Epoch 107/200\n",
      "2155/2155 [==============================] - 0s 155us/sample - loss: 1.8453 - mae: 2.2982 - val_loss: 1.7669 - val_mae: 2.2226\n",
      "Epoch 108/200\n",
      "2155/2155 [==============================] - 0s 162us/sample - loss: 1.8745 - mae: 2.3284 - val_loss: 1.7685 - val_mae: 2.2266\n",
      "Epoch 109/200\n",
      "2155/2155 [==============================] - 0s 163us/sample - loss: 1.8531 - mae: 2.3068 - val_loss: 1.7725 - val_mae: 2.2282\n",
      "Epoch 110/200\n",
      "2155/2155 [==============================] - 0s 166us/sample - loss: 1.8521 - mae: 2.3048 - val_loss: 1.8002 - val_mae: 2.2502\n",
      "Epoch 111/200\n",
      "2155/2155 [==============================] - 0s 165us/sample - loss: 1.8518 - mae: 2.3040 - val_loss: 1.7631 - val_mae: 2.2196\n",
      "Epoch 112/200\n",
      "2155/2155 [==============================] - 0s 184us/sample - loss: 1.8521 - mae: 2.3043 - val_loss: 1.7777 - val_mae: 2.2280\n",
      "Epoch 113/200\n",
      "2155/2155 [==============================] - 0s 164us/sample - loss: 1.8490 - mae: 2.3001 - val_loss: 1.7772 - val_mae: 2.2273\n",
      "Epoch 114/200\n",
      "2155/2155 [==============================] - 0s 156us/sample - loss: 1.8477 - mae: 2.3019 - val_loss: 1.7963 - val_mae: 2.2541\n",
      "Epoch 115/200\n",
      "2155/2155 [==============================] - 0s 177us/sample - loss: 1.8795 - mae: 2.3311 - val_loss: 1.8027 - val_mae: 2.2605\n",
      "Epoch 116/200\n",
      "2155/2155 [==============================] - 0s 169us/sample - loss: 1.8509 - mae: 2.3040 - val_loss: 1.7911 - val_mae: 2.2401\n",
      "Epoch 117/200\n"
     ]
    },
    {
     "name": "stdout",
     "output_type": "stream",
     "text": [
      "2155/2155 [==============================] - 0s 150us/sample - loss: 1.8591 - mae: 2.3087 - val_loss: 1.7952 - val_mae: 2.2434\n",
      "Epoch 118/200\n",
      "2155/2155 [==============================] - 0s 145us/sample - loss: 1.8664 - mae: 2.3200 - val_loss: 1.7616 - val_mae: 2.2180\n",
      "Epoch 119/200\n",
      "2155/2155 [==============================] - 0s 153us/sample - loss: 1.8486 - mae: 2.3026 - val_loss: 1.7599 - val_mae: 2.2161\n",
      "Epoch 120/200\n",
      "2155/2155 [==============================] - 0s 158us/sample - loss: 1.8461 - mae: 2.2979 - val_loss: 1.7664 - val_mae: 2.2205\n",
      "Epoch 121/200\n",
      "2155/2155 [==============================] - 0s 150us/sample - loss: 1.8540 - mae: 2.3058 - val_loss: 1.7748 - val_mae: 2.2290\n",
      "Epoch 122/200\n",
      "2155/2155 [==============================] - 0s 181us/sample - loss: 1.8652 - mae: 2.3162 - val_loss: 1.7633 - val_mae: 2.2171\n",
      "Epoch 123/200\n",
      "2155/2155 [==============================] - 0s 161us/sample - loss: 1.8379 - mae: 2.2928 - val_loss: 1.7647 - val_mae: 2.2167\n",
      "Epoch 124/200\n",
      "2155/2155 [==============================] - 0s 155us/sample - loss: 1.8304 - mae: 2.2818 - val_loss: 1.7572 - val_mae: 2.2107\n",
      "Epoch 125/200\n",
      "2155/2155 [==============================] - 0s 158us/sample - loss: 1.8442 - mae: 2.2958 - val_loss: 1.7683 - val_mae: 2.2188\n",
      "Epoch 126/200\n",
      "2155/2155 [==============================] - 0s 158us/sample - loss: 1.8555 - mae: 2.3056 - val_loss: 1.7652 - val_mae: 2.2218\n",
      "Epoch 127/200\n",
      "2155/2155 [==============================] - 0s 162us/sample - loss: 1.8329 - mae: 2.2838 - val_loss: 1.7663 - val_mae: 2.2225\n",
      "Epoch 128/200\n",
      "2155/2155 [==============================] - 0s 166us/sample - loss: 1.8615 - mae: 2.3131 - val_loss: 1.7884 - val_mae: 2.2449\n",
      "Epoch 129/200\n",
      "2155/2155 [==============================] - 0s 181us/sample - loss: 1.8392 - mae: 2.2900 - val_loss: 1.8206 - val_mae: 2.2748\n",
      "Epoch 130/200\n",
      "2155/2155 [==============================] - 0s 159us/sample - loss: 1.8570 - mae: 2.3079 - val_loss: 1.7975 - val_mae: 2.2543\n",
      "Epoch 131/200\n",
      "2155/2155 [==============================] - 0s 160us/sample - loss: 1.8718 - mae: 2.3270 - val_loss: 1.7883 - val_mae: 2.2453\n",
      "Epoch 132/200\n",
      "2155/2155 [==============================] - 0s 181us/sample - loss: 1.8648 - mae: 2.3171 - val_loss: 1.8041 - val_mae: 2.2509\n",
      "Epoch 133/200\n",
      "2155/2155 [==============================] - 0s 158us/sample - loss: 1.8422 - mae: 2.2929 - val_loss: 1.7688 - val_mae: 2.2215\n",
      "Epoch 134/200\n",
      "2155/2155 [==============================] - 0s 164us/sample - loss: 1.8796 - mae: 2.3329 - val_loss: 1.7556 - val_mae: 2.2120\n",
      "Epoch 135/200\n",
      "2155/2155 [==============================] - 0s 184us/sample - loss: 1.8594 - mae: 2.3117 - val_loss: 1.7691 - val_mae: 2.2270\n",
      "Epoch 136/200\n",
      "2155/2155 [==============================] - 0s 154us/sample - loss: 1.8580 - mae: 2.3127 - val_loss: 1.7615 - val_mae: 2.2161\n",
      "Epoch 137/200\n",
      "2155/2155 [==============================] - 0s 168us/sample - loss: 1.8422 - mae: 2.2946 - val_loss: 1.7612 - val_mae: 2.2150\n",
      "Epoch 138/200\n",
      "2155/2155 [==============================] - 0s 177us/sample - loss: 1.8392 - mae: 2.2911 - val_loss: 1.7610 - val_mae: 2.2128\n",
      "Epoch 139/200\n",
      "2155/2155 [==============================] - 0s 155us/sample - loss: 1.8305 - mae: 2.2809 - val_loss: 1.7576 - val_mae: 2.2135\n",
      "Epoch 140/200\n",
      "2155/2155 [==============================] - 0s 179us/sample - loss: 1.8500 - mae: 2.3030 - val_loss: 1.7612 - val_mae: 2.2158\n",
      "Epoch 141/200\n",
      "2155/2155 [==============================] - 0s 161us/sample - loss: 1.8537 - mae: 2.3069 - val_loss: 1.7564 - val_mae: 2.2097\n",
      "Epoch 142/200\n",
      "2155/2155 [==============================] - 0s 174us/sample - loss: 1.8335 - mae: 2.2867 - val_loss: 1.7588 - val_mae: 2.2109\n",
      "Epoch 143/200\n",
      "2155/2155 [==============================] - 0s 156us/sample - loss: 1.8426 - mae: 2.2957 - val_loss: 1.7542 - val_mae: 2.2109\n",
      "Epoch 144/200\n",
      "2155/2155 [==============================] - 0s 175us/sample - loss: 1.8855 - mae: 2.3378 - val_loss: 1.9860 - val_mae: 2.4333\n",
      "Epoch 145/200\n",
      "2155/2155 [==============================] - 0s 157us/sample - loss: 1.8704 - mae: 2.3233 - val_loss: 1.7654 - val_mae: 2.2162\n",
      "Epoch 146/200\n",
      "2155/2155 [==============================] - 0s 160us/sample - loss: 1.8399 - mae: 2.2934 - val_loss: 1.7667 - val_mae: 2.2232\n",
      "Epoch 147/200\n",
      "2155/2155 [==============================] - 0s 183us/sample - loss: 1.8479 - mae: 2.3018 - val_loss: 1.7538 - val_mae: 2.2098\n",
      "Epoch 148/200\n",
      "2155/2155 [==============================] - 0s 163us/sample - loss: 1.8445 - mae: 2.2958 - val_loss: 1.7725 - val_mae: 2.2296\n",
      "Epoch 149/200\n",
      "2155/2155 [==============================] - 0s 164us/sample - loss: 1.8468 - mae: 2.2986 - val_loss: 1.7520 - val_mae: 2.2073\n",
      "Epoch 150/200\n",
      "2155/2155 [==============================] - 0s 170us/sample - loss: 1.8391 - mae: 2.2901 - val_loss: 1.7543 - val_mae: 2.2108\n",
      "Epoch 151/200\n",
      "2155/2155 [==============================] - 0s 154us/sample - loss: 1.8696 - mae: 2.3230 - val_loss: 1.7675 - val_mae: 2.2248\n",
      "Epoch 152/200\n",
      "2155/2155 [==============================] - 0s 175us/sample - loss: 1.8377 - mae: 2.2886 - val_loss: 1.7643 - val_mae: 2.2143\n",
      "Epoch 153/200\n",
      "2155/2155 [==============================] - 0s 164us/sample - loss: 1.8336 - mae: 2.2869 - val_loss: 1.7555 - val_mae: 2.2110\n",
      "Epoch 154/200\n",
      "2155/2155 [==============================] - 0s 162us/sample - loss: 1.8383 - mae: 2.2912 - val_loss: 1.7613 - val_mae: 2.2178\n",
      "Epoch 155/200\n",
      "2155/2155 [==============================] - 0s 174us/sample - loss: 1.8351 - mae: 2.2864 - val_loss: 1.7567 - val_mae: 2.2102\n",
      "Epoch 156/200\n",
      "2155/2155 [==============================] - 0s 154us/sample - loss: 1.8364 - mae: 2.2892 - val_loss: 1.7729 - val_mae: 2.2288\n",
      "Epoch 157/200\n",
      "2155/2155 [==============================] - 0s 176us/sample - loss: 1.8710 - mae: 2.3258 - val_loss: 1.7642 - val_mae: 2.2211\n",
      "Epoch 158/200\n",
      "2155/2155 [==============================] - 0s 162us/sample - loss: 1.8661 - mae: 2.3192 - val_loss: 1.8132 - val_mae: 2.2608\n",
      "Epoch 159/200\n",
      "2155/2155 [==============================] - 0s 166us/sample - loss: 1.8351 - mae: 2.2862 - val_loss: 1.7666 - val_mae: 2.2208\n",
      "Epoch 160/200\n",
      "2155/2155 [==============================] - 0s 164us/sample - loss: 1.8449 - mae: 2.2975 - val_loss: 1.7756 - val_mae: 2.2318\n",
      "Epoch 161/200\n",
      "2155/2155 [==============================] - 0s 167us/sample - loss: 1.8306 - mae: 2.2810 - val_loss: 1.7520 - val_mae: 2.2044\n",
      "Epoch 162/200\n",
      "2155/2155 [==============================] - 0s 176us/sample - loss: 1.8392 - mae: 2.2921 - val_loss: 1.8102 - val_mae: 2.2570\n",
      "Epoch 163/200\n",
      "2155/2155 [==============================] - 0s 176us/sample - loss: 1.8461 - mae: 2.2962 - val_loss: 1.7608 - val_mae: 2.2173\n",
      "Epoch 164/200\n",
      "2155/2155 [==============================] - 0s 177us/sample - loss: 1.8309 - mae: 2.2818 - val_loss: 1.7551 - val_mae: 2.2101\n",
      "Epoch 165/200\n",
      "2155/2155 [==============================] - 0s 195us/sample - loss: 1.8418 - mae: 2.2924 - val_loss: 1.7649 - val_mae: 2.2194\n",
      "Epoch 166/200\n",
      "2155/2155 [==============================] - 0s 170us/sample - loss: 1.8329 - mae: 2.2843 - val_loss: 1.7549 - val_mae: 2.2110\n",
      "Epoch 167/200\n",
      "2155/2155 [==============================] - 0s 172us/sample - loss: 1.8393 - mae: 2.2892 - val_loss: 1.7495 - val_mae: 2.2045\n",
      "Epoch 168/200\n",
      "2155/2155 [==============================] - 0s 158us/sample - loss: 1.8192 - mae: 2.2696 - val_loss: 1.7573 - val_mae: 2.2137\n",
      "Epoch 169/200\n",
      "2155/2155 [==============================] - 0s 160us/sample - loss: 1.8259 - mae: 2.2761 - val_loss: 1.7578 - val_mae: 2.2121\n",
      "Epoch 170/200\n",
      "2155/2155 [==============================] - 0s 170us/sample - loss: 1.8312 - mae: 2.2845 - val_loss: 1.7540 - val_mae: 2.2099\n",
      "Epoch 171/200\n",
      "2155/2155 [==============================] - 0s 175us/sample - loss: 1.8406 - mae: 2.2895 - val_loss: 1.7569 - val_mae: 2.2122\n",
      "Epoch 172/200\n",
      "2155/2155 [==============================] - 0s 156us/sample - loss: 1.8329 - mae: 2.2841 - val_loss: 1.7805 - val_mae: 2.2302\n",
      "Epoch 173/200\n",
      "2155/2155 [==============================] - 0s 170us/sample - loss: 1.8433 - mae: 2.2931 - val_loss: 1.7557 - val_mae: 2.2119\n",
      "Epoch 174/200\n",
      "2155/2155 [==============================] - 0s 163us/sample - loss: 1.8266 - mae: 2.2780 - val_loss: 1.7711 - val_mae: 2.2208\n",
      "Epoch 175/200\n",
      "2155/2155 [==============================] - 0s 157us/sample - loss: 1.8554 - mae: 2.3057 - val_loss: 1.7546 - val_mae: 2.2113\n",
      "Epoch 176/200\n",
      "2155/2155 [==============================] - 0s 170us/sample - loss: 1.8359 - mae: 2.2906 - val_loss: 1.7552 - val_mae: 2.2117\n",
      "Epoch 177/200\n",
      "2155/2155 [==============================] - 0s 166us/sample - loss: 1.8511 - mae: 2.3021 - val_loss: 1.7620 - val_mae: 2.2134\n",
      "Epoch 178/200\n",
      "2155/2155 [==============================] - 0s 164us/sample - loss: 1.8338 - mae: 2.2861 - val_loss: 1.8461 - val_mae: 2.2987\n",
      "Epoch 179/200\n",
      "2155/2155 [==============================] - 0s 154us/sample - loss: 1.8407 - mae: 2.2923 - val_loss: 1.7541 - val_mae: 2.2072\n",
      "Epoch 180/200\n",
      "2155/2155 [==============================] - 0s 169us/sample - loss: 1.8235 - mae: 2.2740 - val_loss: 1.7537 - val_mae: 2.2050\n",
      "Epoch 181/200\n",
      "2155/2155 [==============================] - 0s 159us/sample - loss: 1.8440 - mae: 2.2959 - val_loss: 1.8058 - val_mae: 2.2615\n",
      "Epoch 182/200\n",
      "2155/2155 [==============================] - 0s 166us/sample - loss: 1.8402 - mae: 2.2930 - val_loss: 1.7620 - val_mae: 2.2153\n",
      "Epoch 183/200\n",
      "2155/2155 [==============================] - 0s 150us/sample - loss: 1.8390 - mae: 2.2925 - val_loss: 1.7649 - val_mae: 2.2211\n",
      "Epoch 184/200\n",
      "2155/2155 [==============================] - 0s 152us/sample - loss: 1.8537 - mae: 2.3048 - val_loss: 1.7629 - val_mae: 2.2202\n",
      "Epoch 185/200\n",
      "2155/2155 [==============================] - 0s 156us/sample - loss: 1.8344 - mae: 2.2866 - val_loss: 1.7651 - val_mae: 2.2223\n",
      "Epoch 186/200\n",
      "2155/2155 [==============================] - 0s 153us/sample - loss: 1.8369 - mae: 2.2896 - val_loss: 1.7520 - val_mae: 2.2051\n",
      "Epoch 187/200\n",
      "2155/2155 [==============================] - 0s 153us/sample - loss: 1.8237 - mae: 2.2762 - val_loss: 1.7617 - val_mae: 2.2161\n",
      "Epoch 188/200\n",
      "2155/2155 [==============================] - 0s 154us/sample - loss: 1.8690 - mae: 2.3200 - val_loss: 1.7644 - val_mae: 2.2210\n",
      "Epoch 189/200\n",
      "2155/2155 [==============================] - 0s 154us/sample - loss: 1.8389 - mae: 2.2906 - val_loss: 1.7858 - val_mae: 2.2411\n",
      "Epoch 190/200\n",
      "2155/2155 [==============================] - 0s 160us/sample - loss: 1.8371 - mae: 2.2891 - val_loss: 1.7535 - val_mae: 2.2096\n",
      "Epoch 191/200\n",
      "2155/2155 [==============================] - 0s 158us/sample - loss: 1.8247 - mae: 2.2762 - val_loss: 1.7575 - val_mae: 2.2075\n",
      "Epoch 192/200\n",
      "2155/2155 [==============================] - 0s 162us/sample - loss: 1.8465 - mae: 2.2984 - val_loss: 1.7541 - val_mae: 2.2079\n",
      "Epoch 193/200\n",
      "2155/2155 [==============================] - 0s 183us/sample - loss: 1.8330 - mae: 2.2851 - val_loss: 1.7499 - val_mae: 2.2029\n",
      "Epoch 194/200\n",
      "2155/2155 [==============================] - 0s 157us/sample - loss: 1.8288 - mae: 2.2801 - val_loss: 1.7907 - val_mae: 2.2364\n",
      "Epoch 195/200\n",
      "2155/2155 [==============================] - 0s 155us/sample - loss: 1.8293 - mae: 2.2832 - val_loss: 1.7849 - val_mae: 2.2299\n",
      "Epoch 196/200\n",
      "2155/2155 [==============================] - 0s 158us/sample - loss: 1.8511 - mae: 2.3037 - val_loss: 1.7740 - val_mae: 2.2246\n",
      "Epoch 197/200\n",
      "2155/2155 [==============================] - 0s 176us/sample - loss: 1.8387 - mae: 2.2882 - val_loss: 1.7544 - val_mae: 2.2066\n",
      "Epoch 198/200\n",
      "2155/2155 [==============================] - 0s 155us/sample - loss: 1.8503 - mae: 2.3020 - val_loss: 1.7583 - val_mae: 2.2143\n",
      "Epoch 199/200\n",
      "2155/2155 [==============================] - 0s 157us/sample - loss: 1.8238 - mae: 2.2750 - val_loss: 1.7813 - val_mae: 2.2370\n",
      "Epoch 200/200\n",
      "2155/2155 [==============================] - 0s 165us/sample - loss: 1.8279 - mae: 2.2803 - val_loss: 1.7858 - val_mae: 2.2337\n"
     ]
    }
   ],
   "source": [
    "history1 = model1.fit(X_train_3D, y_train, epochs=200, batch_size=200,\n",
    "                      validation_data=(X_valid_3D, y_valid))"
   ]
  },
  {
   "cell_type": "code",
   "execution_count": 43,
   "metadata": {},
   "outputs": [
    {
     "name": "stdout",
     "output_type": "stream",
     "text": [
      "725/725 [==============================] - 0s 152us/sample - loss: 1.7858 - mae: 2.2337\n"
     ]
    },
    {
     "data": {
      "text/plain": [
       "[1.7858449761620883, 2.2337165]"
      ]
     },
     "execution_count": 43,
     "metadata": {},
     "output_type": "execute_result"
    }
   ],
   "source": [
    "model1.evaluate(X_valid_3D, y_valid)"
   ]
  },
  {
   "cell_type": "markdown",
   "metadata": {},
   "source": [
    "## 1.10) Plot the predictions"
   ]
  },
  {
   "cell_type": "code",
   "execution_count": 44,
   "metadata": {},
   "outputs": [],
   "source": [
    "y_pred_rnn1 = model1.predict(X_valid_3D)"
   ]
  },
  {
   "cell_type": "code",
   "execution_count": 45,
   "metadata": {
    "scrolled": true
   },
   "outputs": [
    {
     "data": {
      "image/png": "[encoded data removed]",
      "text/plain": [
       "<Figure size 720x360 with 1 Axes>"
      ]
     },
     "metadata": {
      "needs_background": "light"
     },
     "output_type": "display_data"
    }
   ],
   "source": [
    "plot_predictions((\"Target\", y_valid),\n",
    "                 (\"Linear\", y_pred_linear),\n",
    "                 (\"RNN\", y_pred_rnn1),\n",
    "                 end=365)"
   ]
  },
  {
   "cell_type": "markdown",
   "metadata": {},
   "source": [
    "![Exercise](https://c1.staticflickr.com/9/8101/8553474140_c50cf08708_b.jpg)"
   ]
  },
  {
   "cell_type": "markdown",
   "metadata": {},
   "source": [
    "# Exercise 2 – Forecasting the shifted sequence (Seq2Seq)"
   ]
  },
  {
   "cell_type": "markdown",
   "metadata": {},
   "source": [
    "Now let's predict temperatures for 30 days (from t-24 to t+5) instead of just one."
   ]
  },
  {
   "cell_type": "markdown",
   "metadata": {},
   "source": [
    "## 2.1) Define the 3D targets for training, validation and testing"
   ]
  },
  {
   "cell_type": "code",
   "execution_count": null,
   "metadata": {},
   "outputs": [],
   "source": [
    "#Y_train_3D = ...\n",
    "#Y_valid_3D = ...\n",
    "#Y_test_3D = ..."
   ]
  },
  {
   "cell_type": "code",
   "execution_count": null,
   "metadata": {},
   "outputs": [],
   "source": []
  },
  {
   "cell_type": "code",
   "execution_count": null,
   "metadata": {},
   "outputs": [],
   "source": []
  },
  {
   "cell_type": "code",
   "execution_count": null,
   "metadata": {},
   "outputs": [],
   "source": []
  },
  {
   "cell_type": "markdown",
   "metadata": {},
   "source": [
    "## 2.2) Define an `mae_last_step()` function"
   ]
  },
  {
   "cell_type": "markdown",
   "metadata": {},
   "source": [
    "For the final evaluation, we only want to look at the final time step (t+5). Create an `mae_last_step()` function that computes the MAE based on the final time step."
   ]
  },
  {
   "cell_type": "code",
   "execution_count": null,
   "metadata": {},
   "outputs": [],
   "source": []
  },
  {
   "cell_type": "code",
   "execution_count": null,
   "metadata": {},
   "outputs": [],
   "source": []
  },
  {
   "cell_type": "code",
   "execution_count": null,
   "metadata": {},
   "outputs": [],
   "source": []
  },
  {
   "cell_type": "markdown",
   "metadata": {},
   "source": [
    "## 2.3) Build a Seq2Seq model"
   ]
  },
  {
   "cell_type": "markdown",
   "metadata": {},
   "source": [
    "Build a Seq2Seq model and compile it, using the Huber Loss, and using the last step MAE as the metric. Use SGD with a learning rate of 0.01. Hint: the layers are the same as earlier, except that the last RNN layer has `return_sequences=False`."
   ]
  },
  {
   "cell_type": "code",
   "execution_count": null,
   "metadata": {},
   "outputs": [],
   "source": []
  },
  {
   "cell_type": "code",
   "execution_count": null,
   "metadata": {},
   "outputs": [],
   "source": []
  },
  {
   "cell_type": "code",
   "execution_count": null,
   "metadata": {},
   "outputs": [],
   "source": []
  },
  {
   "cell_type": "markdown",
   "metadata": {},
   "source": [
    "## 2.4) Train the model"
   ]
  },
  {
   "cell_type": "markdown",
   "metadata": {},
   "source": [
    "Fit the model as earlier (but with the 3D targets). Again, evaluate the model and plot the predictions."
   ]
  },
  {
   "cell_type": "code",
   "execution_count": null,
   "metadata": {},
   "outputs": [],
   "source": []
  },
  {
   "cell_type": "code",
   "execution_count": null,
   "metadata": {},
   "outputs": [],
   "source": []
  },
  {
   "cell_type": "code",
   "execution_count": null,
   "metadata": {},
   "outputs": [],
   "source": []
  },
  {
   "cell_type": "markdown",
   "metadata": {},
   "source": [
    "![Exercise solution](https://camo.githubusercontent.com/250388fde3fac9135ead9471733ee28e049f7a37/68747470733a2f2f75706c6f61642e77696b696d656469612e6f72672f77696b6970656469612f636f6d6d6f6e732f302f30362f46696c6f735f736567756e646f5f6c6f676f5f253238666c69707065642532392e6a7067)"
   ]
  },
  {
   "cell_type": "markdown",
   "metadata": {},
   "source": [
    "# Exercise 2 – Solution"
   ]
  },
  {
   "cell_type": "markdown",
   "metadata": {},
   "source": [
    "## 2.1) Define the 3D targets for training, validation and testing"
   ]
  },
  {
   "cell_type": "code",
   "execution_count": 46,
   "metadata": {},
   "outputs": [],
   "source": [
    "Y = add_lags(temps, times=range(-24, 5+1)).iloc[30:-5]\n",
    "Y_train = Y.loc[train_slice]\n",
    "Y_valid = Y.loc[valid_slice]\n",
    "Y_test = Y.loc[test_slice]\n",
    "Y_train_3D = multilevel_df_to_ndarray(Y_train)\n",
    "Y_valid_3D = multilevel_df_to_ndarray(Y_valid)\n",
    "Y_test_3D = multilevel_df_to_ndarray(Y_test)"
   ]
  },
  {
   "cell_type": "markdown",
   "metadata": {},
   "source": [
    "## 2.2) Define an `mae_last_step()` function"
   ]
  },
  {
   "cell_type": "markdown",
   "metadata": {},
   "source": [
    "For the final evaluation, we only want to look at the final time step (t+5):"
   ]
  },
  {
   "cell_type": "code",
   "execution_count": 47,
   "metadata": {},
   "outputs": [],
   "source": [
    "K = keras.backend\n",
    "\n",
    "def mae_last_step(Y_true, Y_pred):\n",
    "    return K.mean(K.abs(Y_pred[:, -1] - Y_true[:, -1]))"
   ]
  },
  {
   "cell_type": "markdown",
   "metadata": {},
   "source": [
    "## 2.3) Build a Seq2Seq model"
   ]
  },
  {
   "cell_type": "code",
   "execution_count": 48,
   "metadata": {},
   "outputs": [],
   "source": [
    "model2 = keras.models.Sequential()\n",
    "model2.add(keras.layers.SimpleRNN(100, return_sequences=True, input_shape=input_shape))\n",
    "model2.add(keras.layers.SimpleRNN(100, return_sequences=True))\n",
    "model2.add(keras.layers.Dense(1))\n",
    "model2.compile(loss=huber_loss, optimizer=keras.optimizers.SGD(lr=0.01),\n",
    "               metrics=[mae_last_step])"
   ]
  },
  {
   "cell_type": "markdown",
   "metadata": {},
   "source": [
    "## 2.4) Train the model"
   ]
  },
  {
   "cell_type": "code",
   "execution_count": 49,
   "metadata": {},
   "outputs": [
    {
     "name": "stdout",
     "output_type": "stream",
     "text": [
      "Train on 2155 samples, validate on 725 samples\n",
      "Epoch 1/200\n",
      "2155/2155 [==============================] - 1s 369us/sample - loss: 5.6181 - mae_last_step: 5.9169 - val_loss: 2.8517 - val_mae_last_step: 3.2437\n",
      "Epoch 2/200\n",
      "2155/2155 [==============================] - 0s 169us/sample - loss: 2.7573 - mae_last_step: 3.1298 - val_loss: 2.3785 - val_mae_last_step: 2.8192\n",
      "Epoch 3/200\n",
      "2155/2155 [==============================] - 0s 163us/sample - loss: 2.5150 - mae_last_step: 2.8790 - val_loss: 2.1623 - val_mae_last_step: 2.5458\n",
      "Epoch 4/200\n",
      "2155/2155 [==============================] - 0s 194us/sample - loss: 2.2737 - mae_last_step: 2.6428 - val_loss: 2.0069 - val_mae_last_step: 2.3976\n",
      "Epoch 5/200\n",
      "2155/2155 [==============================] - 0s 170us/sample - loss: 2.2181 - mae_last_step: 2.5834 - val_loss: 2.1017 - val_mae_last_step: 2.5555\n",
      "Epoch 6/200\n",
      "2155/2155 [==============================] - 0s 167us/sample - loss: 2.1973 - mae_last_step: 2.5667 - val_loss: 1.9492 - val_mae_last_step: 2.3426\n",
      "Epoch 7/200\n",
      "2155/2155 [==============================] - 0s 181us/sample - loss: 2.1474 - mae_last_step: 2.5150 - val_loss: 2.0497 - val_mae_last_step: 2.5062\n",
      "Epoch 8/200\n",
      "2155/2155 [==============================] - 0s 191us/sample - loss: 2.0677 - mae_last_step: 2.4515 - val_loss: 1.9147 - val_mae_last_step: 2.3156\n",
      "Epoch 9/200\n",
      "2155/2155 [==============================] - 0s 172us/sample - loss: 2.0669 - mae_last_step: 2.4304 - val_loss: 1.9888 - val_mae_last_step: 2.4143\n",
      "Epoch 10/200\n",
      "2155/2155 [==============================] - 0s 169us/sample - loss: 2.0816 - mae_last_step: 2.4890 - val_loss: 2.1448 - val_mae_last_step: 2.5399\n",
      "Epoch 11/200\n",
      "2155/2155 [==============================] - 0s 187us/sample - loss: 2.0888 - mae_last_step: 2.4426 - val_loss: 1.9604 - val_mae_last_step: 2.3900\n",
      "Epoch 12/200\n",
      "2155/2155 [==============================] - 0s 175us/sample - loss: 2.0153 - mae_last_step: 2.3900 - val_loss: 1.9530 - val_mae_last_step: 2.3902\n",
      "Epoch 13/200\n",
      "2155/2155 [==============================] - 0s 156us/sample - loss: 2.0415 - mae_last_step: 2.4357 - val_loss: 1.9893 - val_mae_last_step: 2.3754\n",
      "Epoch 14/200\n",
      "2155/2155 [==============================] - 0s 162us/sample - loss: 2.0410 - mae_last_step: 2.4137 - val_loss: 1.8856 - val_mae_last_step: 2.3236\n",
      "Epoch 15/200\n",
      "2155/2155 [==============================] - 0s 160us/sample - loss: 2.0203 - mae_last_step: 2.4092 - val_loss: 2.0207 - val_mae_last_step: 2.4628\n",
      "Epoch 16/200\n",
      "2155/2155 [==============================] - 0s 162us/sample - loss: 2.0290 - mae_last_step: 2.4099 - val_loss: 1.8841 - val_mae_last_step: 2.2992\n",
      "Epoch 17/200\n",
      "2155/2155 [==============================] - 0s 167us/sample - loss: 1.9883 - mae_last_step: 2.3706 - val_loss: 1.8831 - val_mae_last_step: 2.2820\n",
      "Epoch 18/200\n",
      "2155/2155 [==============================] - 0s 161us/sample - loss: 1.9699 - mae_last_step: 2.3510 - val_loss: 1.8981 - val_mae_last_step: 2.3185\n",
      "Epoch 19/200\n",
      "2155/2155 [==============================] - 0s 159us/sample - loss: 1.9743 - mae_last_step: 2.3643 - val_loss: 1.9536 - val_mae_last_step: 2.3732\n",
      "Epoch 20/200\n",
      "2155/2155 [==============================] - 0s 161us/sample - loss: 2.0077 - mae_last_step: 2.4165 - val_loss: 1.9447 - val_mae_last_step: 2.3747\n",
      "Epoch 21/200\n",
      "2155/2155 [==============================] - 0s 160us/sample - loss: 2.0373 - mae_last_step: 2.4116 - val_loss: 1.9048 - val_mae_last_step: 2.3260\n",
      "Epoch 22/200\n",
      "2155/2155 [==============================] - 0s 161us/sample - loss: 1.9648 - mae_last_step: 2.3399 - val_loss: 1.9257 - val_mae_last_step: 2.3562\n",
      "Epoch 23/200\n",
      "2155/2155 [==============================] - 0s 164us/sample - loss: 1.9660 - mae_last_step: 2.3510 - val_loss: 1.8639 - val_mae_last_step: 2.2980\n",
      "Epoch 24/200\n",
      "2155/2155 [==============================] - 0s 163us/sample - loss: 1.9881 - mae_last_step: 2.3879 - val_loss: 1.9874 - val_mae_last_step: 2.4405\n",
      "Epoch 25/200\n",
      "2155/2155 [==============================] - 0s 166us/sample - loss: 1.9694 - mae_last_step: 2.3567 - val_loss: 1.8597 - val_mae_last_step: 2.2805\n",
      "Epoch 26/200\n",
      "2155/2155 [==============================] - 0s 160us/sample - loss: 1.9889 - mae_last_step: 2.4020 - val_loss: 1.8809 - val_mae_last_step: 2.3126\n",
      "Epoch 27/200\n",
      "2155/2155 [==============================] - 0s 162us/sample - loss: 1.9655 - mae_last_step: 2.3660 - val_loss: 1.8906 - val_mae_last_step: 2.3160\n",
      "Epoch 28/200\n",
      "2155/2155 [==============================] - 0s 163us/sample - loss: 1.9476 - mae_last_step: 2.3349 - val_loss: 1.8537 - val_mae_last_step: 2.2665\n",
      "Epoch 29/200\n",
      "2155/2155 [==============================] - 0s 161us/sample - loss: 1.9479 - mae_last_step: 2.3415 - val_loss: 1.8831 - val_mae_last_step: 2.3128\n",
      "Epoch 30/200\n",
      "2155/2155 [==============================] - 0s 161us/sample - loss: 1.9559 - mae_last_step: 2.3471 - val_loss: 1.9770 - val_mae_last_step: 2.4062\n",
      "Epoch 31/200\n",
      "2155/2155 [==============================] - 0s 163us/sample - loss: 2.0635 - mae_last_step: 2.4842 - val_loss: 1.9067 - val_mae_last_step: 2.3427\n",
      "Epoch 32/200\n",
      "2155/2155 [==============================] - 0s 160us/sample - loss: 1.9618 - mae_last_step: 2.3568 - val_loss: 1.8566 - val_mae_last_step: 2.2582\n",
      "Epoch 33/200\n",
      "2155/2155 [==============================] - 0s 157us/sample - loss: 1.9488 - mae_last_step: 2.3384 - val_loss: 1.8744 - val_mae_last_step: 2.2744\n",
      "Epoch 34/200\n",
      "2155/2155 [==============================] - 0s 159us/sample - loss: 1.9399 - mae_last_step: 2.3438 - val_loss: 1.8501 - val_mae_last_step: 2.3105\n",
      "Epoch 35/200\n",
      "2155/2155 [==============================] - 0s 159us/sample - loss: 1.9441 - mae_last_step: 2.3455 - val_loss: 1.8526 - val_mae_last_step: 2.2906\n",
      "Epoch 36/200\n",
      "2155/2155 [==============================] - 0s 159us/sample - loss: 2.0028 - mae_last_step: 2.3868 - val_loss: 1.9933 - val_mae_last_step: 2.4376\n",
      "Epoch 37/200\n",
      "2155/2155 [==============================] - 0s 157us/sample - loss: 1.9505 - mae_last_step: 2.3607 - val_loss: 1.8485 - val_mae_last_step: 2.2900\n",
      "Epoch 38/200\n",
      "2155/2155 [==============================] - 0s 161us/sample - loss: 1.9383 - mae_last_step: 2.3318 - val_loss: 1.8619 - val_mae_last_step: 2.2914\n",
      "Epoch 39/200\n",
      "2155/2155 [==============================] - 0s 159us/sample - loss: 1.9498 - mae_last_step: 2.3471 - val_loss: 1.8573 - val_mae_last_step: 2.3171\n",
      "Epoch 40/200\n",
      "2155/2155 [==============================] - 0s 157us/sample - loss: 2.0165 - mae_last_step: 2.4241 - val_loss: 1.9042 - val_mae_last_step: 2.3635\n",
      "Epoch 41/200\n",
      "2155/2155 [==============================] - 0s 159us/sample - loss: 1.9430 - mae_last_step: 2.3300 - val_loss: 1.8442 - val_mae_last_step: 2.2987\n",
      "Epoch 42/200\n",
      "2155/2155 [==============================] - 0s 160us/sample - loss: 1.9335 - mae_last_step: 2.3327 - val_loss: 1.8566 - val_mae_last_step: 2.2979\n",
      "Epoch 43/200\n",
      "2155/2155 [==============================] - 0s 157us/sample - loss: 1.9667 - mae_last_step: 2.3467 - val_loss: 1.8771 - val_mae_last_step: 2.3162\n",
      "Epoch 44/200\n",
      "2155/2155 [==============================] - 0s 156us/sample - loss: 1.9430 - mae_last_step: 2.3499 - val_loss: 1.8943 - val_mae_last_step: 2.3247\n",
      "Epoch 45/200\n",
      "2155/2155 [==============================] - 0s 156us/sample - loss: 1.9369 - mae_last_step: 2.3318 - val_loss: 1.8488 - val_mae_last_step: 2.2773\n",
      "Epoch 46/200\n",
      "2155/2155 [==============================] - 0s 154us/sample - loss: 1.9348 - mae_last_step: 2.3298 - val_loss: 1.9003 - val_mae_last_step: 2.3305\n",
      "Epoch 47/200\n",
      "2155/2155 [==============================] - 0s 195us/sample - loss: 1.9478 - mae_last_step: 2.3699 - val_loss: 1.9080 - val_mae_last_step: 2.3490\n",
      "Epoch 48/200\n",
      "2155/2155 [==============================] - 0s 162us/sample - loss: 2.0307 - mae_last_step: 2.4265 - val_loss: 1.8601 - val_mae_last_step: 2.2777\n",
      "Epoch 49/200\n",
      "2155/2155 [==============================] - 0s 161us/sample - loss: 1.9331 - mae_last_step: 2.3416 - val_loss: 1.8693 - val_mae_last_step: 2.2878\n",
      "Epoch 50/200\n",
      "2155/2155 [==============================] - 0s 200us/sample - loss: 1.9262 - mae_last_step: 2.3239 - val_loss: 1.8500 - val_mae_last_step: 2.3076\n",
      "Epoch 51/200\n",
      "2155/2155 [==============================] - 0s 177us/sample - loss: 1.9535 - mae_last_step: 2.3543 - val_loss: 1.8886 - val_mae_last_step: 2.3269\n"
     ]
    },
    {
     "name": "stdout",
     "output_type": "stream",
     "text": [
      "Epoch 52/200\n",
      "2155/2155 [==============================] - 0s 164us/sample - loss: 1.9905 - mae_last_step: 2.4120 - val_loss: 1.8614 - val_mae_last_step: 2.2804\n",
      "Epoch 53/200\n",
      "2155/2155 [==============================] - 0s 189us/sample - loss: 1.9270 - mae_last_step: 2.3299 - val_loss: 1.8412 - val_mae_last_step: 2.2612\n",
      "Epoch 54/200\n",
      "2155/2155 [==============================] - 0s 156us/sample - loss: 1.9235 - mae_last_step: 2.3248 - val_loss: 1.8506 - val_mae_last_step: 2.2641\n",
      "Epoch 55/200\n",
      "2155/2155 [==============================] - 0s 166us/sample - loss: 1.9701 - mae_last_step: 2.3375 - val_loss: 1.8477 - val_mae_last_step: 2.2781\n",
      "Epoch 56/200\n",
      "2155/2155 [==============================] - 0s 188us/sample - loss: 1.9254 - mae_last_step: 2.3251 - val_loss: 1.8515 - val_mae_last_step: 2.2912\n",
      "Epoch 57/200\n",
      "2155/2155 [==============================] - 0s 169us/sample - loss: 1.9484 - mae_last_step: 2.3552 - val_loss: 1.8560 - val_mae_last_step: 2.2998\n",
      "Epoch 58/200\n",
      "2155/2155 [==============================] - 0s 155us/sample - loss: 1.9698 - mae_last_step: 2.3691 - val_loss: 1.8520 - val_mae_last_step: 2.2857\n",
      "Epoch 59/200\n",
      "2155/2155 [==============================] - 0s 166us/sample - loss: 1.9293 - mae_last_step: 2.3270 - val_loss: 1.8405 - val_mae_last_step: 2.2660\n",
      "Epoch 60/200\n",
      "2155/2155 [==============================] - 0s 164us/sample - loss: 1.9267 - mae_last_step: 2.3238 - val_loss: 1.8387 - val_mae_last_step: 2.2569\n",
      "Epoch 61/200\n",
      "2155/2155 [==============================] - 0s 187us/sample - loss: 1.9192 - mae_last_step: 2.3306 - val_loss: 1.8522 - val_mae_last_step: 2.2811\n",
      "Epoch 62/200\n",
      "2155/2155 [==============================] - 0s 165us/sample - loss: 2.0057 - mae_last_step: 2.4107 - val_loss: 1.9316 - val_mae_last_step: 2.3525\n",
      "Epoch 63/200\n",
      "2155/2155 [==============================] - 0s 165us/sample - loss: 1.9340 - mae_last_step: 2.3394 - val_loss: 1.8354 - val_mae_last_step: 2.2928\n",
      "Epoch 64/200\n",
      "2155/2155 [==============================] - 0s 162us/sample - loss: 1.9255 - mae_last_step: 2.3273 - val_loss: 1.8679 - val_mae_last_step: 2.2862\n",
      "Epoch 65/200\n",
      "2155/2155 [==============================] - 0s 175us/sample - loss: 1.9216 - mae_last_step: 2.3317 - val_loss: 1.8334 - val_mae_last_step: 2.2637\n",
      "Epoch 66/200\n",
      "2155/2155 [==============================] - 0s 165us/sample - loss: 1.9181 - mae_last_step: 2.3187 - val_loss: 1.8593 - val_mae_last_step: 2.2748\n",
      "Epoch 67/200\n",
      "2155/2155 [==============================] - 0s 178us/sample - loss: 1.9279 - mae_last_step: 2.3460 - val_loss: 1.9512 - val_mae_last_step: 2.4234\n",
      "Epoch 68/200\n",
      "2155/2155 [==============================] - 0s 176us/sample - loss: 2.0124 - mae_last_step: 2.4167 - val_loss: 1.8895 - val_mae_last_step: 2.2967\n",
      "Epoch 69/200\n",
      "2155/2155 [==============================] - 0s 160us/sample - loss: 1.9309 - mae_last_step: 2.3374 - val_loss: 1.8758 - val_mae_last_step: 2.2972\n",
      "Epoch 70/200\n",
      "2155/2155 [==============================] - 0s 164us/sample - loss: 1.9178 - mae_last_step: 2.3311 - val_loss: 1.8316 - val_mae_last_step: 2.2813\n",
      "Epoch 71/200\n",
      "2155/2155 [==============================] - 0s 169us/sample - loss: 1.9140 - mae_last_step: 2.3240 - val_loss: 1.8538 - val_mae_last_step: 2.2992\n",
      "Epoch 72/200\n",
      "2155/2155 [==============================] - 0s 175us/sample - loss: 1.9141 - mae_last_step: 2.3188 - val_loss: 1.8339 - val_mae_last_step: 2.2575\n",
      "Epoch 73/200\n",
      "2155/2155 [==============================] - 0s 185us/sample - loss: 2.0026 - mae_last_step: 2.4013 - val_loss: 1.9057 - val_mae_last_step: 2.3382\n",
      "Epoch 74/200\n",
      "2155/2155 [==============================] - 0s 196us/sample - loss: 1.9334 - mae_last_step: 2.3259 - val_loss: 1.8796 - val_mae_last_step: 2.2992\n",
      "Epoch 75/200\n",
      "2155/2155 [==============================] - 0s 175us/sample - loss: 1.9294 - mae_last_step: 2.3238 - val_loss: 1.8310 - val_mae_last_step: 2.2760\n",
      "Epoch 76/200\n",
      "2155/2155 [==============================] - 0s 166us/sample - loss: 1.9169 - mae_last_step: 2.3164 - val_loss: 1.8313 - val_mae_last_step: 2.2764\n",
      "Epoch 77/200\n",
      "2155/2155 [==============================] - 0s 184us/sample - loss: 1.9223 - mae_last_step: 2.3117 - val_loss: 1.8311 - val_mae_last_step: 2.2778\n",
      "Epoch 78/200\n",
      "2155/2155 [==============================] - 0s 168us/sample - loss: 1.9135 - mae_last_step: 2.3197 - val_loss: 1.8551 - val_mae_last_step: 2.2695\n",
      "Epoch 79/200\n",
      "2155/2155 [==============================] - 0s 165us/sample - loss: 1.9209 - mae_last_step: 2.3303 - val_loss: 1.8376 - val_mae_last_step: 2.2835\n",
      "Epoch 80/200\n",
      "2155/2155 [==============================] - 0s 172us/sample - loss: 1.9447 - mae_last_step: 2.3429 - val_loss: 1.8427 - val_mae_last_step: 2.2678\n",
      "Epoch 81/200\n",
      "2155/2155 [==============================] - 0s 172us/sample - loss: 1.9311 - mae_last_step: 2.3192 - val_loss: 1.8465 - val_mae_last_step: 2.3225\n",
      "Epoch 82/200\n",
      "2155/2155 [==============================] - 0s 175us/sample - loss: 1.9669 - mae_last_step: 2.3543 - val_loss: 1.8367 - val_mae_last_step: 2.2705\n",
      "Epoch 83/200\n",
      "2155/2155 [==============================] - 0s 192us/sample - loss: 1.9119 - mae_last_step: 2.3183 - val_loss: 1.8327 - val_mae_last_step: 2.2743\n",
      "Epoch 84/200\n",
      "2155/2155 [==============================] - 0s 165us/sample - loss: 1.9246 - mae_last_step: 2.3367 - val_loss: 1.8352 - val_mae_last_step: 2.2649\n",
      "Epoch 85/200\n",
      "2155/2155 [==============================] - 0s 181us/sample - loss: 1.9127 - mae_last_step: 2.3047 - val_loss: 1.8316 - val_mae_last_step: 2.2674\n",
      "Epoch 86/200\n",
      "2155/2155 [==============================] - 0s 164us/sample - loss: 1.9314 - mae_last_step: 2.3453 - val_loss: 1.8902 - val_mae_last_step: 2.3202\n",
      "Epoch 87/200\n",
      "2155/2155 [==============================] - 0s 164us/sample - loss: 1.9338 - mae_last_step: 2.3309 - val_loss: 1.8284 - val_mae_last_step: 2.2342\n",
      "Epoch 88/200\n",
      "2155/2155 [==============================] - 0s 168us/sample - loss: 1.9114 - mae_last_step: 2.3062 - val_loss: 1.8304 - val_mae_last_step: 2.2423\n",
      "Epoch 89/200\n",
      "2155/2155 [==============================] - 0s 190us/sample - loss: 1.9371 - mae_last_step: 2.3422 - val_loss: 1.9392 - val_mae_last_step: 2.3679\n",
      "Epoch 90/200\n",
      "2155/2155 [==============================] - 0s 166us/sample - loss: 1.9434 - mae_last_step: 2.3508 - val_loss: 1.8497 - val_mae_last_step: 2.2836\n",
      "Epoch 91/200\n",
      "2155/2155 [==============================] - 0s 162us/sample - loss: 1.9100 - mae_last_step: 2.3145 - val_loss: 1.8292 - val_mae_last_step: 2.2712\n",
      "Epoch 92/200\n",
      "2155/2155 [==============================] - 0s 162us/sample - loss: 1.9325 - mae_last_step: 2.3481 - val_loss: 1.8532 - val_mae_last_step: 2.2738\n",
      "Epoch 93/200\n",
      "2155/2155 [==============================] - 0s 178us/sample - loss: 1.9241 - mae_last_step: 2.3395 - val_loss: 1.8684 - val_mae_last_step: 2.2998\n",
      "Epoch 94/200\n",
      "2155/2155 [==============================] - 0s 171us/sample - loss: 1.9258 - mae_last_step: 2.3227 - val_loss: 1.8330 - val_mae_last_step: 2.2746\n",
      "Epoch 95/200\n",
      "2155/2155 [==============================] - 0s 163us/sample - loss: 1.9158 - mae_last_step: 2.3109 - val_loss: 1.8641 - val_mae_last_step: 2.2847\n",
      "Epoch 96/200\n",
      "2155/2155 [==============================] - 0s 169us/sample - loss: 1.9377 - mae_last_step: 2.3415 - val_loss: 1.8554 - val_mae_last_step: 2.2681\n",
      "Epoch 97/200\n",
      "2155/2155 [==============================] - 0s 201us/sample - loss: 1.9175 - mae_last_step: 2.3210 - val_loss: 1.8257 - val_mae_last_step: 2.2414\n",
      "Epoch 98/200\n",
      "2155/2155 [==============================] - 0s 180us/sample - loss: 1.9063 - mae_last_step: 2.3060 - val_loss: 1.8337 - val_mae_last_step: 2.2494\n",
      "Epoch 99/200\n",
      "2155/2155 [==============================] - 0s 163us/sample - loss: 1.9264 - mae_last_step: 2.3284 - val_loss: 1.8965 - val_mae_last_step: 2.3228\n",
      "Epoch 100/200\n",
      "2155/2155 [==============================] - 0s 171us/sample - loss: 1.9142 - mae_last_step: 2.3141 - val_loss: 1.8313 - val_mae_last_step: 2.2528\n",
      "Epoch 101/200\n",
      "2155/2155 [==============================] - 0s 180us/sample - loss: 1.9185 - mae_last_step: 2.3143 - val_loss: 1.8940 - val_mae_last_step: 2.3217\n",
      "Epoch 102/200\n",
      "2155/2155 [==============================] - 0s 169us/sample - loss: 1.9262 - mae_last_step: 2.3039 - val_loss: 1.8232 - val_mae_last_step: 2.2416\n",
      "Epoch 103/200\n",
      "2155/2155 [==============================] - 0s 183us/sample - loss: 1.9084 - mae_last_step: 2.3046 - val_loss: 1.8242 - val_mae_last_step: 2.2475\n",
      "Epoch 104/200\n",
      "2155/2155 [==============================] - 0s 157us/sample - loss: 1.8997 - mae_last_step: 2.2992 - val_loss: 1.8225 - val_mae_last_step: 2.2578\n",
      "Epoch 105/200\n",
      "2155/2155 [==============================] - 0s 174us/sample - loss: 1.9172 - mae_last_step: 2.3232 - val_loss: 1.8808 - val_mae_last_step: 2.2960\n",
      "Epoch 106/200\n",
      "2155/2155 [==============================] - 0s 158us/sample - loss: 1.9286 - mae_last_step: 2.3262 - val_loss: 1.8277 - val_mae_last_step: 2.2622\n",
      "Epoch 107/200\n",
      "2155/2155 [==============================] - 0s 158us/sample - loss: 1.9023 - mae_last_step: 2.2962 - val_loss: 1.8218 - val_mae_last_step: 2.2362\n",
      "Epoch 108/200\n",
      "2155/2155 [==============================] - 0s 161us/sample - loss: 1.9073 - mae_last_step: 2.3092 - val_loss: 1.8803 - val_mae_last_step: 2.2722\n",
      "Epoch 109/200\n",
      "2155/2155 [==============================] - 0s 159us/sample - loss: 1.9365 - mae_last_step: 2.3227 - val_loss: 1.8376 - val_mae_last_step: 2.2826\n",
      "Epoch 110/200\n",
      "2155/2155 [==============================] - 0s 158us/sample - loss: 1.9332 - mae_last_step: 2.3510 - val_loss: 1.8603 - val_mae_last_step: 2.2752\n",
      "Epoch 111/200\n",
      "2155/2155 [==============================] - 0s 157us/sample - loss: 1.9111 - mae_last_step: 2.3060 - val_loss: 1.8379 - val_mae_last_step: 2.2569\n",
      "Epoch 112/200\n",
      "2155/2155 [==============================] - 0s 160us/sample - loss: 1.9192 - mae_last_step: 2.3120 - val_loss: 1.8230 - val_mae_last_step: 2.2569\n",
      "Epoch 113/200\n",
      "2155/2155 [==============================] - 0s 157us/sample - loss: 1.9203 - mae_last_step: 2.3178 - val_loss: 1.8602 - val_mae_last_step: 2.3052\n",
      "Epoch 114/200\n",
      "2155/2155 [==============================] - 0s 155us/sample - loss: 1.9067 - mae_last_step: 2.3155 - val_loss: 1.8277 - val_mae_last_step: 2.2881\n",
      "Epoch 115/200\n",
      "2155/2155 [==============================] - 0s 156us/sample - loss: 1.9156 - mae_last_step: 2.3183 - val_loss: 1.8199 - val_mae_last_step: 2.2585\n",
      "Epoch 116/200\n",
      "2155/2155 [==============================] - 0s 154us/sample - loss: 1.8979 - mae_last_step: 2.2921 - val_loss: 1.8228 - val_mae_last_step: 2.2725\n",
      "Epoch 117/200\n",
      "2155/2155 [==============================] - 0s 158us/sample - loss: 1.8970 - mae_last_step: 2.2960 - val_loss: 1.8667 - val_mae_last_step: 2.3053\n",
      "Epoch 118/200\n",
      "2155/2155 [==============================] - 0s 163us/sample - loss: 1.9847 - mae_last_step: 2.3730 - val_loss: 1.8188 - val_mae_last_step: 2.2581\n",
      "Epoch 119/200\n",
      "2155/2155 [==============================] - 0s 188us/sample - loss: 1.9042 - mae_last_step: 2.2936 - val_loss: 1.8202 - val_mae_last_step: 2.2323\n",
      "Epoch 120/200\n",
      "2155/2155 [==============================] - 0s 171us/sample - loss: 1.8976 - mae_last_step: 2.2998 - val_loss: 1.8195 - val_mae_last_step: 2.2371\n",
      "Epoch 121/200\n",
      "2155/2155 [==============================] - 0s 186us/sample - loss: 1.8981 - mae_last_step: 2.2861 - val_loss: 1.8425 - val_mae_last_step: 2.2890\n",
      "Epoch 122/200\n",
      "2155/2155 [==============================] - 0s 165us/sample - loss: 1.8993 - mae_last_step: 2.2901 - val_loss: 1.8617 - val_mae_last_step: 2.2776\n",
      "Epoch 123/200\n",
      "2155/2155 [==============================] - 0s 163us/sample - loss: 1.9790 - mae_last_step: 2.3473 - val_loss: 1.8961 - val_mae_last_step: 2.3306\n",
      "Epoch 124/200\n",
      "2155/2155 [==============================] - 0s 186us/sample - loss: 1.9107 - mae_last_step: 2.3070 - val_loss: 1.8203 - val_mae_last_step: 2.2355\n",
      "Epoch 125/200\n",
      "2155/2155 [==============================] - 0s 168us/sample - loss: 1.9036 - mae_last_step: 2.3098 - val_loss: 1.8245 - val_mae_last_step: 2.2416\n",
      "Epoch 126/200\n",
      "2155/2155 [==============================] - 0s 173us/sample - loss: 1.9147 - mae_last_step: 2.3028 - val_loss: 1.9157 - val_mae_last_step: 2.3432\n",
      "Epoch 127/200\n",
      "2155/2155 [==============================] - 0s 169us/sample - loss: 1.9350 - mae_last_step: 2.3271 - val_loss: 1.8198 - val_mae_last_step: 2.2418\n",
      "Epoch 128/200\n",
      "2155/2155 [==============================] - 0s 166us/sample - loss: 1.9080 - mae_last_step: 2.3197 - val_loss: 1.8724 - val_mae_last_step: 2.3011\n",
      "Epoch 129/200\n",
      "2155/2155 [==============================] - 0s 164us/sample - loss: 1.9061 - mae_last_step: 2.3127 - val_loss: 1.8235 - val_mae_last_step: 2.2417\n",
      "Epoch 130/200\n",
      "2155/2155 [==============================] - 0s 158us/sample - loss: 1.8965 - mae_last_step: 2.2912 - val_loss: 1.8174 - val_mae_last_step: 2.2252\n",
      "Epoch 131/200\n",
      "2155/2155 [==============================] - 0s 173us/sample - loss: 1.9034 - mae_last_step: 2.3058 - val_loss: 1.9240 - val_mae_last_step: 2.4065\n",
      "Epoch 132/200\n",
      "2155/2155 [==============================] - 0s 172us/sample - loss: 1.9275 - mae_last_step: 2.3240 - val_loss: 1.8187 - val_mae_last_step: 2.2309\n",
      "Epoch 133/200\n",
      "2155/2155 [==============================] - 0s 168us/sample - loss: 1.9073 - mae_last_step: 2.3042 - val_loss: 1.8530 - val_mae_last_step: 2.2961\n",
      "Epoch 134/200\n",
      "2155/2155 [==============================] - 0s 173us/sample - loss: 1.9064 - mae_last_step: 2.3006 - val_loss: 1.8166 - val_mae_last_step: 2.2453\n",
      "Epoch 135/200\n",
      "2155/2155 [==============================] - 0s 172us/sample - loss: 1.8996 - mae_last_step: 2.3035 - val_loss: 1.8546 - val_mae_last_step: 2.2638\n",
      "Epoch 136/200\n",
      "2155/2155 [==============================] - 0s 162us/sample - loss: 1.9079 - mae_last_step: 2.3138 - val_loss: 1.8153 - val_mae_last_step: 2.2312\n",
      "Epoch 137/200\n",
      "2155/2155 [==============================] - 0s 172us/sample - loss: 1.9027 - mae_last_step: 2.3074 - val_loss: 1.8171 - val_mae_last_step: 2.2424\n",
      "Epoch 138/200\n",
      "2155/2155 [==============================] - 0s 181us/sample - loss: 1.9174 - mae_last_step: 2.3204 - val_loss: 1.8411 - val_mae_last_step: 2.2345\n",
      "Epoch 139/200\n",
      "2155/2155 [==============================] - 0s 170us/sample - loss: 1.8985 - mae_last_step: 2.3008 - val_loss: 1.8172 - val_mae_last_step: 2.2389\n",
      "Epoch 140/200\n",
      "2155/2155 [==============================] - 0s 172us/sample - loss: 1.9115 - mae_last_step: 2.3085 - val_loss: 1.8834 - val_mae_last_step: 2.2864\n",
      "Epoch 141/200\n",
      "2155/2155 [==============================] - 0s 176us/sample - loss: 1.9143 - mae_last_step: 2.3153 - val_loss: 1.8230 - val_mae_last_step: 2.2583\n",
      "Epoch 142/200\n",
      "2155/2155 [==============================] - 0s 181us/sample - loss: 1.9016 - mae_last_step: 2.3046 - val_loss: 1.8332 - val_mae_last_step: 2.2417\n",
      "Epoch 143/200\n",
      "2155/2155 [==============================] - 0s 168us/sample - loss: 1.8932 - mae_last_step: 2.2966 - val_loss: 1.8408 - val_mae_last_step: 2.2578\n",
      "Epoch 144/200\n",
      "2155/2155 [==============================] - 0s 164us/sample - loss: 1.9308 - mae_last_step: 2.3359 - val_loss: 1.8290 - val_mae_last_step: 2.2518\n",
      "Epoch 145/200\n",
      "2155/2155 [==============================] - 0s 186us/sample - loss: 1.8963 - mae_last_step: 2.2819 - val_loss: 1.8197 - val_mae_last_step: 2.2212\n",
      "Epoch 146/200\n",
      "2155/2155 [==============================] - 0s 178us/sample - loss: 1.9042 - mae_last_step: 2.3101 - val_loss: 1.9557 - val_mae_last_step: 2.3807\n",
      "Epoch 147/200\n",
      "2155/2155 [==============================] - 0s 168us/sample - loss: 1.9360 - mae_last_step: 2.3579 - val_loss: 1.8154 - val_mae_last_step: 2.2526\n",
      "Epoch 148/200\n",
      "2155/2155 [==============================] - 0s 213us/sample - loss: 1.8968 - mae_last_step: 2.3066 - val_loss: 1.8200 - val_mae_last_step: 2.2643\n",
      "Epoch 149/200\n",
      "2155/2155 [==============================] - 0s 170us/sample - loss: 1.9110 - mae_last_step: 2.3146 - val_loss: 1.8833 - val_mae_last_step: 2.3041\n",
      "Epoch 150/200\n",
      "2155/2155 [==============================] - 0s 166us/sample - loss: 1.9365 - mae_last_step: 2.3433 - val_loss: 1.8184 - val_mae_last_step: 2.2491\n",
      "Epoch 151/200\n",
      "2155/2155 [==============================] - 0s 166us/sample - loss: 1.8916 - mae_last_step: 2.2854 - val_loss: 1.8139 - val_mae_last_step: 2.2473\n",
      "Epoch 152/200\n",
      "2155/2155 [==============================] - 0s 181us/sample - loss: 1.8989 - mae_last_step: 2.2899 - val_loss: 1.8321 - val_mae_last_step: 2.2615\n",
      "Epoch 153/200\n",
      "2155/2155 [==============================] - 0s 171us/sample - loss: 1.8958 - mae_last_step: 2.2967 - val_loss: 1.8129 - val_mae_last_step: 2.2460\n"
     ]
    },
    {
     "name": "stdout",
     "output_type": "stream",
     "text": [
      "Epoch 154/200\n",
      "2155/2155 [==============================] - 0s 197us/sample - loss: 1.9194 - mae_last_step: 2.3131 - val_loss: 1.8490 - val_mae_last_step: 2.2378\n",
      "Epoch 155/200\n",
      "2155/2155 [==============================] - 0s 164us/sample - loss: 1.8956 - mae_last_step: 2.2916 - val_loss: 1.8135 - val_mae_last_step: 2.2355\n",
      "Epoch 156/200\n",
      "2155/2155 [==============================] - 0s 164us/sample - loss: 1.8940 - mae_last_step: 2.2945 - val_loss: 1.8432 - val_mae_last_step: 2.2650\n",
      "Epoch 157/200\n",
      "2155/2155 [==============================] - 0s 163us/sample - loss: 1.8971 - mae_last_step: 2.2849 - val_loss: 1.8267 - val_mae_last_step: 2.2615\n",
      "Epoch 158/200\n",
      "2155/2155 [==============================] - 0s 164us/sample - loss: 1.9265 - mae_last_step: 2.3342 - val_loss: 1.8122 - val_mae_last_step: 2.2419\n",
      "Epoch 159/200\n",
      "2155/2155 [==============================] - 0s 166us/sample - loss: 1.8890 - mae_last_step: 2.2819 - val_loss: 1.8180 - val_mae_last_step: 2.2642\n",
      "Epoch 160/200\n",
      "2155/2155 [==============================] - 0s 167us/sample - loss: 1.8899 - mae_last_step: 2.2818 - val_loss: 1.8151 - val_mae_last_step: 2.2254\n",
      "Epoch 161/200\n",
      "2155/2155 [==============================] - 0s 165us/sample - loss: 1.9013 - mae_last_step: 2.2954 - val_loss: 1.8539 - val_mae_last_step: 2.2827\n",
      "Epoch 162/200\n",
      "2155/2155 [==============================] - 0s 168us/sample - loss: 1.9480 - mae_last_step: 2.3267 - val_loss: 1.8118 - val_mae_last_step: 2.2383\n",
      "Epoch 163/200\n",
      "2155/2155 [==============================] - 0s 163us/sample - loss: 1.8959 - mae_last_step: 2.2944 - val_loss: 1.8185 - val_mae_last_step: 2.2727\n",
      "Epoch 164/200\n",
      "2155/2155 [==============================] - 0s 159us/sample - loss: 1.8920 - mae_last_step: 2.2893 - val_loss: 1.8159 - val_mae_last_step: 2.2456\n",
      "Epoch 165/200\n",
      "2155/2155 [==============================] - 0s 159us/sample - loss: 1.8972 - mae_last_step: 2.2909 - val_loss: 1.8231 - val_mae_last_step: 2.2510\n",
      "Epoch 166/200\n",
      "2155/2155 [==============================] - 0s 159us/sample - loss: 1.9020 - mae_last_step: 2.2919 - val_loss: 1.8200 - val_mae_last_step: 2.2322\n",
      "Epoch 167/200\n",
      "2155/2155 [==============================] - 0s 152us/sample - loss: 1.9018 - mae_last_step: 2.2892 - val_loss: 1.8830 - val_mae_last_step: 2.2960\n",
      "Epoch 168/200\n",
      "2155/2155 [==============================] - 0s 165us/sample - loss: 1.9323 - mae_last_step: 2.3259 - val_loss: 1.8154 - val_mae_last_step: 2.2533\n",
      "Epoch 169/200\n",
      "2155/2155 [==============================] - 0s 187us/sample - loss: 1.8992 - mae_last_step: 2.2906 - val_loss: 1.8498 - val_mae_last_step: 2.2508\n",
      "Epoch 170/200\n",
      "2155/2155 [==============================] - 0s 181us/sample - loss: 1.9079 - mae_last_step: 2.3058 - val_loss: 1.8193 - val_mae_last_step: 2.2686\n",
      "Epoch 171/200\n",
      "2155/2155 [==============================] - 0s 173us/sample - loss: 1.8898 - mae_last_step: 2.2820 - val_loss: 1.8407 - val_mae_last_step: 2.2339\n",
      "Epoch 172/200\n",
      "2155/2155 [==============================] - 0s 159us/sample - loss: 1.9233 - mae_last_step: 2.3125 - val_loss: 1.8171 - val_mae_last_step: 2.2069\n",
      "Epoch 173/200\n",
      "2155/2155 [==============================] - 0s 161us/sample - loss: 1.8896 - mae_last_step: 2.2834 - val_loss: 1.8166 - val_mae_last_step: 2.2402\n",
      "Epoch 174/200\n",
      "2155/2155 [==============================] - 0s 165us/sample - loss: 1.8997 - mae_last_step: 2.3022 - val_loss: 1.8213 - val_mae_last_step: 2.2135\n",
      "Epoch 175/200\n",
      "2155/2155 [==============================] - 0s 185us/sample - loss: 1.9115 - mae_last_step: 2.3090 - val_loss: 1.8303 - val_mae_last_step: 2.2616\n",
      "Epoch 176/200\n",
      "2155/2155 [==============================] - 0s 199us/sample - loss: 1.9103 - mae_last_step: 2.3002 - val_loss: 1.8134 - val_mae_last_step: 2.2418\n",
      "Epoch 177/200\n",
      "2155/2155 [==============================] - 0s 162us/sample - loss: 1.8873 - mae_last_step: 2.2796 - val_loss: 1.8176 - val_mae_last_step: 2.2243\n",
      "Epoch 178/200\n",
      "2155/2155 [==============================] - 0s 157us/sample - loss: 1.8970 - mae_last_step: 2.2948 - val_loss: 1.8095 - val_mae_last_step: 2.2422\n",
      "Epoch 179/200\n",
      "2155/2155 [==============================] - 0s 161us/sample - loss: 1.8886 - mae_last_step: 2.2805 - val_loss: 1.8267 - val_mae_last_step: 2.2695\n",
      "Epoch 180/200\n",
      "2155/2155 [==============================] - 0s 171us/sample - loss: 1.9144 - mae_last_step: 2.2972 - val_loss: 1.8533 - val_mae_last_step: 2.2389\n",
      "Epoch 181/200\n",
      "2155/2155 [==============================] - 0s 170us/sample - loss: 1.9089 - mae_last_step: 2.2909 - val_loss: 1.8263 - val_mae_last_step: 2.2756\n",
      "Epoch 182/200\n",
      "2155/2155 [==============================] - 0s 168us/sample - loss: 1.8891 - mae_last_step: 2.2684 - val_loss: 1.8188 - val_mae_last_step: 2.2155\n",
      "Epoch 183/200\n",
      "2155/2155 [==============================] - 0s 185us/sample - loss: 1.9067 - mae_last_step: 2.3071 - val_loss: 1.8199 - val_mae_last_step: 2.2421\n",
      "Epoch 184/200\n",
      "2155/2155 [==============================] - 0s 173us/sample - loss: 1.8948 - mae_last_step: 2.2880 - val_loss: 1.8525 - val_mae_last_step: 2.2635\n",
      "Epoch 185/200\n",
      "2155/2155 [==============================] - 0s 182us/sample - loss: 1.9086 - mae_last_step: 2.3076 - val_loss: 1.8154 - val_mae_last_step: 2.2321\n",
      "Epoch 186/200\n",
      "2155/2155 [==============================] - 0s 184us/sample - loss: 1.8842 - mae_last_step: 2.2776 - val_loss: 1.8159 - val_mae_last_step: 2.2408\n",
      "Epoch 187/200\n",
      "2155/2155 [==============================] - 0s 172us/sample - loss: 1.8940 - mae_last_step: 2.2883 - val_loss: 1.8358 - val_mae_last_step: 2.2554\n",
      "Epoch 188/200\n",
      "2155/2155 [==============================] - 0s 181us/sample - loss: 1.9006 - mae_last_step: 2.3002 - val_loss: 1.8313 - val_mae_last_step: 2.2670\n",
      "Epoch 189/200\n",
      "2155/2155 [==============================] - 0s 184us/sample - loss: 1.9171 - mae_last_step: 2.2824 - val_loss: 1.8464 - val_mae_last_step: 2.2397\n",
      "Epoch 190/200\n",
      "2155/2155 [==============================] - 0s 165us/sample - loss: 1.8914 - mae_last_step: 2.2871 - val_loss: 1.8103 - val_mae_last_step: 2.2406\n",
      "Epoch 191/200\n",
      "2155/2155 [==============================] - 0s 180us/sample - loss: 1.8860 - mae_last_step: 2.2786 - val_loss: 1.8117 - val_mae_last_step: 2.2752\n",
      "Epoch 192/200\n",
      "2155/2155 [==============================] - 0s 185us/sample - loss: 1.8847 - mae_last_step: 2.2794 - val_loss: 1.8127 - val_mae_last_step: 2.2201\n",
      "Epoch 193/200\n",
      "2155/2155 [==============================] - 0s 168us/sample - loss: 1.9072 - mae_last_step: 2.2962 - val_loss: 1.8073 - val_mae_last_step: 2.2364\n",
      "Epoch 194/200\n",
      "2155/2155 [==============================] - 0s 181us/sample - loss: 1.9104 - mae_last_step: 2.3043 - val_loss: 1.9123 - val_mae_last_step: 2.3252\n",
      "Epoch 195/200\n",
      "2155/2155 [==============================] - 0s 168us/sample - loss: 1.9197 - mae_last_step: 2.3086 - val_loss: 1.8077 - val_mae_last_step: 2.2374\n",
      "Epoch 196/200\n",
      "2155/2155 [==============================] - 0s 177us/sample - loss: 1.8849 - mae_last_step: 2.2709 - val_loss: 1.8118 - val_mae_last_step: 2.2469\n",
      "Epoch 197/200\n",
      "2155/2155 [==============================] - 0s 179us/sample - loss: 1.8871 - mae_last_step: 2.2801 - val_loss: 1.8191 - val_mae_last_step: 2.2316\n",
      "Epoch 198/200\n",
      "2155/2155 [==============================] - 0s 168us/sample - loss: 1.9130 - mae_last_step: 2.3093 - val_loss: 1.8129 - val_mae_last_step: 2.2577\n",
      "Epoch 199/200\n",
      "2155/2155 [==============================] - 0s 180us/sample - loss: 1.8934 - mae_last_step: 2.2769 - val_loss: 1.8292 - val_mae_last_step: 2.2243\n",
      "Epoch 200/200\n",
      "2155/2155 [==============================] - 0s 162us/sample - loss: 1.8901 - mae_last_step: 2.2909 - val_loss: 1.8094 - val_mae_last_step: 2.2290\n"
     ]
    }
   ],
   "source": [
    "history2 = model2.fit(X_train_3D, Y_train_3D, epochs=200, batch_size=200,\n",
    "                      validation_data=(X_valid_3D, Y_valid_3D))"
   ]
  },
  {
   "cell_type": "code",
   "execution_count": 51,
   "metadata": {},
   "outputs": [
    {
     "data": {
      "image/png": "[encoded data removed]",
      "text/plain": [
       "<Figure size 432x288 with 1 Axes>"
      ]
     },
     "metadata": {
      "needs_background": "light"
     },
     "output_type": "display_data"
    }
   ],
   "source": [
    "plot_history(history2, loss=\"mae_last_step\")"
   ]
  },
  {
   "cell_type": "code",
   "execution_count": 52,
   "metadata": {},
   "outputs": [
    {
     "name": "stdout",
     "output_type": "stream",
     "text": [
      "725/725 [==============================] - 0s 139us/sample - loss: 1.8094 - mae_last_step: 2.2376\n"
     ]
    },
    {
     "data": {
      "text/plain": [
       "[1.8094089379803888, 2.2375774]"
      ]
     },
     "execution_count": 52,
     "metadata": {},
     "output_type": "execute_result"
    }
   ],
   "source": [
    "model2.evaluate(X_valid_3D, Y_valid_3D)"
   ]
  },
  {
   "cell_type": "code",
   "execution_count": 53,
   "metadata": {},
   "outputs": [],
   "source": [
    "y_pred_rnn2 = model2.predict(X_valid_3D)[:, -1]"
   ]
  },
  {
   "cell_type": "code",
   "execution_count": 54,
   "metadata": {},
   "outputs": [
    {
     "data": {
      "image/png": "[encoded data removed]",
      "text/plain": [
       "<Figure size 720x360 with 1 Axes>"
      ]
     },
     "metadata": {
      "needs_background": "light"
     },
     "output_type": "display_data"
    }
   ],
   "source": [
    "plot_predictions((\"Target\", y_valid),\n",
    "                 (\"Linear\", y_pred_linear),\n",
    "                 (\"RNN\", y_pred_rnn2),\n",
    "                 end=365)"
   ]
  },
  {
   "cell_type": "markdown",
   "metadata": {},
   "source": [
    "![Exercise](https://c1.staticflickr.com/9/8101/8553474140_c50cf08708_b.jpg)"
   ]
  },
  {
   "cell_type": "markdown",
   "metadata": {},
   "source": [
    "# Exercise 3 – LSTM and GRU"
   ]
  },
  {
   "cell_type": "markdown",
   "metadata": {},
   "source": [
    "## 3.1) Build, train and evaluate a Seq2Seq LSTM"
   ]
  },
  {
   "cell_type": "markdown",
   "metadata": {},
   "source": [
    "Train the same model as earlier but using `LSTM` or `GRU` instead of `SimpleRNN`. You can also try reducing the learning rate when the validation loss reaches a plateau, using the `ReduceLROnPlateau` callback."
   ]
  },
  {
   "cell_type": "code",
   "execution_count": null,
   "metadata": {},
   "outputs": [],
   "source": []
  },
  {
   "cell_type": "code",
   "execution_count": null,
   "metadata": {},
   "outputs": [],
   "source": []
  },
  {
   "cell_type": "code",
   "execution_count": null,
   "metadata": {},
   "outputs": [],
   "source": []
  },
  {
   "cell_type": "markdown",
   "metadata": {},
   "source": [
    "## 3.2) Add $\\ell_2$ regularization"
   ]
  },
  {
   "cell_type": "markdown",
   "metadata": {},
   "source": [
    "Add $\\ell_2$ regularization to your RNN, using the layers' `kernel_regularizer` and `recurrent_regularizer` arguments, and the `l2()` function in `keras.regularizers`. Tip: use the `partial()` function in the `functools` package to avoid repeating the same arguments again and again."
   ]
  },
  {
   "cell_type": "code",
   "execution_count": null,
   "metadata": {},
   "outputs": [],
   "source": []
  },
  {
   "cell_type": "code",
   "execution_count": null,
   "metadata": {},
   "outputs": [],
   "source": []
  },
  {
   "cell_type": "code",
   "execution_count": null,
   "metadata": {},
   "outputs": [],
   "source": []
  },
  {
   "cell_type": "markdown",
   "metadata": {},
   "source": [
    "![Exercise solution](https://camo.githubusercontent.com/250388fde3fac9135ead9471733ee28e049f7a37/68747470733a2f2f75706c6f61642e77696b696d656469612e6f72672f77696b6970656469612f636f6d6d6f6e732f302f30362f46696c6f735f736567756e646f5f6c6f676f5f253238666c69707065642532392e6a7067)"
   ]
  },
  {
   "cell_type": "markdown",
   "metadata": {},
   "source": [
    "# Exercise 3 – Solution"
   ]
  },
  {
   "cell_type": "markdown",
   "metadata": {},
   "source": [
    "## 3.1) Build, train and evaluate a Seq2Seq LSTM"
   ]
  },
  {
   "cell_type": "markdown",
   "metadata": {},
   "source": [
    "You can try replacing `LSTM` with `GRU`."
   ]
  },
  {
   "cell_type": "code",
   "execution_count": 55,
   "metadata": {},
   "outputs": [],
   "source": [
    "model3 = keras.models.Sequential()\n",
    "model3.add(keras.layers.LSTM(100, return_sequences=True, input_shape=input_shape))\n",
    "model3.add(keras.layers.LSTM(100, return_sequences=True))\n",
    "model3.add(keras.layers.Dense(1))\n",
    "model3.compile(loss=huber_loss, optimizer=keras.optimizers.SGD(lr=0.01),\n",
    "               metrics=[mae_last_step])"
   ]
  },
  {
   "cell_type": "code",
   "execution_count": 56,
   "metadata": {},
   "outputs": [
    {
     "name": "stdout",
     "output_type": "stream",
     "text": [
      "Train on 2155 samples, validate on 725 samples\n",
      "Epoch 1/200\n",
      "2155/2155 [==============================] - 2s 735us/sample - loss: 9.0115 - mae_last_step: 9.1380 - val_loss: 7.6200 - val_mae_last_step: 7.5634\n",
      "Epoch 2/200\n",
      "2155/2155 [==============================] - 1s 442us/sample - loss: 6.1082 - mae_last_step: 5.8739 - val_loss: 4.9602 - val_mae_last_step: 4.7153\n",
      "Epoch 3/200\n",
      "2155/2155 [==============================] - 1s 439us/sample - loss: 4.1355 - mae_last_step: 3.8768 - val_loss: 3.4802 - val_mae_last_step: 3.2701\n",
      "Epoch 4/200\n",
      "2155/2155 [==============================] - 1s 479us/sample - loss: 3.3409 - mae_last_step: 3.2031 - val_loss: 3.0018 - val_mae_last_step: 2.9163\n",
      "Epoch 5/200\n",
      "2155/2155 [==============================] - 1s 454us/sample - loss: 3.1396 - mae_last_step: 3.1308 - val_loss: 2.8819 - val_mae_last_step: 2.8913\n",
      "Epoch 6/200\n",
      "2155/2155 [==============================] - 1s 432us/sample - loss: 3.0828 - mae_last_step: 3.1228 - val_loss: 2.8312 - val_mae_last_step: 2.8789\n",
      "Epoch 7/200\n",
      "2155/2155 [==============================] - 1s 435us/sample - loss: 3.0473 - mae_last_step: 3.1165 - val_loss: 2.7960 - val_mae_last_step: 2.8600\n",
      "Epoch 8/200\n",
      "2155/2155 [==============================] - 1s 477us/sample - loss: 3.0039 - mae_last_step: 3.0710 - val_loss: 2.7450 - val_mae_last_step: 2.8029\n",
      "Epoch 9/200\n",
      "2155/2155 [==============================] - 1s 489us/sample - loss: 2.9370 - mae_last_step: 2.9943 - val_loss: 2.6806 - val_mae_last_step: 2.6921\n",
      "Epoch 10/200\n",
      "2155/2155 [==============================] - 1s 436us/sample - loss: 2.8567 - mae_last_step: 2.8972 - val_loss: 2.5984 - val_mae_last_step: 2.5845\n",
      "Epoch 11/200\n",
      "2155/2155 [==============================] - 1s 428us/sample - loss: 2.7606 - mae_last_step: 2.7736 - val_loss: 2.5389 - val_mae_last_step: 2.5896\n",
      "Epoch 12/200\n",
      "2155/2155 [==============================] - 1s 428us/sample - loss: 2.6833 - mae_last_step: 2.6975 - val_loss: 2.4292 - val_mae_last_step: 2.3442\n",
      "Epoch 13/200\n",
      "2155/2155 [==============================] - 1s 441us/sample - loss: 2.6464 - mae_last_step: 2.6910 - val_loss: 2.4411 - val_mae_last_step: 2.4591\n",
      "Epoch 14/200\n",
      "2155/2155 [==============================] - 1s 430us/sample - loss: 2.5236 - mae_last_step: 2.5232 - val_loss: 2.4832 - val_mae_last_step: 2.8323\n",
      "Epoch 15/200\n",
      "2155/2155 [==============================] - 1s 446us/sample - loss: 2.5114 - mae_last_step: 2.5779 - val_loss: 2.4458 - val_mae_last_step: 2.5017\n",
      "Epoch 16/200\n",
      "2155/2155 [==============================] - 1s 469us/sample - loss: 2.4159 - mae_last_step: 2.4370 - val_loss: 2.3363 - val_mae_last_step: 2.6171\n",
      "Epoch 17/200\n",
      "2155/2155 [==============================] - 1s 445us/sample - loss: 2.4084 - mae_last_step: 2.5125 - val_loss: 2.2137 - val_mae_last_step: 2.2391\n",
      "Epoch 18/200\n",
      "2155/2155 [==============================] - 1s 448us/sample - loss: 2.3691 - mae_last_step: 2.4606 - val_loss: 2.1994 - val_mae_last_step: 2.3632\n",
      "Epoch 19/200\n",
      "2155/2155 [==============================] - 1s 435us/sample - loss: 2.3471 - mae_last_step: 2.4467 - val_loss: 2.1765 - val_mae_last_step: 2.2295\n",
      "Epoch 20/200\n",
      "2155/2155 [==============================] - 1s 449us/sample - loss: 2.2979 - mae_last_step: 2.3793 - val_loss: 2.1363 - val_mae_last_step: 2.2451\n",
      "Epoch 21/200\n",
      "2155/2155 [==============================] - 1s 478us/sample - loss: 2.2574 - mae_last_step: 2.3651 - val_loss: 2.1889 - val_mae_last_step: 2.2897\n",
      "Epoch 22/200\n",
      "2155/2155 [==============================] - 1s 434us/sample - loss: 2.2613 - mae_last_step: 2.3542 - val_loss: 2.1508 - val_mae_last_step: 2.3518\n",
      "Epoch 23/200\n",
      "2155/2155 [==============================] - 1s 471us/sample - loss: 2.2558 - mae_last_step: 2.3816 - val_loss: 2.1363 - val_mae_last_step: 2.2373\n",
      "Epoch 24/200\n",
      "2155/2155 [==============================] - 1s 442us/sample - loss: 2.2208 - mae_last_step: 2.3482 - val_loss: 2.1151 - val_mae_last_step: 2.1906\n",
      "Epoch 25/200\n",
      "2155/2155 [==============================] - 1s 439us/sample - loss: 2.2496 - mae_last_step: 2.3652 - val_loss: 2.1520 - val_mae_last_step: 2.3661\n",
      "Epoch 26/200\n",
      "2155/2155 [==============================] - 1s 438us/sample - loss: 2.2040 - mae_last_step: 2.3467 - val_loss: 2.0945 - val_mae_last_step: 2.2094\n",
      "Epoch 27/200\n",
      "2155/2155 [==============================] - 1s 441us/sample - loss: 2.2131 - mae_last_step: 2.3513 - val_loss: 2.1010 - val_mae_last_step: 2.2860\n",
      "Epoch 28/200\n",
      "2155/2155 [==============================] - 1s 437us/sample - loss: 2.1880 - mae_last_step: 2.3449 - val_loss: 2.1198 - val_mae_last_step: 2.2538\n",
      "Epoch 29/200\n",
      "2155/2155 [==============================] - 1s 448us/sample - loss: 2.1918 - mae_last_step: 2.3387 - val_loss: 2.1209 - val_mae_last_step: 2.3531\n",
      "Epoch 30/200\n",
      "2155/2155 [==============================] - 1s 443us/sample - loss: 2.1810 - mae_last_step: 2.3361 - val_loss: 2.0616 - val_mae_last_step: 2.2636\n",
      "Epoch 31/200\n",
      "2155/2155 [==============================] - 1s 470us/sample - loss: 2.1565 - mae_last_step: 2.3076 - val_loss: 2.0568 - val_mae_last_step: 2.2156\n",
      "Epoch 32/200\n",
      "2155/2155 [==============================] - 1s 433us/sample - loss: 2.1731 - mae_last_step: 2.3217 - val_loss: 2.0715 - val_mae_last_step: 2.2560\n",
      "Epoch 33/200\n",
      "2155/2155 [==============================] - 1s 445us/sample - loss: 2.1576 - mae_last_step: 2.3131 - val_loss: 2.0480 - val_mae_last_step: 2.2231\n",
      "Epoch 34/200\n",
      "2155/2155 [==============================] - 1s 453us/sample - loss: 2.1432 - mae_last_step: 2.3089 - val_loss: 2.0447 - val_mae_last_step: 2.2297\n",
      "Epoch 35/200\n",
      "2155/2155 [==============================] - 1s 439us/sample - loss: 2.1395 - mae_last_step: 2.3090 - val_loss: 2.0372 - val_mae_last_step: 2.2200\n",
      "Epoch 36/200\n",
      "2155/2155 [==============================] - 1s 440us/sample - loss: 2.1300 - mae_last_step: 2.2994 - val_loss: 2.0483 - val_mae_last_step: 2.2583\n",
      "Epoch 37/200\n",
      "2155/2155 [==============================] - 1s 503us/sample - loss: 2.1238 - mae_last_step: 2.2950 - val_loss: 2.0323 - val_mae_last_step: 2.2104\n",
      "Epoch 38/200\n",
      "2155/2155 [==============================] - 1s 463us/sample - loss: 2.1165 - mae_last_step: 2.2995 - val_loss: 2.0299 - val_mae_last_step: 2.2291\n",
      "Epoch 39/200\n",
      "2155/2155 [==============================] - 1s 511us/sample - loss: 2.1217 - mae_last_step: 2.2962 - val_loss: 2.0852 - val_mae_last_step: 2.3399\n",
      "Epoch 40/200\n",
      "2155/2155 [==============================] - 1s 471us/sample - loss: 2.1245 - mae_last_step: 2.3116 - val_loss: 2.0286 - val_mae_last_step: 2.2388\n",
      "Epoch 41/200\n",
      "2155/2155 [==============================] - 1s 471us/sample - loss: 2.1297 - mae_last_step: 2.3256 - val_loss: 2.0332 - val_mae_last_step: 2.2684\n",
      "Epoch 42/200\n",
      "2155/2155 [==============================] - 1s 463us/sample - loss: 2.1077 - mae_last_step: 2.3073 - val_loss: 2.0108 - val_mae_last_step: 2.2120\n",
      "Epoch 43/200\n",
      "2155/2155 [==============================] - 1s 474us/sample - loss: 2.1237 - mae_last_step: 2.3349 - val_loss: 2.0343 - val_mae_last_step: 2.2573\n",
      "Epoch 44/200\n",
      "2155/2155 [==============================] - 1s 462us/sample - loss: 2.0932 - mae_last_step: 2.2856 - val_loss: 2.0049 - val_mae_last_step: 2.1933\n",
      "Epoch 45/200\n",
      "2155/2155 [==============================] - 1s 450us/sample - loss: 2.0902 - mae_last_step: 2.3013 - val_loss: 2.0200 - val_mae_last_step: 2.2675\n",
      "Epoch 46/200\n",
      "2155/2155 [==============================] - 1s 463us/sample - loss: 2.1097 - mae_last_step: 2.3273 - val_loss: 1.9990 - val_mae_last_step: 2.1961\n",
      "Epoch 47/200\n",
      "2155/2155 [==============================] - 1s 482us/sample - loss: 2.0805 - mae_last_step: 2.2856 - val_loss: 1.9955 - val_mae_last_step: 2.2424\n",
      "Epoch 48/200\n",
      "2155/2155 [==============================] - 1s 457us/sample - loss: 2.0791 - mae_last_step: 2.2873 - val_loss: 1.9992 - val_mae_last_step: 2.1997\n",
      "Epoch 49/200\n",
      "2155/2155 [==============================] - 1s 480us/sample - loss: 2.0889 - mae_last_step: 2.2966 - val_loss: 1.9918 - val_mae_last_step: 2.2285\n",
      "Epoch 50/200\n",
      "2155/2155 [==============================] - 1s 457us/sample - loss: 2.0820 - mae_last_step: 2.2985 - val_loss: 1.9888 - val_mae_last_step: 2.2178\n",
      "Epoch 51/200\n",
      "2155/2155 [==============================] - 1s 472us/sample - loss: 2.0723 - mae_last_step: 2.3012 - val_loss: 2.0190 - val_mae_last_step: 2.2537\n"
     ]
    },
    {
     "name": "stdout",
     "output_type": "stream",
     "text": [
      "Epoch 52/200\n",
      "2155/2155 [==============================] - 1s 462us/sample - loss: 2.0754 - mae_last_step: 2.3016 - val_loss: 2.0075 - val_mae_last_step: 2.2539\n",
      "Epoch 53/200\n",
      "2155/2155 [==============================] - 1s 466us/sample - loss: 2.0741 - mae_last_step: 2.3068 - val_loss: 1.9805 - val_mae_last_step: 2.2147\n",
      "Epoch 54/200\n",
      "2155/2155 [==============================] - 1s 453us/sample - loss: 2.0663 - mae_last_step: 2.2830 - val_loss: 2.0093 - val_mae_last_step: 2.2578\n",
      "Epoch 55/200\n",
      "2155/2155 [==============================] - 1s 467us/sample - loss: 2.0813 - mae_last_step: 2.3283 - val_loss: 1.9833 - val_mae_last_step: 2.2481\n",
      "Epoch 56/200\n",
      "2155/2155 [==============================] - 1s 479us/sample - loss: 2.0620 - mae_last_step: 2.2877 - val_loss: 1.9762 - val_mae_last_step: 2.2122\n",
      "Epoch 57/200\n",
      "2155/2155 [==============================] - 1s 461us/sample - loss: 2.0713 - mae_last_step: 2.3094 - val_loss: 1.9704 - val_mae_last_step: 2.2277\n",
      "Epoch 58/200\n",
      "2155/2155 [==============================] - 1s 464us/sample - loss: 2.0661 - mae_last_step: 2.3183 - val_loss: 1.9866 - val_mae_last_step: 2.2587\n",
      "Epoch 59/200\n",
      "2155/2155 [==============================] - 1s 470us/sample - loss: 2.0497 - mae_last_step: 2.2818 - val_loss: 1.9829 - val_mae_last_step: 2.2383\n",
      "Epoch 60/200\n",
      "2155/2155 [==============================] - 1s 462us/sample - loss: 2.0696 - mae_last_step: 2.3134 - val_loss: 1.9659 - val_mae_last_step: 2.2119\n",
      "Epoch 61/200\n",
      "2155/2155 [==============================] - 1s 451us/sample - loss: 2.0677 - mae_last_step: 2.3202 - val_loss: 1.9629 - val_mae_last_step: 2.2206\n",
      "Epoch 62/200\n",
      "2155/2155 [==============================] - 1s 464us/sample - loss: 2.0410 - mae_last_step: 2.2746 - val_loss: 1.9788 - val_mae_last_step: 2.2527\n",
      "Epoch 63/200\n",
      "2155/2155 [==============================] - 1s 451us/sample - loss: 2.0495 - mae_last_step: 2.2851 - val_loss: 2.0055 - val_mae_last_step: 2.2769\n",
      "Epoch 64/200\n",
      "2155/2155 [==============================] - 1s 469us/sample - loss: 2.0475 - mae_last_step: 2.3019 - val_loss: 1.9591 - val_mae_last_step: 2.2192\n",
      "Epoch 65/200\n",
      "2155/2155 [==============================] - 1s 453us/sample - loss: 2.0399 - mae_last_step: 2.2906 - val_loss: 1.9685 - val_mae_last_step: 2.2225\n",
      "Epoch 66/200\n",
      "2155/2155 [==============================] - 1s 474us/sample - loss: 2.0314 - mae_last_step: 2.2809 - val_loss: 1.9644 - val_mae_last_step: 2.2298\n",
      "Epoch 67/200\n",
      "2155/2155 [==============================] - 1s 465us/sample - loss: 2.0396 - mae_last_step: 2.2865 - val_loss: 2.0207 - val_mae_last_step: 2.3077\n",
      "Epoch 68/200\n",
      "2155/2155 [==============================] - 1s 446us/sample - loss: 2.0496 - mae_last_step: 2.3084 - val_loss: 1.9497 - val_mae_last_step: 2.2318\n",
      "Epoch 69/200\n",
      "2155/2155 [==============================] - 1s 454us/sample - loss: 2.0367 - mae_last_step: 2.2974 - val_loss: 1.9586 - val_mae_last_step: 2.2163\n",
      "Epoch 70/200\n",
      "2155/2155 [==============================] - 1s 474us/sample - loss: 2.0241 - mae_last_step: 2.2871 - val_loss: 1.9643 - val_mae_last_step: 2.2223\n",
      "Epoch 71/200\n",
      "2155/2155 [==============================] - 1s 431us/sample - loss: 2.0437 - mae_last_step: 2.3134 - val_loss: 2.0035 - val_mae_last_step: 2.3148\n",
      "Epoch 72/200\n",
      "2155/2155 [==============================] - 1s 441us/sample - loss: 2.0280 - mae_last_step: 2.3027 - val_loss: 1.9567 - val_mae_last_step: 2.2277\n",
      "Epoch 73/200\n",
      "2155/2155 [==============================] - 1s 452us/sample - loss: 2.0392 - mae_last_step: 2.3146 - val_loss: 1.9534 - val_mae_last_step: 2.2044\n",
      "Epoch 74/200\n",
      "2155/2155 [==============================] - 1s 446us/sample - loss: 2.0172 - mae_last_step: 2.2758 - val_loss: 1.9496 - val_mae_last_step: 2.2634\n",
      "Epoch 75/200\n",
      "2155/2155 [==============================] - 1s 453us/sample - loss: 2.0286 - mae_last_step: 2.2960 - val_loss: 1.9708 - val_mae_last_step: 2.1999\n",
      "Epoch 76/200\n",
      "2155/2155 [==============================] - 1s 444us/sample - loss: 2.0218 - mae_last_step: 2.2817 - val_loss: 1.9425 - val_mae_last_step: 2.2179\n",
      "Epoch 77/200\n",
      "2155/2155 [==============================] - 1s 457us/sample - loss: 2.0174 - mae_last_step: 2.3028 - val_loss: 1.9437 - val_mae_last_step: 2.2566\n",
      "Epoch 78/200\n",
      "2155/2155 [==============================] - 1s 495us/sample - loss: 2.0301 - mae_last_step: 2.3145 - val_loss: 1.9328 - val_mae_last_step: 2.2441\n",
      "Epoch 79/200\n",
      "2155/2155 [==============================] - 1s 454us/sample - loss: 2.0213 - mae_last_step: 2.3077 - val_loss: 1.9351 - val_mae_last_step: 2.2347\n",
      "Epoch 80/200\n",
      "2155/2155 [==============================] - 1s 431us/sample - loss: 2.0071 - mae_last_step: 2.2756 - val_loss: 1.9309 - val_mae_last_step: 2.2250\n",
      "Epoch 81/200\n",
      "2155/2155 [==============================] - 1s 455us/sample - loss: 2.0285 - mae_last_step: 2.2995 - val_loss: 1.9503 - val_mae_last_step: 2.2564\n",
      "Epoch 82/200\n",
      "2155/2155 [==============================] - 1s 475us/sample - loss: 2.0134 - mae_last_step: 2.2835 - val_loss: 1.9296 - val_mae_last_step: 2.1887\n",
      "Epoch 83/200\n",
      "2155/2155 [==============================] - 1s 437us/sample - loss: 2.0177 - mae_last_step: 2.2934 - val_loss: 1.9359 - val_mae_last_step: 2.2441\n",
      "Epoch 84/200\n",
      "2155/2155 [==============================] - 1s 463us/sample - loss: 2.0188 - mae_last_step: 2.2934 - val_loss: 1.9281 - val_mae_last_step: 2.2159\n",
      "Epoch 85/200\n",
      "2155/2155 [==============================] - 1s 443us/sample - loss: 2.0074 - mae_last_step: 2.2807 - val_loss: 1.9391 - val_mae_last_step: 2.2124\n",
      "Epoch 86/200\n",
      "2155/2155 [==============================] - 1s 449us/sample - loss: 2.0019 - mae_last_step: 2.2947 - val_loss: 1.9289 - val_mae_last_step: 2.2322\n",
      "Epoch 87/200\n",
      "2155/2155 [==============================] - 1s 448us/sample - loss: 1.9962 - mae_last_step: 2.2760 - val_loss: 1.9298 - val_mae_last_step: 2.2285\n",
      "Epoch 88/200\n",
      "2155/2155 [==============================] - 1s 445us/sample - loss: 2.0086 - mae_last_step: 2.2901 - val_loss: 1.9387 - val_mae_last_step: 2.2275\n",
      "Epoch 89/200\n",
      "2155/2155 [==============================] - 1s 447us/sample - loss: 2.0074 - mae_last_step: 2.2923 - val_loss: 1.9400 - val_mae_last_step: 2.2070\n",
      "Epoch 90/200\n",
      "2155/2155 [==============================] - 1s 446us/sample - loss: 2.0082 - mae_last_step: 2.2756 - val_loss: 1.9182 - val_mae_last_step: 2.2286\n",
      "Epoch 91/200\n",
      "2155/2155 [==============================] - 1s 444us/sample - loss: 2.0010 - mae_last_step: 2.2928 - val_loss: 1.9479 - val_mae_last_step: 2.3079\n",
      "Epoch 92/200\n",
      "2155/2155 [==============================] - 1s 452us/sample - loss: 2.0073 - mae_last_step: 2.3023 - val_loss: 1.9277 - val_mae_last_step: 2.2205\n",
      "Epoch 93/200\n",
      "2155/2155 [==============================] - 1s 462us/sample - loss: 2.0146 - mae_last_step: 2.2936 - val_loss: 1.9303 - val_mae_last_step: 2.2456\n",
      "Epoch 94/200\n",
      "2155/2155 [==============================] - 1s 438us/sample - loss: 1.9929 - mae_last_step: 2.2830 - val_loss: 1.9569 - val_mae_last_step: 2.2564\n",
      "Epoch 95/200\n",
      "2155/2155 [==============================] - 1s 440us/sample - loss: 2.0080 - mae_last_step: 2.2986 - val_loss: 1.9130 - val_mae_last_step: 2.2364\n",
      "Epoch 96/200\n",
      "2155/2155 [==============================] - 1s 442us/sample - loss: 2.0059 - mae_last_step: 2.2945 - val_loss: 1.9422 - val_mae_last_step: 2.2406\n",
      "Epoch 97/200\n",
      "2155/2155 [==============================] - 1s 445us/sample - loss: 1.9948 - mae_last_step: 2.2864 - val_loss: 1.9155 - val_mae_last_step: 2.2301\n",
      "Epoch 98/200\n",
      "2155/2155 [==============================] - 1s 449us/sample - loss: 1.9845 - mae_last_step: 2.2768 - val_loss: 1.9271 - val_mae_last_step: 2.2238\n",
      "Epoch 99/200\n",
      "2155/2155 [==============================] - 1s 446us/sample - loss: 2.0056 - mae_last_step: 2.2885 - val_loss: 1.9108 - val_mae_last_step: 2.2418\n",
      "Epoch 100/200\n",
      "2155/2155 [==============================] - 1s 444us/sample - loss: 2.0015 - mae_last_step: 2.2861 - val_loss: 1.9125 - val_mae_last_step: 2.2248\n",
      "Epoch 101/200\n",
      "2155/2155 [==============================] - 1s 466us/sample - loss: 1.9934 - mae_last_step: 2.2833 - val_loss: 1.9098 - val_mae_last_step: 2.2294\n",
      "Epoch 102/200\n",
      "2155/2155 [==============================] - 1s 489us/sample - loss: 1.9933 - mae_last_step: 2.2794 - val_loss: 1.9383 - val_mae_last_step: 2.2222\n",
      "Epoch 103/200\n",
      "2155/2155 [==============================] - 1s 433us/sample - loss: 1.9863 - mae_last_step: 2.2848 - val_loss: 1.9105 - val_mae_last_step: 2.1987\n",
      "Epoch 104/200\n",
      "2155/2155 [==============================] - 1s 436us/sample - loss: 1.9936 - mae_last_step: 2.2859 - val_loss: 1.9084 - val_mae_last_step: 2.2030\n",
      "Epoch 105/200\n",
      "2155/2155 [==============================] - 1s 440us/sample - loss: 1.9838 - mae_last_step: 2.2841 - val_loss: 1.9247 - val_mae_last_step: 2.2074\n",
      "Epoch 106/200\n",
      "2155/2155 [==============================] - 1s 444us/sample - loss: 1.9933 - mae_last_step: 2.3057 - val_loss: 1.9056 - val_mae_last_step: 2.2309\n",
      "Epoch 107/200\n",
      "2155/2155 [==============================] - 1s 445us/sample - loss: 1.9841 - mae_last_step: 2.2944 - val_loss: 1.9204 - val_mae_last_step: 2.1964\n",
      "Epoch 108/200\n",
      "2155/2155 [==============================] - 1s 479us/sample - loss: 1.9900 - mae_last_step: 2.2994 - val_loss: 1.9122 - val_mae_last_step: 2.2422\n",
      "Epoch 109/200\n",
      "2155/2155 [==============================] - 1s 458us/sample - loss: 1.9939 - mae_last_step: 2.3106 - val_loss: 1.8997 - val_mae_last_step: 2.2444\n",
      "Epoch 110/200\n",
      "2155/2155 [==============================] - 1s 471us/sample - loss: 1.9757 - mae_last_step: 2.2709 - val_loss: 1.9042 - val_mae_last_step: 2.2296\n",
      "Epoch 111/200\n",
      "2155/2155 [==============================] - 1s 461us/sample - loss: 1.9787 - mae_last_step: 2.2723 - val_loss: 1.9006 - val_mae_last_step: 2.2360\n",
      "Epoch 112/200\n",
      "2155/2155 [==============================] - 1s 441us/sample - loss: 1.9872 - mae_last_step: 2.3039 - val_loss: 1.9097 - val_mae_last_step: 2.2239\n",
      "Epoch 113/200\n",
      "2155/2155 [==============================] - 1s 449us/sample - loss: 1.9715 - mae_last_step: 2.2743 - val_loss: 1.8988 - val_mae_last_step: 2.2186\n",
      "Epoch 114/200\n",
      "2155/2155 [==============================] - 1s 491us/sample - loss: 1.9801 - mae_last_step: 2.2796 - val_loss: 1.9049 - val_mae_last_step: 2.2128\n",
      "Epoch 115/200\n",
      "2155/2155 [==============================] - 1s 444us/sample - loss: 1.9724 - mae_last_step: 2.2755 - val_loss: 1.9052 - val_mae_last_step: 2.2513\n",
      "Epoch 116/200\n",
      "2155/2155 [==============================] - 1s 444us/sample - loss: 1.9682 - mae_last_step: 2.2788 - val_loss: 1.8956 - val_mae_last_step: 2.2215\n",
      "Epoch 117/200\n",
      "2155/2155 [==============================] - 1s 457us/sample - loss: 1.9693 - mae_last_step: 2.2730 - val_loss: 1.8961 - val_mae_last_step: 2.2148\n",
      "Epoch 118/200\n",
      "2155/2155 [==============================] - 1s 456us/sample - loss: 1.9671 - mae_last_step: 2.2825 - val_loss: 1.9110 - val_mae_last_step: 2.2275\n",
      "Epoch 119/200\n",
      "2155/2155 [==============================] - 1s 446us/sample - loss: 2.0005 - mae_last_step: 2.3181 - val_loss: 1.9158 - val_mae_last_step: 2.2455\n",
      "Epoch 120/200\n",
      "2155/2155 [==============================] - 1s 459us/sample - loss: 1.9777 - mae_last_step: 2.2833 - val_loss: 1.8966 - val_mae_last_step: 2.1996\n",
      "Epoch 121/200\n",
      "2155/2155 [==============================] - 1s 465us/sample - loss: 1.9916 - mae_last_step: 2.2957 - val_loss: 1.8901 - val_mae_last_step: 2.2156\n",
      "Epoch 122/200\n",
      "2155/2155 [==============================] - 1s 459us/sample - loss: 1.9619 - mae_last_step: 2.2674 - val_loss: 1.8916 - val_mae_last_step: 2.2146\n",
      "Epoch 123/200\n",
      "2155/2155 [==============================] - 1s 438us/sample - loss: 1.9706 - mae_last_step: 2.2880 - val_loss: 1.9072 - val_mae_last_step: 2.2190\n",
      "Epoch 124/200\n",
      "2155/2155 [==============================] - 1s 444us/sample - loss: 1.9869 - mae_last_step: 2.3002 - val_loss: 1.8909 - val_mae_last_step: 2.2017\n",
      "Epoch 125/200\n",
      "2155/2155 [==============================] - 1s 478us/sample - loss: 1.9643 - mae_last_step: 2.2772 - val_loss: 1.8897 - val_mae_last_step: 2.2426\n",
      "Epoch 126/200\n",
      "2155/2155 [==============================] - 1s 468us/sample - loss: 1.9795 - mae_last_step: 2.3004 - val_loss: 1.8987 - val_mae_last_step: 2.2048\n",
      "Epoch 127/200\n",
      "2155/2155 [==============================] - 1s 455us/sample - loss: 1.9628 - mae_last_step: 2.2831 - val_loss: 1.8906 - val_mae_last_step: 2.2409\n",
      "Epoch 128/200\n",
      "2155/2155 [==============================] - 1s 437us/sample - loss: 1.9727 - mae_last_step: 2.2975 - val_loss: 1.8983 - val_mae_last_step: 2.1998\n",
      "Epoch 129/200\n",
      "2155/2155 [==============================] - 1s 464us/sample - loss: 1.9667 - mae_last_step: 2.2895 - val_loss: 1.8882 - val_mae_last_step: 2.2234\n",
      "Epoch 130/200\n",
      "2155/2155 [==============================] - 1s 469us/sample - loss: 1.9654 - mae_last_step: 2.2830 - val_loss: 1.8924 - val_mae_last_step: 2.1776\n",
      "Epoch 131/200\n",
      "2155/2155 [==============================] - 1s 484us/sample - loss: 1.9771 - mae_last_step: 2.3029 - val_loss: 1.8880 - val_mae_last_step: 2.2428\n",
      "Epoch 132/200\n",
      "2155/2155 [==============================] - 1s 464us/sample - loss: 1.9600 - mae_last_step: 2.2863 - val_loss: 1.8834 - val_mae_last_step: 2.2369\n",
      "Epoch 133/200\n",
      "2155/2155 [==============================] - 1s 441us/sample - loss: 1.9566 - mae_last_step: 2.2808 - val_loss: 1.8846 - val_mae_last_step: 2.2456\n",
      "Epoch 134/200\n",
      "2155/2155 [==============================] - 1s 474us/sample - loss: 1.9688 - mae_last_step: 2.2883 - val_loss: 1.8965 - val_mae_last_step: 2.2378\n",
      "Epoch 135/200\n",
      "2155/2155 [==============================] - 1s 473us/sample - loss: 1.9545 - mae_last_step: 2.2876 - val_loss: 1.8814 - val_mae_last_step: 2.1911\n",
      "Epoch 136/200\n",
      "2155/2155 [==============================] - 1s 465us/sample - loss: 1.9781 - mae_last_step: 2.2914 - val_loss: 1.8856 - val_mae_last_step: 2.1959\n",
      "Epoch 137/200\n",
      "2155/2155 [==============================] - 1s 477us/sample - loss: 1.9538 - mae_last_step: 2.2757 - val_loss: 1.8841 - val_mae_last_step: 2.2037\n",
      "Epoch 138/200\n",
      "2155/2155 [==============================] - 1s 461us/sample - loss: 1.9632 - mae_last_step: 2.2995 - val_loss: 1.8824 - val_mae_last_step: 2.2321\n",
      "Epoch 139/200\n",
      "2155/2155 [==============================] - 1s 454us/sample - loss: 1.9796 - mae_last_step: 2.3050 - val_loss: 1.9076 - val_mae_last_step: 2.2228\n",
      "Epoch 140/200\n",
      "2155/2155 [==============================] - 1s 467us/sample - loss: 1.9565 - mae_last_step: 2.2744 - val_loss: 1.9060 - val_mae_last_step: 2.2868\n",
      "Epoch 141/200\n",
      "2155/2155 [==============================] - 1s 461us/sample - loss: 1.9736 - mae_last_step: 2.3137 - val_loss: 1.8797 - val_mae_last_step: 2.2033\n",
      "Epoch 142/200\n",
      "2155/2155 [==============================] - 1s 446us/sample - loss: 1.9612 - mae_last_step: 2.2935 - val_loss: 1.8848 - val_mae_last_step: 2.2048\n",
      "Epoch 143/200\n",
      "2155/2155 [==============================] - 1s 442us/sample - loss: 1.9602 - mae_last_step: 2.2916 - val_loss: 1.8832 - val_mae_last_step: 2.2295\n",
      "Epoch 144/200\n",
      "2155/2155 [==============================] - 1s 460us/sample - loss: 1.9594 - mae_last_step: 2.2839 - val_loss: 1.8794 - val_mae_last_step: 2.2260\n",
      "Epoch 145/200\n",
      "2155/2155 [==============================] - 1s 461us/sample - loss: 1.9632 - mae_last_step: 2.2944 - val_loss: 1.8876 - val_mae_last_step: 2.2721\n",
      "Epoch 146/200\n",
      "2155/2155 [==============================] - 1s 461us/sample - loss: 1.9619 - mae_last_step: 2.2901 - val_loss: 1.8976 - val_mae_last_step: 2.2516\n",
      "Epoch 147/200\n",
      "2155/2155 [==============================] - 1s 470us/sample - loss: 1.9583 - mae_last_step: 2.2863 - val_loss: 1.8789 - val_mae_last_step: 2.2180\n",
      "Epoch 148/200\n",
      "2155/2155 [==============================] - 1s 434us/sample - loss: 1.9482 - mae_last_step: 2.2713 - val_loss: 1.8809 - val_mae_last_step: 2.2253\n",
      "Epoch 149/200\n",
      "2155/2155 [==============================] - 1s 475us/sample - loss: 1.9497 - mae_last_step: 2.2655 - val_loss: 1.8776 - val_mae_last_step: 2.2245\n",
      "Epoch 150/200\n",
      "2155/2155 [==============================] - 1s 472us/sample - loss: 1.9594 - mae_last_step: 2.2860 - val_loss: 1.8843 - val_mae_last_step: 2.2497\n",
      "Epoch 151/200\n",
      "2155/2155 [==============================] - 1s 469us/sample - loss: 1.9517 - mae_last_step: 2.2865 - val_loss: 1.8849 - val_mae_last_step: 2.2023\n",
      "Epoch 152/200\n",
      "2155/2155 [==============================] - 1s 494us/sample - loss: 1.9551 - mae_last_step: 2.2990 - val_loss: 1.9137 - val_mae_last_step: 2.2621\n",
      "Epoch 153/200\n",
      "2155/2155 [==============================] - 1s 446us/sample - loss: 1.9511 - mae_last_step: 2.2932 - val_loss: 1.8740 - val_mae_last_step: 2.2194\n"
     ]
    },
    {
     "name": "stdout",
     "output_type": "stream",
     "text": [
      "Epoch 154/200\n",
      "2155/2155 [==============================] - 1s 460us/sample - loss: 1.9721 - mae_last_step: 2.2923 - val_loss: 1.8738 - val_mae_last_step: 2.2311\n",
      "Epoch 155/200\n",
      "2155/2155 [==============================] - 1s 432us/sample - loss: 1.9482 - mae_last_step: 2.2754 - val_loss: 1.8757 - val_mae_last_step: 2.1936\n",
      "Epoch 156/200\n",
      "2155/2155 [==============================] - 1s 461us/sample - loss: 1.9486 - mae_last_step: 2.2755 - val_loss: 1.8718 - val_mae_last_step: 2.2195\n",
      "Epoch 157/200\n",
      "2155/2155 [==============================] - 1s 459us/sample - loss: 1.9423 - mae_last_step: 2.2793 - val_loss: 1.8732 - val_mae_last_step: 2.2430\n",
      "Epoch 158/200\n",
      "2155/2155 [==============================] - 1s 494us/sample - loss: 1.9603 - mae_last_step: 2.2812 - val_loss: 1.8731 - val_mae_last_step: 2.2148\n",
      "Epoch 159/200\n",
      "2155/2155 [==============================] - 1s 461us/sample - loss: 1.9547 - mae_last_step: 2.2825 - val_loss: 1.8761 - val_mae_last_step: 2.2616\n",
      "Epoch 160/200\n",
      "2155/2155 [==============================] - 1s 474us/sample - loss: 1.9419 - mae_last_step: 2.2777 - val_loss: 1.8689 - val_mae_last_step: 2.2055\n",
      "Epoch 161/200\n",
      "2155/2155 [==============================] - 1s 446us/sample - loss: 1.9399 - mae_last_step: 2.2702 - val_loss: 1.8680 - val_mae_last_step: 2.2242\n",
      "Epoch 162/200\n",
      "2155/2155 [==============================] - 1s 457us/sample - loss: 1.9455 - mae_last_step: 2.2890 - val_loss: 1.8784 - val_mae_last_step: 2.1934\n",
      "Epoch 163/200\n",
      "2155/2155 [==============================] - 1s 432us/sample - loss: 1.9405 - mae_last_step: 2.2726 - val_loss: 1.8784 - val_mae_last_step: 2.2707\n",
      "Epoch 164/200\n",
      "2155/2155 [==============================] - 1s 431us/sample - loss: 1.9495 - mae_last_step: 2.2897 - val_loss: 1.8692 - val_mae_last_step: 2.2055\n",
      "Epoch 165/200\n",
      "2155/2155 [==============================] - 1s 437us/sample - loss: 1.9539 - mae_last_step: 2.2979 - val_loss: 1.8765 - val_mae_last_step: 2.2105\n",
      "Epoch 166/200\n",
      "2155/2155 [==============================] - 1s 438us/sample - loss: 1.9409 - mae_last_step: 2.2852 - val_loss: 1.8725 - val_mae_last_step: 2.2375\n",
      "Epoch 167/200\n",
      "2155/2155 [==============================] - 1s 462us/sample - loss: 1.9560 - mae_last_step: 2.2970 - val_loss: 1.8864 - val_mae_last_step: 2.2446\n",
      "Epoch 168/200\n",
      "2155/2155 [==============================] - 1s 441us/sample - loss: 1.9441 - mae_last_step: 2.2803 - val_loss: 1.8648 - val_mae_last_step: 2.2121\n",
      "Epoch 169/200\n",
      "2155/2155 [==============================] - 1s 436us/sample - loss: 1.9418 - mae_last_step: 2.2878 - val_loss: 1.8625 - val_mae_last_step: 2.2122\n",
      "Epoch 170/200\n",
      "2155/2155 [==============================] - 1s 434us/sample - loss: 1.9467 - mae_last_step: 2.2899 - val_loss: 1.8660 - val_mae_last_step: 2.1927\n",
      "Epoch 171/200\n",
      "2155/2155 [==============================] - 1s 442us/sample - loss: 1.9450 - mae_last_step: 2.2901 - val_loss: 1.8630 - val_mae_last_step: 2.2125\n",
      "Epoch 172/200\n",
      "2155/2155 [==============================] - 1s 459us/sample - loss: 1.9532 - mae_last_step: 2.2979 - val_loss: 1.8711 - val_mae_last_step: 2.1826\n",
      "Epoch 173/200\n",
      "2155/2155 [==============================] - 1s 478us/sample - loss: 1.9355 - mae_last_step: 2.2789 - val_loss: 1.8726 - val_mae_last_step: 2.2595\n",
      "Epoch 174/200\n",
      "2155/2155 [==============================] - 1s 478us/sample - loss: 1.9412 - mae_last_step: 2.2974 - val_loss: 1.8605 - val_mae_last_step: 2.2575\n",
      "Epoch 175/200\n",
      "2155/2155 [==============================] - 1s 449us/sample - loss: 1.9481 - mae_last_step: 2.2954 - val_loss: 1.8843 - val_mae_last_step: 2.2024\n",
      "Epoch 176/200\n",
      "2155/2155 [==============================] - 1s 476us/sample - loss: 1.9336 - mae_last_step: 2.2804 - val_loss: 1.8611 - val_mae_last_step: 2.1997\n",
      "Epoch 177/200\n",
      "2155/2155 [==============================] - 1s 451us/sample - loss: 1.9427 - mae_last_step: 2.2883 - val_loss: 1.8669 - val_mae_last_step: 2.2583\n",
      "Epoch 178/200\n",
      "2155/2155 [==============================] - 1s 462us/sample - loss: 1.9446 - mae_last_step: 2.2848 - val_loss: 1.8854 - val_mae_last_step: 2.2639\n",
      "Epoch 179/200\n",
      "2155/2155 [==============================] - 1s 461us/sample - loss: 1.9480 - mae_last_step: 2.2778 - val_loss: 1.8768 - val_mae_last_step: 2.2813\n",
      "Epoch 180/200\n",
      "2155/2155 [==============================] - 1s 449us/sample - loss: 1.9466 - mae_last_step: 2.2848 - val_loss: 1.8665 - val_mae_last_step: 2.2347\n",
      "Epoch 181/200\n",
      "2155/2155 [==============================] - 1s 439us/sample - loss: 1.9447 - mae_last_step: 2.2834 - val_loss: 1.8582 - val_mae_last_step: 2.2187\n",
      "Epoch 182/200\n",
      "2155/2155 [==============================] - 1s 445us/sample - loss: 1.9335 - mae_last_step: 2.2778 - val_loss: 1.8747 - val_mae_last_step: 2.2043\n",
      "Epoch 183/200\n",
      "2155/2155 [==============================] - 1s 459us/sample - loss: 1.9332 - mae_last_step: 2.2748 - val_loss: 1.8579 - val_mae_last_step: 2.2266\n",
      "Epoch 184/200\n",
      "2155/2155 [==============================] - 1s 478us/sample - loss: 1.9298 - mae_last_step: 2.2718 - val_loss: 1.8594 - val_mae_last_step: 2.2131\n",
      "Epoch 185/200\n",
      "2155/2155 [==============================] - 1s 464us/sample - loss: 1.9284 - mae_last_step: 2.2704 - val_loss: 1.8585 - val_mae_last_step: 2.2130\n",
      "Epoch 186/200\n",
      "2155/2155 [==============================] - 1s 440us/sample - loss: 1.9416 - mae_last_step: 2.2942 - val_loss: 1.8574 - val_mae_last_step: 2.1959\n",
      "Epoch 187/200\n",
      "2155/2155 [==============================] - 1s 477us/sample - loss: 1.9380 - mae_last_step: 2.2885 - val_loss: 1.8551 - val_mae_last_step: 2.1897\n",
      "Epoch 188/200\n",
      "2155/2155 [==============================] - 1s 476us/sample - loss: 1.9303 - mae_last_step: 2.2723 - val_loss: 1.8686 - val_mae_last_step: 2.2420\n",
      "Epoch 189/200\n",
      "2155/2155 [==============================] - 1s 469us/sample - loss: 1.9413 - mae_last_step: 2.2754 - val_loss: 1.8540 - val_mae_last_step: 2.2182\n",
      "Epoch 190/200\n",
      "2155/2155 [==============================] - 1s 467us/sample - loss: 1.9296 - mae_last_step: 2.2812 - val_loss: 1.8545 - val_mae_last_step: 2.1865\n",
      "Epoch 191/200\n",
      "2155/2155 [==============================] - 1s 471us/sample - loss: 1.9329 - mae_last_step: 2.2771 - val_loss: 1.8595 - val_mae_last_step: 2.2171\n",
      "Epoch 192/200\n",
      "2155/2155 [==============================] - 1s 458us/sample - loss: 1.9306 - mae_last_step: 2.2755 - val_loss: 1.8560 - val_mae_last_step: 2.1983\n",
      "Epoch 193/200\n",
      "2155/2155 [==============================] - 1s 445us/sample - loss: 1.9273 - mae_last_step: 2.2745 - val_loss: 1.8579 - val_mae_last_step: 2.2357\n",
      "Epoch 194/200\n",
      "2155/2155 [==============================] - 1s 446us/sample - loss: 1.9411 - mae_last_step: 2.2979 - val_loss: 1.8663 - val_mae_last_step: 2.1980\n",
      "Epoch 195/200\n",
      "2155/2155 [==============================] - 1s 466us/sample - loss: 1.9325 - mae_last_step: 2.2890 - val_loss: 1.8593 - val_mae_last_step: 2.2334\n",
      "Epoch 196/200\n",
      "2155/2155 [==============================] - 1s 476us/sample - loss: 1.9273 - mae_last_step: 2.2664 - val_loss: 1.8678 - val_mae_last_step: 2.2665\n",
      "Epoch 197/200\n",
      "2155/2155 [==============================] - 1s 468us/sample - loss: 1.9269 - mae_last_step: 2.2753 - val_loss: 1.8538 - val_mae_last_step: 2.2120\n",
      "Epoch 198/200\n",
      "2155/2155 [==============================] - 1s 467us/sample - loss: 1.9274 - mae_last_step: 2.2820 - val_loss: 1.8522 - val_mae_last_step: 2.1867\n",
      "Epoch 199/200\n",
      "2155/2155 [==============================] - 1s 463us/sample - loss: 1.9305 - mae_last_step: 2.2756 - val_loss: 1.8526 - val_mae_last_step: 2.2045\n",
      "Epoch 200/200\n",
      "2155/2155 [==============================] - 1s 461us/sample - loss: 1.9360 - mae_last_step: 2.2839 - val_loss: 1.8574 - val_mae_last_step: 2.2208\n"
     ]
    }
   ],
   "source": [
    "history3 = model3.fit(X_train_3D, Y_train_3D, epochs=200, batch_size=200,\n",
    "                      validation_data=(X_valid_3D, Y_valid_3D),\n",
    "                      callbacks=[keras.callbacks.ReduceLROnPlateau(verbose=1)])"
   ]
  },
  {
   "cell_type": "code",
   "execution_count": 57,
   "metadata": {},
   "outputs": [
    {
     "name": "stdout",
     "output_type": "stream",
     "text": [
      "725/725 [==============================] - 0s 291us/sample - loss: 1.8574 - mae_last_step: 2.2430\n"
     ]
    },
    {
     "data": {
      "text/plain": [
       "[1.8573907845595787, 2.2430065]"
      ]
     },
     "execution_count": 57,
     "metadata": {},
     "output_type": "execute_result"
    }
   ],
   "source": [
    "model3.evaluate(X_valid_3D, Y_valid_3D)"
   ]
  },
  {
   "cell_type": "code",
   "execution_count": 58,
   "metadata": {
    "scrolled": true
   },
   "outputs": [
    {
     "data": {
      "image/png": "[encoded data removed]",
      "text/plain": [
       "<Figure size 432x288 with 1 Axes>"
      ]
     },
     "metadata": {
      "needs_background": "light"
     },
     "output_type": "display_data"
    }
   ],
   "source": [
    "plot_history(history3, loss=\"mae_last_step\")"
   ]
  },
  {
   "cell_type": "code",
   "execution_count": 59,
   "metadata": {},
   "outputs": [],
   "source": [
    "y_pred_rnn3 = model3.predict(X_valid_3D)[:, -1]"
   ]
  },
  {
   "cell_type": "code",
   "execution_count": 60,
   "metadata": {},
   "outputs": [
    {
     "data": {
      "image/png": "[encoded data removed]",
      "text/plain": [
       "<Figure size 720x360 with 1 Axes>"
      ]
     },
     "metadata": {
      "needs_background": "light"
     },
     "output_type": "display_data"
    }
   ],
   "source": [
    "plot_predictions((\"Target\", y_valid),\n",
    "                 (\"Linear\", y_pred_linear),\n",
    "                 (\"RNN\", y_pred_rnn3),\n",
    "                 end=365)"
   ]
  },
  {
   "cell_type": "markdown",
   "metadata": {},
   "source": [
    "## 3.2) Add $\\ell_2$ regularization"
   ]
  },
  {
   "cell_type": "code",
   "execution_count": 61,
   "metadata": {},
   "outputs": [],
   "source": [
    "from functools import partial"
   ]
  },
  {
   "cell_type": "code",
   "execution_count": 62,
   "metadata": {},
   "outputs": [],
   "source": [
    "RegularizedLSTM = partial(keras.layers.LSTM,\n",
    "                          return_sequences=True,\n",
    "                          kernel_regularizer=keras.regularizers.l2(1e-4),\n",
    "                          recurrent_regularizer=keras.regularizers.l2(1e-4))"
   ]
  },
  {
   "cell_type": "code",
   "execution_count": 63,
   "metadata": {},
   "outputs": [],
   "source": [
    "model3 = keras.models.Sequential()\n",
    "model3.add(RegularizedLSTM(100, input_shape=input_shape))\n",
    "model3.add(RegularizedLSTM(100))\n",
    "model3.add(keras.layers.Dense(1))\n",
    "model3.compile(loss=huber_loss, optimizer=keras.optimizers.SGD(lr=0.01),\n",
    "               metrics=[mae_last_step])"
   ]
  },
  {
   "cell_type": "code",
   "execution_count": 64,
   "metadata": {},
   "outputs": [
    {
     "name": "stdout",
     "output_type": "stream",
     "text": [
      "Train on 2155 samples, validate on 725 samples\n",
      "Epoch 1/200\n",
      "2155/2155 [==============================] - 2s 940us/sample - loss: 7.7622 - mae_last_step: 7.6717 - val_loss: 5.4321 - val_mae_last_step: 5.2936\n",
      "Epoch 2/200\n",
      "2155/2155 [==============================] - 1s 561us/sample - loss: 4.0095 - mae_last_step: 3.7558 - val_loss: 3.1087 - val_mae_last_step: 2.9331\n",
      "Epoch 3/200\n",
      "2155/2155 [==============================] - 1s 521us/sample - loss: 3.1588 - mae_last_step: 3.1321 - val_loss: 2.8678 - val_mae_last_step: 2.8642\n",
      "Epoch 4/200\n",
      "2155/2155 [==============================] - 1s 530us/sample - loss: 3.0715 - mae_last_step: 3.1258 - val_loss: 2.7944 - val_mae_last_step: 2.8270\n",
      "Epoch 5/200\n",
      "2155/2155 [==============================] - 1s 550us/sample - loss: 2.9704 - mae_last_step: 3.0080 - val_loss: 2.6905 - val_mae_last_step: 2.6747\n",
      "Epoch 6/200\n",
      "2155/2155 [==============================] - 1s 544us/sample - loss: 2.8225 - mae_last_step: 2.8519 - val_loss: 2.5876 - val_mae_last_step: 2.5771\n",
      "Epoch 7/200\n",
      "2155/2155 [==============================] - 1s 539us/sample - loss: 2.6549 - mae_last_step: 2.6664 - val_loss: 2.4116 - val_mae_last_step: 2.5184\n",
      "Epoch 8/200\n",
      "2155/2155 [==============================] - 1s 593us/sample - loss: 2.5039 - mae_last_step: 2.5208 - val_loss: 2.3898 - val_mae_last_step: 2.5737\n",
      "Epoch 9/200\n",
      "2155/2155 [==============================] - 1s 555us/sample - loss: 2.4479 - mae_last_step: 2.4969 - val_loss: 2.3296 - val_mae_last_step: 2.5481\n",
      "Epoch 10/200\n",
      "2155/2155 [==============================] - 1s 575us/sample - loss: 2.3462 - mae_last_step: 2.3728 - val_loss: 2.2799 - val_mae_last_step: 2.4304\n",
      "Epoch 11/200\n",
      "2155/2155 [==============================] - 1s 572us/sample - loss: 2.3201 - mae_last_step: 2.3832 - val_loss: 2.1501 - val_mae_last_step: 2.2021\n",
      "Epoch 12/200\n",
      "2155/2155 [==============================] - 1s 564us/sample - loss: 2.2678 - mae_last_step: 2.3519 - val_loss: 2.1726 - val_mae_last_step: 2.2257\n",
      "Epoch 13/200\n",
      "2155/2155 [==============================] - 1s 536us/sample - loss: 2.2533 - mae_last_step: 2.3457 - val_loss: 2.1724 - val_mae_last_step: 2.2927\n",
      "Epoch 14/200\n",
      "2155/2155 [==============================] - 1s 522us/sample - loss: 2.2435 - mae_last_step: 2.3542 - val_loss: 2.1590 - val_mae_last_step: 2.3269\n",
      "Epoch 15/200\n",
      "2155/2155 [==============================] - 1s 513us/sample - loss: 2.1983 - mae_last_step: 2.3129 - val_loss: 2.1113 - val_mae_last_step: 2.2723\n",
      "Epoch 16/200\n",
      "2155/2155 [==============================] - 1s 517us/sample - loss: 2.1821 - mae_last_step: 2.3143 - val_loss: 2.1098 - val_mae_last_step: 2.3149\n",
      "Epoch 17/200\n",
      "2155/2155 [==============================] - 1s 530us/sample - loss: 2.1804 - mae_last_step: 2.3206 - val_loss: 2.0789 - val_mae_last_step: 2.1688\n",
      "Epoch 18/200\n",
      "2155/2155 [==============================] - 1s 522us/sample - loss: 2.1794 - mae_last_step: 2.3157 - val_loss: 2.0689 - val_mae_last_step: 2.1758\n",
      "Epoch 19/200\n",
      "2155/2155 [==============================] - 1s 535us/sample - loss: 2.1615 - mae_last_step: 2.3101 - val_loss: 2.0675 - val_mae_last_step: 2.2068\n",
      "Epoch 20/200\n",
      "2155/2155 [==============================] - 1s 519us/sample - loss: 2.1659 - mae_last_step: 2.3280 - val_loss: 2.0511 - val_mae_last_step: 2.1832\n",
      "Epoch 21/200\n",
      "2155/2155 [==============================] - 1s 566us/sample - loss: 2.1390 - mae_last_step: 2.2993 - val_loss: 2.0779 - val_mae_last_step: 2.2002\n",
      "Epoch 22/200\n",
      "2155/2155 [==============================] - 1s 568us/sample - loss: 2.1516 - mae_last_step: 2.3071 - val_loss: 2.0453 - val_mae_last_step: 2.2660\n",
      "Epoch 23/200\n",
      "2155/2155 [==============================] - 1s 614us/sample - loss: 2.1327 - mae_last_step: 2.3169 - val_loss: 2.0933 - val_mae_last_step: 2.3040\n",
      "Epoch 24/200\n",
      "2155/2155 [==============================] - 1s 521us/sample - loss: 2.1311 - mae_last_step: 2.3030 - val_loss: 2.0318 - val_mae_last_step: 2.2620\n",
      "Epoch 25/200\n",
      "2155/2155 [==============================] - 1s 529us/sample - loss: 2.1158 - mae_last_step: 2.2937 - val_loss: 2.0397 - val_mae_last_step: 2.2273\n",
      "Epoch 26/200\n",
      "2155/2155 [==============================] - 1s 514us/sample - loss: 2.1008 - mae_last_step: 2.2878 - val_loss: 2.0162 - val_mae_last_step: 2.1950\n",
      "Epoch 27/200\n",
      "2155/2155 [==============================] - 1s 526us/sample - loss: 2.1109 - mae_last_step: 2.3107 - val_loss: 2.0551 - val_mae_last_step: 2.2796\n",
      "Epoch 28/200\n",
      "2155/2155 [==============================] - 1s 524us/sample - loss: 2.0963 - mae_last_step: 2.3089 - val_loss: 2.0134 - val_mae_last_step: 2.2736\n",
      "Epoch 29/200\n",
      "2155/2155 [==============================] - 1s 534us/sample - loss: 2.0882 - mae_last_step: 2.2990 - val_loss: 2.0082 - val_mae_last_step: 2.2173\n",
      "Epoch 30/200\n",
      "2155/2155 [==============================] - 1s 527us/sample - loss: 2.0835 - mae_last_step: 2.3004 - val_loss: 2.0341 - val_mae_last_step: 2.1717\n",
      "Epoch 31/200\n",
      "2155/2155 [==============================] - 1s 525us/sample - loss: 2.0917 - mae_last_step: 2.2997 - val_loss: 1.9980 - val_mae_last_step: 2.1725\n",
      "Epoch 32/200\n",
      "2155/2155 [==============================] - 1s 527us/sample - loss: 2.0797 - mae_last_step: 2.2991 - val_loss: 2.0678 - val_mae_last_step: 2.2932\n",
      "Epoch 33/200\n",
      "2155/2155 [==============================] - 1s 540us/sample - loss: 2.0837 - mae_last_step: 2.3155 - val_loss: 1.9939 - val_mae_last_step: 2.2068\n",
      "Epoch 34/200\n",
      "2155/2155 [==============================] - 1s 556us/sample - loss: 2.0671 - mae_last_step: 2.2845 - val_loss: 1.9876 - val_mae_last_step: 2.1962\n",
      "Epoch 35/200\n",
      "2155/2155 [==============================] - 1s 541us/sample - loss: 2.0816 - mae_last_step: 2.3079 - val_loss: 1.9816 - val_mae_last_step: 2.2243\n",
      "Epoch 36/200\n",
      "2155/2155 [==============================] - 1s 520us/sample - loss: 2.0712 - mae_last_step: 2.3029 - val_loss: 1.9937 - val_mae_last_step: 2.2635\n",
      "Epoch 37/200\n",
      "2155/2155 [==============================] - 1s 594us/sample - loss: 2.0697 - mae_last_step: 2.2991 - val_loss: 1.9743 - val_mae_last_step: 2.1976\n",
      "Epoch 38/200\n",
      "2155/2155 [==============================] - 1s 586us/sample - loss: 2.0535 - mae_last_step: 2.2777 - val_loss: 1.9708 - val_mae_last_step: 2.2320\n",
      "Epoch 39/200\n",
      "2155/2155 [==============================] - 1s 571us/sample - loss: 2.0546 - mae_last_step: 2.3083 - val_loss: 1.9886 - val_mae_last_step: 2.1976\n",
      "Epoch 40/200\n",
      "2155/2155 [==============================] - 1s 603us/sample - loss: 2.0515 - mae_last_step: 2.2829 - val_loss: 1.9739 - val_mae_last_step: 2.2204\n",
      "Epoch 41/200\n",
      "2155/2155 [==============================] - 1s 579us/sample - loss: 2.0549 - mae_last_step: 2.3064 - val_loss: 1.9717 - val_mae_last_step: 2.2461\n",
      "Epoch 42/200\n",
      "2155/2155 [==============================] - 1s 573us/sample - loss: 2.0483 - mae_last_step: 2.2949 - val_loss: 1.9617 - val_mae_last_step: 2.1770\n",
      "Epoch 43/200\n",
      "2155/2155 [==============================] - 1s 577us/sample - loss: 2.0474 - mae_last_step: 2.2959 - val_loss: 1.9654 - val_mae_last_step: 2.1992\n",
      "Epoch 44/200\n",
      "2155/2155 [==============================] - 1s 577us/sample - loss: 2.0517 - mae_last_step: 2.2942 - val_loss: 1.9610 - val_mae_last_step: 2.1593\n",
      "Epoch 45/200\n",
      "2155/2155 [==============================] - 1s 575us/sample - loss: 2.0423 - mae_last_step: 2.2935 - val_loss: 1.9540 - val_mae_last_step: 2.2039\n",
      "Epoch 46/200\n",
      "2155/2155 [==============================] - 1s 560us/sample - loss: 2.0350 - mae_last_step: 2.2805 - val_loss: 1.9661 - val_mae_last_step: 2.2656\n",
      "Epoch 47/200\n",
      "2155/2155 [==============================] - 1s 559us/sample - loss: 2.0350 - mae_last_step: 2.2843 - val_loss: 2.0036 - val_mae_last_step: 2.3088\n",
      "Epoch 48/200\n",
      "2155/2155 [==============================] - 1s 526us/sample - loss: 2.0406 - mae_last_step: 2.2961 - val_loss: 1.9854 - val_mae_last_step: 2.1860\n",
      "Epoch 49/200\n",
      "2155/2155 [==============================] - 1s 538us/sample - loss: 2.0429 - mae_last_step: 2.3009 - val_loss: 1.9434 - val_mae_last_step: 2.1999\n",
      "Epoch 50/200\n",
      "2155/2155 [==============================] - 1s 562us/sample - loss: 2.0415 - mae_last_step: 2.3044 - val_loss: 1.9478 - val_mae_last_step: 2.1999\n",
      "Epoch 51/200\n",
      "2155/2155 [==============================] - 1s 530us/sample - loss: 2.0347 - mae_last_step: 2.2926 - val_loss: 1.9627 - val_mae_last_step: 2.1885\n"
     ]
    },
    {
     "name": "stdout",
     "output_type": "stream",
     "text": [
      "Epoch 52/200\n",
      "2155/2155 [==============================] - 1s 511us/sample - loss: 2.0267 - mae_last_step: 2.2757 - val_loss: 1.9413 - val_mae_last_step: 2.1845\n",
      "Epoch 53/200\n",
      "2155/2155 [==============================] - 1s 503us/sample - loss: 2.0242 - mae_last_step: 2.2956 - val_loss: 1.9375 - val_mae_last_step: 2.1951\n",
      "Epoch 54/200\n",
      "2155/2155 [==============================] - 1s 503us/sample - loss: 2.0226 - mae_last_step: 2.2906 - val_loss: 1.9391 - val_mae_last_step: 2.2286\n",
      "Epoch 55/200\n",
      "2155/2155 [==============================] - 1s 511us/sample - loss: 2.0223 - mae_last_step: 2.2918 - val_loss: 1.9483 - val_mae_last_step: 2.2110\n",
      "Epoch 56/200\n",
      "2155/2155 [==============================] - 1s 510us/sample - loss: 2.0147 - mae_last_step: 2.2801 - val_loss: 1.9308 - val_mae_last_step: 2.1903\n",
      "Epoch 57/200\n",
      "2155/2155 [==============================] - 1s 511us/sample - loss: 2.0327 - mae_last_step: 2.2996 - val_loss: 1.9385 - val_mae_last_step: 2.2733\n",
      "Epoch 58/200\n",
      "2155/2155 [==============================] - 1s 508us/sample - loss: 2.0142 - mae_last_step: 2.2821 - val_loss: 1.9323 - val_mae_last_step: 2.2522\n",
      "Epoch 59/200\n",
      "2155/2155 [==============================] - 1s 507us/sample - loss: 2.0123 - mae_last_step: 2.2838 - val_loss: 1.9358 - val_mae_last_step: 2.2601\n",
      "Epoch 60/200\n",
      "2155/2155 [==============================] - 1s 509us/sample - loss: 2.0195 - mae_last_step: 2.3007 - val_loss: 1.9354 - val_mae_last_step: 2.2174\n",
      "Epoch 61/200\n",
      "2155/2155 [==============================] - 1s 503us/sample - loss: 2.0176 - mae_last_step: 2.2960 - val_loss: 1.9224 - val_mae_last_step: 2.2094\n",
      "Epoch 62/200\n",
      "2155/2155 [==============================] - 1s 506us/sample - loss: 2.0067 - mae_last_step: 2.2812 - val_loss: 1.9210 - val_mae_last_step: 2.1665\n",
      "Epoch 63/200\n",
      "2155/2155 [==============================] - 1s 507us/sample - loss: 2.0066 - mae_last_step: 2.2947 - val_loss: 1.9340 - val_mae_last_step: 2.1874\n",
      "Epoch 64/200\n",
      "2155/2155 [==============================] - 1s 504us/sample - loss: 2.0051 - mae_last_step: 2.2815 - val_loss: 1.9267 - val_mae_last_step: 2.2307\n",
      "Epoch 65/200\n",
      "2155/2155 [==============================] - 1s 508us/sample - loss: 1.9982 - mae_last_step: 2.2838 - val_loss: 1.9147 - val_mae_last_step: 2.2609\n",
      "Epoch 66/200\n",
      "2155/2155 [==============================] - 1s 497us/sample - loss: 1.9989 - mae_last_step: 2.2837 - val_loss: 1.9978 - val_mae_last_step: 2.3414\n",
      "Epoch 67/200\n",
      "2155/2155 [==============================] - 1s 511us/sample - loss: 2.0106 - mae_last_step: 2.3034 - val_loss: 1.9234 - val_mae_last_step: 2.2145\n",
      "Epoch 68/200\n",
      "2155/2155 [==============================] - 1s 503us/sample - loss: 1.9975 - mae_last_step: 2.2819 - val_loss: 1.9120 - val_mae_last_step: 2.2090\n",
      "Epoch 69/200\n",
      "2155/2155 [==============================] - 1s 536us/sample - loss: 2.0068 - mae_last_step: 2.2851 - val_loss: 1.9155 - val_mae_last_step: 2.2132\n",
      "Epoch 70/200\n",
      "2155/2155 [==============================] - 1s 556us/sample - loss: 2.0020 - mae_last_step: 2.2935 - val_loss: 1.9129 - val_mae_last_step: 2.2154\n",
      "Epoch 71/200\n",
      "2155/2155 [==============================] - 1s 631us/sample - loss: 1.9929 - mae_last_step: 2.2862 - val_loss: 1.9169 - val_mae_last_step: 2.3140\n",
      "Epoch 72/200\n",
      "2155/2155 [==============================] - 1s 560us/sample - loss: 1.9953 - mae_last_step: 2.2909 - val_loss: 1.9072 - val_mae_last_step: 2.2381\n",
      "Epoch 73/200\n",
      "2155/2155 [==============================] - 1s 570us/sample - loss: 1.9936 - mae_last_step: 2.2874 - val_loss: 1.9092 - val_mae_last_step: 2.1998\n",
      "Epoch 74/200\n",
      "2155/2155 [==============================] - 1s 584us/sample - loss: 1.9934 - mae_last_step: 2.2896 - val_loss: 1.9562 - val_mae_last_step: 2.3190\n",
      "Epoch 75/200\n",
      "2155/2155 [==============================] - 1s 570us/sample - loss: 2.0013 - mae_last_step: 2.2974 - val_loss: 1.9216 - val_mae_last_step: 2.2393\n",
      "Epoch 76/200\n",
      "2155/2155 [==============================] - 1s 558us/sample - loss: 1.9879 - mae_last_step: 2.2713 - val_loss: 1.9053 - val_mae_last_step: 2.1665\n",
      "Epoch 77/200\n",
      "2155/2155 [==============================] - 1s 575us/sample - loss: 1.9900 - mae_last_step: 2.2827 - val_loss: 1.9113 - val_mae_last_step: 2.2694\n",
      "Epoch 78/200\n",
      "2155/2155 [==============================] - 1s 592us/sample - loss: 1.9917 - mae_last_step: 2.2856 - val_loss: 1.9214 - val_mae_last_step: 2.2309\n",
      "Epoch 79/200\n",
      "2155/2155 [==============================] - 1s 580us/sample - loss: 1.9871 - mae_last_step: 2.2812 - val_loss: 1.9095 - val_mae_last_step: 2.2514\n",
      "Epoch 80/200\n",
      "2155/2155 [==============================] - 1s 562us/sample - loss: 1.9863 - mae_last_step: 2.2723 - val_loss: 1.9060 - val_mae_last_step: 2.2101\n",
      "Epoch 81/200\n",
      "2155/2155 [==============================] - 1s 580us/sample - loss: 1.9882 - mae_last_step: 2.2873 - val_loss: 1.8973 - val_mae_last_step: 2.1700\n",
      "Epoch 82/200\n",
      "2155/2155 [==============================] - 1s 582us/sample - loss: 1.9876 - mae_last_step: 2.2866 - val_loss: 1.9003 - val_mae_last_step: 2.1983\n",
      "Epoch 83/200\n",
      "2155/2155 [==============================] - 1s 570us/sample - loss: 1.9833 - mae_last_step: 2.2856 - val_loss: 1.9364 - val_mae_last_step: 2.1982\n",
      "Epoch 84/200\n",
      "2155/2155 [==============================] - 1s 542us/sample - loss: 1.9880 - mae_last_step: 2.2958 - val_loss: 1.8941 - val_mae_last_step: 2.1792\n",
      "Epoch 85/200\n",
      "2155/2155 [==============================] - 1s 531us/sample - loss: 1.9764 - mae_last_step: 2.2735 - val_loss: 1.9007 - val_mae_last_step: 2.2394\n",
      "Epoch 86/200\n",
      "2155/2155 [==============================] - 1s 556us/sample - loss: 1.9840 - mae_last_step: 2.2897 - val_loss: 1.8926 - val_mae_last_step: 2.1750\n",
      "Epoch 87/200\n",
      "2155/2155 [==============================] - 1s 571us/sample - loss: 1.9731 - mae_last_step: 2.2694 - val_loss: 1.9004 - val_mae_last_step: 2.2413\n",
      "Epoch 88/200\n",
      "2155/2155 [==============================] - 1s 586us/sample - loss: 1.9782 - mae_last_step: 2.2768 - val_loss: 1.9041 - val_mae_last_step: 2.3005\n",
      "Epoch 89/200\n",
      "2155/2155 [==============================] - 1s 560us/sample - loss: 1.9882 - mae_last_step: 2.2896 - val_loss: 1.9270 - val_mae_last_step: 2.2118\n",
      "Epoch 90/200\n",
      "2155/2155 [==============================] - 1s 539us/sample - loss: 1.9845 - mae_last_step: 2.2966 - val_loss: 1.9535 - val_mae_last_step: 2.3190\n",
      "Epoch 91/200\n",
      "2155/2155 [==============================] - 1s 538us/sample - loss: 1.9793 - mae_last_step: 2.2932 - val_loss: 1.8996 - val_mae_last_step: 2.1771\n",
      "Epoch 92/200\n",
      "2155/2155 [==============================] - 1s 527us/sample - loss: 1.9773 - mae_last_step: 2.2883 - val_loss: 1.8938 - val_mae_last_step: 2.1889\n",
      "Epoch 93/200\n",
      "2155/2155 [==============================] - 1s 550us/sample - loss: 1.9720 - mae_last_step: 2.2810 - val_loss: 1.8892 - val_mae_last_step: 2.1677\n",
      "Epoch 94/200\n",
      "2155/2155 [==============================] - 1s 592us/sample - loss: 1.9699 - mae_last_step: 2.2737 - val_loss: 1.9198 - val_mae_last_step: 2.2314\n",
      "Epoch 95/200\n",
      "2155/2155 [==============================] - 1s 631us/sample - loss: 1.9706 - mae_last_step: 2.2748 - val_loss: 1.8893 - val_mae_last_step: 2.2025\n",
      "Epoch 96/200\n",
      "2155/2155 [==============================] - 1s 583us/sample - loss: 1.9679 - mae_last_step: 2.2839 - val_loss: 1.8862 - val_mae_last_step: 2.1586\n",
      "Epoch 97/200\n",
      "2155/2155 [==============================] - 1s 505us/sample - loss: 1.9688 - mae_last_step: 2.2705 - val_loss: 1.8838 - val_mae_last_step: 2.2168\n",
      "Epoch 98/200\n",
      "2155/2155 [==============================] - 1s 499us/sample - loss: 1.9763 - mae_last_step: 2.2924 - val_loss: 1.8865 - val_mae_last_step: 2.1514\n",
      "Epoch 99/200\n",
      "2155/2155 [==============================] - 1s 509us/sample - loss: 1.9630 - mae_last_step: 2.2691 - val_loss: 1.8873 - val_mae_last_step: 2.1886\n",
      "Epoch 100/200\n",
      "2155/2155 [==============================] - 1s 506us/sample - loss: 1.9775 - mae_last_step: 2.2850 - val_loss: 1.8835 - val_mae_last_step: 2.1783\n",
      "Epoch 101/200\n",
      "2155/2155 [==============================] - 1s 533us/sample - loss: 1.9652 - mae_last_step: 2.2788 - val_loss: 1.8934 - val_mae_last_step: 2.2079\n",
      "Epoch 102/200\n",
      "2155/2155 [==============================] - 1s 578us/sample - loss: 1.9649 - mae_last_step: 2.2732 - val_loss: 1.8820 - val_mae_last_step: 2.1989\n",
      "Epoch 103/200\n",
      "2155/2155 [==============================] - 1s 558us/sample - loss: 1.9708 - mae_last_step: 2.2721 - val_loss: 1.8949 - val_mae_last_step: 2.2507\n",
      "Epoch 104/200\n",
      "2155/2155 [==============================] - 1s 550us/sample - loss: 1.9656 - mae_last_step: 2.2657 - val_loss: 1.8886 - val_mae_last_step: 2.1576\n",
      "Epoch 105/200\n",
      "2155/2155 [==============================] - 1s 551us/sample - loss: 1.9665 - mae_last_step: 2.2868 - val_loss: 1.8809 - val_mae_last_step: 2.1926\n",
      "Epoch 106/200\n",
      "2155/2155 [==============================] - 1s 554us/sample - loss: 1.9629 - mae_last_step: 2.2853 - val_loss: 1.8771 - val_mae_last_step: 2.1541\n",
      "Epoch 107/200\n",
      "2155/2155 [==============================] - 1s 598us/sample - loss: 1.9742 - mae_last_step: 2.2862 - val_loss: 1.8825 - val_mae_last_step: 2.1776\n",
      "Epoch 108/200\n",
      "2155/2155 [==============================] - 1s 598us/sample - loss: 1.9624 - mae_last_step: 2.2835 - val_loss: 1.8765 - val_mae_last_step: 2.2478\n",
      "Epoch 109/200\n",
      "2155/2155 [==============================] - 1s 549us/sample - loss: 1.9626 - mae_last_step: 2.2766 - val_loss: 1.8883 - val_mae_last_step: 2.2262\n",
      "Epoch 110/200\n",
      "2155/2155 [==============================] - 1s 536us/sample - loss: 1.9611 - mae_last_step: 2.2796 - val_loss: 1.8855 - val_mae_last_step: 2.1973\n",
      "Epoch 111/200\n",
      "2155/2155 [==============================] - 1s 528us/sample - loss: 1.9592 - mae_last_step: 2.2744 - val_loss: 1.9137 - val_mae_last_step: 2.2291\n",
      "Epoch 112/200\n",
      "2155/2155 [==============================] - 1s 563us/sample - loss: 1.9629 - mae_last_step: 2.2698 - val_loss: 1.8753 - val_mae_last_step: 2.2331\n",
      "Epoch 113/200\n",
      "2155/2155 [==============================] - 1s 538us/sample - loss: 1.9598 - mae_last_step: 2.2743 - val_loss: 1.8783 - val_mae_last_step: 2.2251\n",
      "Epoch 114/200\n",
      "2155/2155 [==============================] - 1s 564us/sample - loss: 1.9556 - mae_last_step: 2.2729 - val_loss: 1.8839 - val_mae_last_step: 2.2000\n",
      "Epoch 115/200\n",
      "2155/2155 [==============================] - 1s 531us/sample - loss: 1.9593 - mae_last_step: 2.2852 - val_loss: 1.8855 - val_mae_last_step: 2.2041\n",
      "Epoch 116/200\n",
      "2155/2155 [==============================] - 1s 594us/sample - loss: 1.9520 - mae_last_step: 2.2890 - val_loss: 1.8707 - val_mae_last_step: 2.2834\n",
      "Epoch 117/200\n",
      "2155/2155 [==============================] - 1s 562us/sample - loss: 1.9541 - mae_last_step: 2.2777 - val_loss: 1.8780 - val_mae_last_step: 2.1877\n",
      "Epoch 118/200\n",
      "2155/2155 [==============================] - 1s 572us/sample - loss: 1.9615 - mae_last_step: 2.2787 - val_loss: 1.8769 - val_mae_last_step: 2.2176\n",
      "Epoch 119/200\n",
      "2155/2155 [==============================] - 1s 550us/sample - loss: 1.9574 - mae_last_step: 2.2702 - val_loss: 1.8840 - val_mae_last_step: 2.3265\n",
      "Epoch 120/200\n",
      "2155/2155 [==============================] - 1s 559us/sample - loss: 1.9530 - mae_last_step: 2.2820 - val_loss: 1.8721 - val_mae_last_step: 2.1958\n",
      "Epoch 121/200\n",
      "2155/2155 [==============================] - 1s 536us/sample - loss: 1.9502 - mae_last_step: 2.2756 - val_loss: 1.8742 - val_mae_last_step: 2.1836\n",
      "Epoch 122/200\n",
      "2155/2155 [==============================] - 1s 522us/sample - loss: 1.9478 - mae_last_step: 2.2738 - val_loss: 1.8686 - val_mae_last_step: 2.1543\n",
      "Epoch 123/200\n",
      "2155/2155 [==============================] - 1s 530us/sample - loss: 1.9549 - mae_last_step: 2.2865 - val_loss: 1.8802 - val_mae_last_step: 2.2148\n",
      "Epoch 124/200\n",
      "2155/2155 [==============================] - 1s 561us/sample - loss: 1.9541 - mae_last_step: 2.2844 - val_loss: 1.8709 - val_mae_last_step: 2.2982\n",
      "Epoch 125/200\n",
      "2155/2155 [==============================] - 1s 558us/sample - loss: 1.9478 - mae_last_step: 2.2707 - val_loss: 1.8904 - val_mae_last_step: 2.1807\n",
      "Epoch 126/200\n",
      "2155/2155 [==============================] - 1s 559us/sample - loss: 1.9515 - mae_last_step: 2.2778 - val_loss: 1.8659 - val_mae_last_step: 2.2089\n",
      "Epoch 127/200\n",
      "2155/2155 [==============================] - 1s 557us/sample - loss: 1.9512 - mae_last_step: 2.2647 - val_loss: 1.8717 - val_mae_last_step: 2.1679\n",
      "Epoch 128/200\n",
      "2155/2155 [==============================] - 1s 563us/sample - loss: 1.9455 - mae_last_step: 2.2618 - val_loss: 1.8692 - val_mae_last_step: 2.1991\n",
      "Epoch 129/200\n",
      "2155/2155 [==============================] - 1s 566us/sample - loss: 1.9521 - mae_last_step: 2.2810 - val_loss: 1.8832 - val_mae_last_step: 2.1951\n",
      "Epoch 130/200\n",
      "2155/2155 [==============================] - 1s 527us/sample - loss: 1.9474 - mae_last_step: 2.2687 - val_loss: 1.8670 - val_mae_last_step: 2.1760\n",
      "Epoch 131/200\n",
      "2155/2155 [==============================] - 1s 579us/sample - loss: 1.9539 - mae_last_step: 2.2909 - val_loss: 1.8646 - val_mae_last_step: 2.2000\n",
      "Epoch 132/200\n",
      "2155/2155 [==============================] - 1s 583us/sample - loss: 1.9528 - mae_last_step: 2.2857 - val_loss: 1.8676 - val_mae_last_step: 2.2224\n",
      "Epoch 133/200\n",
      "2155/2155 [==============================] - 1s 596us/sample - loss: 1.9498 - mae_last_step: 2.2579 - val_loss: 1.8651 - val_mae_last_step: 2.1756\n",
      "Epoch 134/200\n",
      "2155/2155 [==============================] - 1s 551us/sample - loss: 1.9436 - mae_last_step: 2.2595 - val_loss: 1.8653 - val_mae_last_step: 2.1778\n",
      "Epoch 135/200\n",
      "2155/2155 [==============================] - 1s 591us/sample - loss: 1.9464 - mae_last_step: 2.2764 - val_loss: 1.8716 - val_mae_last_step: 2.2911\n",
      "Epoch 136/200\n",
      "2155/2155 [==============================] - 1s 587us/sample - loss: 1.9460 - mae_last_step: 2.2752 - val_loss: 1.8635 - val_mae_last_step: 2.1934\n",
      "Epoch 137/200\n",
      "2155/2155 [==============================] - 1s 536us/sample - loss: 1.9484 - mae_last_step: 2.2782 - val_loss: 1.8722 - val_mae_last_step: 2.2589\n",
      "Epoch 138/200\n",
      "2155/2155 [==============================] - 1s 531us/sample - loss: 1.9468 - mae_last_step: 2.2820 - val_loss: 1.8854 - val_mae_last_step: 2.1966\n",
      "Epoch 139/200\n",
      "2155/2155 [==============================] - 1s 560us/sample - loss: 1.9467 - mae_last_step: 2.2842 - val_loss: 1.8697 - val_mae_last_step: 2.1879\n",
      "Epoch 140/200\n",
      "2155/2155 [==============================] - 1s 564us/sample - loss: 1.9441 - mae_last_step: 2.2691 - val_loss: 1.8677 - val_mae_last_step: 2.2159\n",
      "Epoch 141/200\n",
      "2155/2155 [==============================] - 1s 586us/sample - loss: 1.9448 - mae_last_step: 2.2875 - val_loss: 1.8620 - val_mae_last_step: 2.1515\n",
      "Epoch 142/200\n",
      "2155/2155 [==============================] - 1s 566us/sample - loss: 1.9506 - mae_last_step: 2.2846 - val_loss: 1.8690 - val_mae_last_step: 2.1788\n",
      "Epoch 143/200\n",
      "2155/2155 [==============================] - 1s 571us/sample - loss: 1.9443 - mae_last_step: 2.2614 - val_loss: 1.8643 - val_mae_last_step: 2.2273\n",
      "Epoch 144/200\n",
      "2155/2155 [==============================] - 1s 569us/sample - loss: 1.9437 - mae_last_step: 2.2777 - val_loss: 1.8604 - val_mae_last_step: 2.1814\n",
      "Epoch 145/200\n",
      "2155/2155 [==============================] - 1s 584us/sample - loss: 1.9448 - mae_last_step: 2.2675 - val_loss: 1.8635 - val_mae_last_step: 2.2118\n",
      "Epoch 146/200\n",
      "2155/2155 [==============================] - 1s 585us/sample - loss: 1.9409 - mae_last_step: 2.2840 - val_loss: 1.8617 - val_mae_last_step: 2.1843\n",
      "Epoch 147/200\n",
      "2155/2155 [==============================] - 1s 575us/sample - loss: 1.9396 - mae_last_step: 2.2666 - val_loss: 1.8625 - val_mae_last_step: 2.2709\n",
      "Epoch 148/200\n",
      "2155/2155 [==============================] - 1s 581us/sample - loss: 1.9404 - mae_last_step: 2.2605 - val_loss: 1.8636 - val_mae_last_step: 2.1738\n",
      "Epoch 149/200\n",
      "2155/2155 [==============================] - 1s 568us/sample - loss: 1.9397 - mae_last_step: 2.2747 - val_loss: 1.8702 - val_mae_last_step: 2.2102\n",
      "Epoch 150/200\n",
      "2155/2155 [==============================] - 1s 586us/sample - loss: 1.9402 - mae_last_step: 2.2674 - val_loss: 1.8716 - val_mae_last_step: 2.1953\n",
      "Epoch 151/200\n",
      "2155/2155 [==============================] - 1s 587us/sample - loss: 1.9399 - mae_last_step: 2.2724 - val_loss: 1.8727 - val_mae_last_step: 2.1851\n",
      "Epoch 152/200\n",
      "2155/2155 [==============================] - 1s 579us/sample - loss: 1.9372 - mae_last_step: 2.2635 - val_loss: 1.8603 - val_mae_last_step: 2.2047\n",
      "Epoch 153/200\n",
      "2155/2155 [==============================] - 1s 597us/sample - loss: 1.9384 - mae_last_step: 2.2661 - val_loss: 1.8637 - val_mae_last_step: 2.2499\n"
     ]
    },
    {
     "name": "stdout",
     "output_type": "stream",
     "text": [
      "Epoch 154/200\n",
      "2155/2155 [==============================] - 1s 553us/sample - loss: 1.9405 - mae_last_step: 2.2716 - val_loss: 1.8706 - val_mae_last_step: 2.1990\n",
      "Epoch 155/200\n",
      "2155/2155 [==============================] - 1s 542us/sample - loss: 1.9450 - mae_last_step: 2.2644 - val_loss: 1.8721 - val_mae_last_step: 2.2330\n",
      "Epoch 156/200\n",
      "2155/2155 [==============================] - 1s 530us/sample - loss: 1.9395 - mae_last_step: 2.2728 - val_loss: 1.8652 - val_mae_last_step: 2.2327\n",
      "Epoch 157/200\n",
      "2155/2155 [==============================] - 1s 532us/sample - loss: 1.9368 - mae_last_step: 2.2687 - val_loss: 1.8610 - val_mae_last_step: 2.1946\n",
      "Epoch 158/200\n",
      "2155/2155 [==============================] - 1s 507us/sample - loss: 1.9387 - mae_last_step: 2.2710 - val_loss: 1.8565 - val_mae_last_step: 2.2158\n",
      "Epoch 159/200\n",
      "2155/2155 [==============================] - 1s 542us/sample - loss: 1.9373 - mae_last_step: 2.2646 - val_loss: 1.8578 - val_mae_last_step: 2.1835\n",
      "Epoch 160/200\n",
      "2155/2155 [==============================] - 1s 533us/sample - loss: 1.9394 - mae_last_step: 2.2788 - val_loss: 1.8700 - val_mae_last_step: 2.2459\n",
      "Epoch 161/200\n",
      "2155/2155 [==============================] - 1s 541us/sample - loss: 1.9387 - mae_last_step: 2.2797 - val_loss: 1.8542 - val_mae_last_step: 2.1701\n",
      "Epoch 162/200\n",
      "2155/2155 [==============================] - 1s 557us/sample - loss: 1.9349 - mae_last_step: 2.2739 - val_loss: 1.8653 - val_mae_last_step: 2.2369\n",
      "Epoch 163/200\n",
      "2155/2155 [==============================] - 1s 553us/sample - loss: 1.9368 - mae_last_step: 2.2956 - val_loss: 1.8555 - val_mae_last_step: 2.1894\n",
      "Epoch 164/200\n",
      "2155/2155 [==============================] - 1s 518us/sample - loss: 1.9368 - mae_last_step: 2.2834 - val_loss: 1.8786 - val_mae_last_step: 2.2118\n",
      "Epoch 165/200\n",
      "2155/2155 [==============================] - 1s 517us/sample - loss: 1.9370 - mae_last_step: 2.2690 - val_loss: 1.8787 - val_mae_last_step: 2.2302\n",
      "Epoch 166/200\n",
      "2155/2155 [==============================] - 1s 543us/sample - loss: 1.9378 - mae_last_step: 2.2828 - val_loss: 1.8832 - val_mae_last_step: 2.2356\n",
      "Epoch 167/200\n",
      "2155/2155 [==============================] - 1s 542us/sample - loss: 1.9372 - mae_last_step: 2.2745 - val_loss: 1.8555 - val_mae_last_step: 2.2543\n",
      "Epoch 168/200\n",
      "2155/2155 [==============================] - 1s 544us/sample - loss: 1.9389 - mae_last_step: 2.2597 - val_loss: 1.8539 - val_mae_last_step: 2.1543\n",
      "Epoch 169/200\n",
      "2155/2155 [==============================] - 1s 518us/sample - loss: 1.9340 - mae_last_step: 2.2781 - val_loss: 1.8672 - val_mae_last_step: 2.2625\n",
      "Epoch 170/200\n",
      "2155/2155 [==============================] - 1s 519us/sample - loss: 1.9341 - mae_last_step: 2.2685 - val_loss: 1.8532 - val_mae_last_step: 2.2018\n",
      "Epoch 171/200\n",
      "2155/2155 [==============================] - 1s 518us/sample - loss: 1.9372 - mae_last_step: 2.2868 - val_loss: 1.8673 - val_mae_last_step: 2.2699\n",
      "Epoch 172/200\n",
      "2155/2155 [==============================] - 1s 548us/sample - loss: 1.9336 - mae_last_step: 2.2782 - val_loss: 1.8577 - val_mae_last_step: 2.1667\n",
      "Epoch 173/200\n",
      "2155/2155 [==============================] - 1s 552us/sample - loss: 1.9331 - mae_last_step: 2.2660 - val_loss: 1.8560 - val_mae_last_step: 2.2262\n",
      "Epoch 174/200\n",
      "2155/2155 [==============================] - 1s 525us/sample - loss: 1.9344 - mae_last_step: 2.2719 - val_loss: 1.9528 - val_mae_last_step: 2.4414\n",
      "Epoch 175/200\n",
      "2155/2155 [==============================] - 1s 516us/sample - loss: 1.9410 - mae_last_step: 2.2710 - val_loss: 1.8611 - val_mae_last_step: 2.2351\n",
      "Epoch 176/200\n",
      "2155/2155 [==============================] - 1s 528us/sample - loss: 1.9320 - mae_last_step: 2.2639 - val_loss: 1.8532 - val_mae_last_step: 2.2911\n",
      "Epoch 177/200\n",
      "2155/2155 [==============================] - 1s 529us/sample - loss: 1.9315 - mae_last_step: 2.2769 - val_loss: 1.8685 - val_mae_last_step: 2.2355\n",
      "Epoch 178/200\n",
      "2155/2155 [==============================] - 1s 528us/sample - loss: 1.9316 - mae_last_step: 2.2749 - val_loss: 1.8536 - val_mae_last_step: 2.1647\n",
      "Epoch 179/200\n",
      "2155/2155 [==============================] - 1s 519us/sample - loss: 1.9380 - mae_last_step: 2.2716 - val_loss: 1.8592 - val_mae_last_step: 2.2623\n",
      "Epoch 180/200\n",
      "2155/2155 [==============================] - 1s 528us/sample - loss: 1.9346 - mae_last_step: 2.2846 - val_loss: 1.8621 - val_mae_last_step: 2.2863\n",
      "Epoch 181/200\n",
      "2155/2155 [==============================] - 1s 531us/sample - loss: 1.9331 - mae_last_step: 2.2669 - val_loss: 1.8495 - val_mae_last_step: 2.2206\n",
      "Epoch 182/200\n",
      "2155/2155 [==============================] - 1s 525us/sample - loss: 1.9351 - mae_last_step: 2.2776 - val_loss: 1.8653 - val_mae_last_step: 2.2675\n",
      "Epoch 183/200\n",
      "2155/2155 [==============================] - 1s 516us/sample - loss: 1.9318 - mae_last_step: 2.2694 - val_loss: 1.8523 - val_mae_last_step: 2.2609\n",
      "Epoch 184/200\n",
      "2155/2155 [==============================] - 1s 518us/sample - loss: 1.9327 - mae_last_step: 2.2609 - val_loss: 1.8565 - val_mae_last_step: 2.2110\n",
      "Epoch 185/200\n",
      "2155/2155 [==============================] - 1s 523us/sample - loss: 1.9336 - mae_last_step: 2.2705 - val_loss: 1.8820 - val_mae_last_step: 2.1795\n",
      "Epoch 186/200\n",
      "2155/2155 [==============================] - 1s 525us/sample - loss: 1.9393 - mae_last_step: 2.2763 - val_loss: 1.8502 - val_mae_last_step: 2.2643\n",
      "Epoch 187/200\n",
      "2155/2155 [==============================] - 1s 526us/sample - loss: 1.9367 - mae_last_step: 2.2693 - val_loss: 1.8871 - val_mae_last_step: 2.2967\n",
      "Epoch 188/200\n",
      "2155/2155 [==============================] - 1s 512us/sample - loss: 1.9335 - mae_last_step: 2.2763 - val_loss: 1.8498 - val_mae_last_step: 2.2130\n",
      "Epoch 189/200\n",
      "2155/2155 [==============================] - 1s 513us/sample - loss: 1.9303 - mae_last_step: 2.2654 - val_loss: 1.8675 - val_mae_last_step: 2.1827\n",
      "Epoch 190/200\n",
      "2155/2155 [==============================] - 1s 509us/sample - loss: 1.9299 - mae_last_step: 2.2615 - val_loss: 1.8486 - val_mae_last_step: 2.2506\n",
      "Epoch 191/200\n",
      "2155/2155 [==============================] - 1s 504us/sample - loss: 1.9295 - mae_last_step: 2.2719 - val_loss: 1.8495 - val_mae_last_step: 2.1928\n",
      "Epoch 192/200\n",
      "2155/2155 [==============================] - 1s 513us/sample - loss: 1.9294 - mae_last_step: 2.2789 - val_loss: 1.8533 - val_mae_last_step: 2.2289\n",
      "Epoch 193/200\n",
      "2155/2155 [==============================] - 1s 504us/sample - loss: 1.9300 - mae_last_step: 2.2728 - val_loss: 1.8646 - val_mae_last_step: 2.2404\n",
      "Epoch 194/200\n",
      "2155/2155 [==============================] - 1s 511us/sample - loss: 1.9271 - mae_last_step: 2.2613 - val_loss: 1.8523 - val_mae_last_step: 2.2360\n",
      "Epoch 195/200\n",
      "2155/2155 [==============================] - 1s 511us/sample - loss: 1.9280 - mae_last_step: 2.2668 - val_loss: 1.8630 - val_mae_last_step: 2.2103\n",
      "Epoch 196/200\n",
      "2155/2155 [==============================] - 1s 508us/sample - loss: 1.9278 - mae_last_step: 2.2722 - val_loss: 1.8518 - val_mae_last_step: 2.2135\n",
      "Epoch 197/200\n",
      "2155/2155 [==============================] - 1s 513us/sample - loss: 1.9274 - mae_last_step: 2.2696 - val_loss: 1.8704 - val_mae_last_step: 2.2956\n",
      "Epoch 198/200\n",
      "2155/2155 [==============================] - 1s 514us/sample - loss: 1.9313 - mae_last_step: 2.2752 - val_loss: 1.8495 - val_mae_last_step: 2.2489\n",
      "Epoch 199/200\n",
      "2155/2155 [==============================] - 1s 506us/sample - loss: 1.9283 - mae_last_step: 2.2654 - val_loss: 1.8602 - val_mae_last_step: 2.2183\n",
      "Epoch 200/200\n",
      "2155/2155 [==============================] - 1s 515us/sample - loss: 1.9305 - mae_last_step: 2.2690 - val_loss: 1.8673 - val_mae_last_step: 2.2386\n"
     ]
    }
   ],
   "source": [
    "history3 = model3.fit(X_train_3D, Y_train_3D, epochs=200, batch_size=100,\n",
    "                      validation_data=(X_valid_3D, Y_valid_3D))"
   ]
  },
  {
   "cell_type": "code",
   "execution_count": 65,
   "metadata": {},
   "outputs": [
    {
     "name": "stdout",
     "output_type": "stream",
     "text": [
      "725/725 [==============================] - 0s 284us/sample - loss: 1.8673 - mae_last_step: 2.2503\n"
     ]
    },
    {
     "data": {
      "text/plain": [
       "[1.8673243473316061, 2.2503166]"
      ]
     },
     "execution_count": 65,
     "metadata": {},
     "output_type": "execute_result"
    }
   ],
   "source": [
    "model3.evaluate(X_valid_3D, Y_valid_3D)"
   ]
  },
  {
   "cell_type": "code",
   "execution_count": 66,
   "metadata": {},
   "outputs": [
    {
     "data": {
      "image/png": "[encoded data removed]",
      "text/plain": [
       "<Figure size 432x288 with 1 Axes>"
      ]
     },
     "metadata": {
      "needs_background": "light"
     },
     "output_type": "display_data"
    }
   ],
   "source": [
    "plot_history(history3)"
   ]
  },
  {
   "cell_type": "code",
   "execution_count": 67,
   "metadata": {},
   "outputs": [],
   "source": [
    "y_pred_rnn3 = model3.predict(X_valid_3D)[:, -1]"
   ]
  },
  {
   "cell_type": "code",
   "execution_count": 68,
   "metadata": {},
   "outputs": [
    {
     "data": {
      "image/png": "[encoded data removed]",
      "text/plain": [
       "<Figure size 720x360 with 1 Axes>"
      ]
     },
     "metadata": {
      "needs_background": "light"
     },
     "output_type": "display_data"
    }
   ],
   "source": [
    "plot_predictions((\"Target\", y_valid),\n",
    "                 (\"Linear\", y_pred_linear),\n",
    "                 (\"RNN\", y_pred_rnn3),\n",
    "                 end=365)"
   ]
  },
  {
   "cell_type": "markdown",
   "metadata": {},
   "source": [
    "![Exercise](https://c1.staticflickr.com/9/8101/8553474140_c50cf08708_b.jpg)"
   ]
  },
  {
   "cell_type": "markdown",
   "metadata": {},
   "source": [
    "# Exercise 4 – Preprocessing with 1D-ConvNets"
   ]
  },
  {
   "cell_type": "markdown",
   "metadata": {},
   "source": [
    "At the beginning of your sequential model, add a `Conv1D` layer with 32 kernels of size 5, a `MaxPool1D` layer with pool size 5 and strides 2. Train and evaluate the model."
   ]
  },
  {
   "cell_type": "code",
   "execution_count": null,
   "metadata": {},
   "outputs": [],
   "source": []
  },
  {
   "cell_type": "code",
   "execution_count": null,
   "metadata": {},
   "outputs": [],
   "source": []
  },
  {
   "cell_type": "code",
   "execution_count": null,
   "metadata": {},
   "outputs": [],
   "source": []
  },
  {
   "cell_type": "markdown",
   "metadata": {},
   "source": [
    "![Exercise solution](https://camo.githubusercontent.com/250388fde3fac9135ead9471733ee28e049f7a37/68747470733a2f2f75706c6f61642e77696b696d656469612e6f72672f77696b6970656469612f636f6d6d6f6e732f302f30362f46696c6f735f736567756e646f5f6c6f676f5f253238666c69707065642532392e6a7067)"
   ]
  },
  {
   "cell_type": "markdown",
   "metadata": {},
   "source": [
    "# Exercise 4 – Solution"
   ]
  },
  {
   "cell_type": "code",
   "execution_count": 51,
   "metadata": {},
   "outputs": [
    {
     "ename": "NameError",
     "evalue": "name 'input_shape' is not defined",
     "output_type": "error",
     "traceback": [
      "\u001b[0;31m---------------------------------------------------------------------------\u001b[0m",
      "\u001b[0;31mNameError\u001b[0m                                 Traceback (most recent call last)",
      "\u001b[0;32m<ipython-input-51-83706772d6b3>\u001b[0m in \u001b[0;36m<module>\u001b[0;34m\u001b[0m\n\u001b[1;32m      1\u001b[0m \u001b[0mmodel4\u001b[0m \u001b[0;34m=\u001b[0m \u001b[0mkeras\u001b[0m\u001b[0;34m.\u001b[0m\u001b[0mmodels\u001b[0m\u001b[0;34m.\u001b[0m\u001b[0mSequential\u001b[0m\u001b[0;34m(\u001b[0m\u001b[0;34m)\u001b[0m\u001b[0;34m\u001b[0m\u001b[0;34m\u001b[0m\u001b[0m\n\u001b[0;32m----> 2\u001b[0;31m \u001b[0mmodel4\u001b[0m\u001b[0;34m.\u001b[0m\u001b[0madd\u001b[0m\u001b[0;34m(\u001b[0m\u001b[0mkeras\u001b[0m\u001b[0;34m.\u001b[0m\u001b[0mlayers\u001b[0m\u001b[0;34m.\u001b[0m\u001b[0mConv1D\u001b[0m\u001b[0;34m(\u001b[0m\u001b[0;36m32\u001b[0m\u001b[0;34m,\u001b[0m \u001b[0mkernel_size\u001b[0m\u001b[0;34m=\u001b[0m\u001b[0;36m5\u001b[0m\u001b[0;34m,\u001b[0m \u001b[0minput_shape\u001b[0m\u001b[0;34m=\u001b[0m\u001b[0minput_shape\u001b[0m\u001b[0;34m)\u001b[0m\u001b[0;34m)\u001b[0m\u001b[0;34m\u001b[0m\u001b[0;34m\u001b[0m\u001b[0m\n\u001b[0m\u001b[1;32m      3\u001b[0m \u001b[0mmodel4\u001b[0m\u001b[0;34m.\u001b[0m\u001b[0madd\u001b[0m\u001b[0;34m(\u001b[0m\u001b[0mkeras\u001b[0m\u001b[0;34m.\u001b[0m\u001b[0mlayers\u001b[0m\u001b[0;34m.\u001b[0m\u001b[0mMaxPool1D\u001b[0m\u001b[0;34m(\u001b[0m\u001b[0mpool_size\u001b[0m\u001b[0;34m=\u001b[0m\u001b[0;36m5\u001b[0m\u001b[0;34m,\u001b[0m \u001b[0mstrides\u001b[0m\u001b[0;34m=\u001b[0m\u001b[0;36m2\u001b[0m\u001b[0;34m)\u001b[0m\u001b[0;34m)\u001b[0m\u001b[0;34m\u001b[0m\u001b[0;34m\u001b[0m\u001b[0m\n\u001b[1;32m      4\u001b[0m \u001b[0mmodel4\u001b[0m\u001b[0;34m.\u001b[0m\u001b[0madd\u001b[0m\u001b[0;34m(\u001b[0m\u001b[0mkeras\u001b[0m\u001b[0;34m.\u001b[0m\u001b[0mlayers\u001b[0m\u001b[0;34m.\u001b[0m\u001b[0mLSTM\u001b[0m\u001b[0;34m(\u001b[0m\u001b[0;36m32\u001b[0m\u001b[0;34m,\u001b[0m \u001b[0mreturn_sequences\u001b[0m\u001b[0;34m=\u001b[0m\u001b[0;32mTrue\u001b[0m\u001b[0;34m)\u001b[0m\u001b[0;34m)\u001b[0m\u001b[0;34m\u001b[0m\u001b[0;34m\u001b[0m\u001b[0m\n\u001b[1;32m      5\u001b[0m \u001b[0mmodel4\u001b[0m\u001b[0;34m.\u001b[0m\u001b[0madd\u001b[0m\u001b[0;34m(\u001b[0m\u001b[0mkeras\u001b[0m\u001b[0;34m.\u001b[0m\u001b[0mlayers\u001b[0m\u001b[0;34m.\u001b[0m\u001b[0mLSTM\u001b[0m\u001b[0;34m(\u001b[0m\u001b[0;36m32\u001b[0m\u001b[0;34m)\u001b[0m\u001b[0;34m)\u001b[0m\u001b[0;34m\u001b[0m\u001b[0;34m\u001b[0m\u001b[0m\n",
      "\u001b[0;31mNameError\u001b[0m: name 'input_shape' is not defined"
     ]
    }
   ],
   "source": [
    "model4 = keras.models.Sequential()\n",
    "model4.add(keras.layers.Conv1D(32, kernel_size=5, input_shape=input_shape))\n",
    "model4.add(keras.layers.MaxPool1D(pool_size=5, strides=2))\n",
    "model4.add(keras.layers.LSTM(32, return_sequences=True))\n",
    "model4.add(keras.layers.LSTM(32))\n",
    "model4.add(keras.layers.Dense(1))\n",
    "model4.compile(loss=huber_loss, optimizer=keras.optimizers.SGD(lr=0.005))"
   ]
  },
  {
   "cell_type": "code",
   "execution_count": 70,
   "metadata": {},
   "outputs": [
    {
     "name": "stdout",
     "output_type": "stream",
     "text": [
      "Model: \"sequential_5\"\n",
      "_________________________________________________________________\n",
      "Layer (type)                 Output Shape              Param #   \n",
      "=================================================================\n",
      "conv1d (Conv1D)              (None, 26, 32)            192       \n",
      "_________________________________________________________________\n",
      "max_pooling1d (MaxPooling1D) (None, 11, 32)            0         \n",
      "_________________________________________________________________\n",
      "unified_lstm_4 (UnifiedLSTM) (None, 11, 32)            8320      \n",
      "_________________________________________________________________\n",
      "unified_lstm_5 (UnifiedLSTM) (None, 32)                8320      \n",
      "_________________________________________________________________\n",
      "dense_5 (Dense)              (None, 1)                 33        \n",
      "=================================================================\n",
      "Total params: 16,865\n",
      "Trainable params: 16,865\n",
      "Non-trainable params: 0\n",
      "_________________________________________________________________\n"
     ]
    }
   ],
   "source": [
    "model4.summary()"
   ]
  },
  {
   "cell_type": "code",
   "execution_count": 71,
   "metadata": {
    "scrolled": true
   },
   "outputs": [
    {
     "name": "stdout",
     "output_type": "stream",
     "text": [
      "Train on 2155 samples, validate on 725 samples\n",
      "Epoch 1/200\n",
      "2155/2155 [==============================] - 1s 402us/sample - loss: 9.6770 - val_loss: 9.3224\n",
      "Epoch 2/200\n",
      "2155/2155 [==============================] - 0s 102us/sample - loss: 8.1520 - val_loss: 7.8037\n",
      "Epoch 3/200\n",
      "2155/2155 [==============================] - 0s 102us/sample - loss: 6.6832 - val_loss: 6.2662\n",
      "Epoch 4/200\n",
      "2155/2155 [==============================] - 0s 107us/sample - loss: 5.2732 - val_loss: 4.8447\n",
      "Epoch 5/200\n",
      "2155/2155 [==============================] - 0s 101us/sample - loss: 4.0943 - val_loss: 3.7414\n",
      "Epoch 6/200\n",
      "2155/2155 [==============================] - 0s 105us/sample - loss: 3.3438 - val_loss: 3.0790\n",
      "Epoch 7/200\n",
      "2155/2155 [==============================] - 0s 105us/sample - loss: 2.9731 - val_loss: 2.7521\n",
      "Epoch 8/200\n",
      "2155/2155 [==============================] - 0s 106us/sample - loss: 2.8104 - val_loss: 2.5951\n",
      "Epoch 9/200\n",
      "2155/2155 [==============================] - 0s 102us/sample - loss: 2.7124 - val_loss: 2.4924\n",
      "Epoch 10/200\n",
      "2155/2155 [==============================] - 0s 106us/sample - loss: 2.6405 - val_loss: 2.4433\n",
      "Epoch 11/200\n",
      "2155/2155 [==============================] - 0s 104us/sample - loss: 2.5802 - val_loss: 2.3989\n",
      "Epoch 12/200\n",
      "2155/2155 [==============================] - 0s 103us/sample - loss: 2.5388 - val_loss: 2.4062\n",
      "Epoch 13/200\n",
      "2155/2155 [==============================] - 0s 102us/sample - loss: 2.5117 - val_loss: 2.3954\n",
      "Epoch 14/200\n",
      "2155/2155 [==============================] - 0s 103us/sample - loss: 2.4432 - val_loss: 2.3893\n",
      "Epoch 15/200\n",
      "2155/2155 [==============================] - 0s 104us/sample - loss: 2.4256 - val_loss: 2.1249\n",
      "Epoch 16/200\n",
      "2155/2155 [==============================] - 0s 102us/sample - loss: 2.3676 - val_loss: 2.2821\n",
      "Epoch 17/200\n",
      "2155/2155 [==============================] - 0s 105us/sample - loss: 2.3435 - val_loss: 2.0736\n",
      "Epoch 18/200\n",
      "2155/2155 [==============================] - 0s 104us/sample - loss: 2.2437 - val_loss: 2.2216\n",
      "Epoch 19/200\n",
      "2155/2155 [==============================] - 0s 102us/sample - loss: 2.2803 - val_loss: 2.0695\n",
      "Epoch 20/200\n",
      "2155/2155 [==============================] - 0s 102us/sample - loss: 2.1738 - val_loss: 1.9916\n",
      "Epoch 21/200\n",
      "2155/2155 [==============================] - 0s 103us/sample - loss: 2.2979 - val_loss: 2.0554\n",
      "Epoch 22/200\n",
      "2155/2155 [==============================] - 0s 103us/sample - loss: 2.1140 - val_loss: 1.9429\n",
      "Epoch 23/200\n",
      "2155/2155 [==============================] - 0s 102us/sample - loss: 2.1471 - val_loss: 2.0184\n",
      "Epoch 24/200\n",
      "2155/2155 [==============================] - 0s 103us/sample - loss: 2.1215 - val_loss: 1.9573\n",
      "Epoch 25/200\n",
      "2155/2155 [==============================] - 0s 102us/sample - loss: 2.1806 - val_loss: 1.9653\n",
      "Epoch 26/200\n",
      "2155/2155 [==============================] - 0s 103us/sample - loss: 2.0664 - val_loss: 2.2005\n",
      "Epoch 27/200\n",
      "2155/2155 [==============================] - 0s 107us/sample - loss: 2.0703 - val_loss: 1.8886\n",
      "Epoch 28/200\n",
      "2155/2155 [==============================] - 0s 103us/sample - loss: 2.0647 - val_loss: 1.9210\n",
      "Epoch 29/200\n",
      "2155/2155 [==============================] - 0s 104us/sample - loss: 2.0628 - val_loss: 1.8898\n",
      "Epoch 30/200\n",
      "2155/2155 [==============================] - 0s 103us/sample - loss: 2.1026 - val_loss: 1.8710\n",
      "Epoch 31/200\n",
      "2155/2155 [==============================] - 0s 102us/sample - loss: 2.0154 - val_loss: 1.8481\n",
      "Epoch 32/200\n",
      "2155/2155 [==============================] - 0s 100us/sample - loss: 1.9957 - val_loss: 2.1931\n",
      "Epoch 33/200\n",
      "2155/2155 [==============================] - 0s 104us/sample - loss: 2.0956 - val_loss: 1.8919\n",
      "Epoch 34/200\n",
      "2155/2155 [==============================] - 0s 105us/sample - loss: 2.0076 - val_loss: 1.8499\n",
      "Epoch 35/200\n",
      "2155/2155 [==============================] - 0s 101us/sample - loss: 1.9848 - val_loss: 1.8297\n",
      "Epoch 36/200\n",
      "2155/2155 [==============================] - 0s 106us/sample - loss: 1.9839 - val_loss: 1.8442\n",
      "Epoch 37/200\n",
      "2155/2155 [==============================] - 0s 109us/sample - loss: 1.9879 - val_loss: 1.8323\n",
      "Epoch 38/200\n",
      "2155/2155 [==============================] - 0s 105us/sample - loss: 1.9822 - val_loss: 1.8212\n",
      "Epoch 39/200\n",
      "2155/2155 [==============================] - 0s 104us/sample - loss: 1.9589 - val_loss: 1.8101\n",
      "Epoch 40/200\n",
      "2155/2155 [==============================] - 0s 104us/sample - loss: 1.9500 - val_loss: 1.8369\n",
      "Epoch 41/200\n",
      "2155/2155 [==============================] - 0s 103us/sample - loss: 1.9544 - val_loss: 2.0637\n",
      "Epoch 42/200\n",
      "2155/2155 [==============================] - 0s 101us/sample - loss: 1.9793 - val_loss: 1.8511\n",
      "Epoch 43/200\n",
      "2155/2155 [==============================] - 0s 106us/sample - loss: 1.9415 - val_loss: 2.0527\n",
      "Epoch 44/200\n",
      "2155/2155 [==============================] - 0s 101us/sample - loss: 1.9264 - val_loss: 1.8600\n",
      "Epoch 45/200\n",
      "2155/2155 [==============================] - 0s 103us/sample - loss: 1.9283 - val_loss: 1.8994\n",
      "Epoch 46/200\n",
      "2155/2155 [==============================] - 0s 106us/sample - loss: 1.9323 - val_loss: 1.8238\n",
      "Epoch 47/200\n",
      "2155/2155 [==============================] - 0s 105us/sample - loss: 1.9141 - val_loss: 2.0804\n",
      "Epoch 48/200\n",
      "2155/2155 [==============================] - 0s 105us/sample - loss: 1.9871 - val_loss: 1.7897\n",
      "Epoch 49/200\n",
      "2155/2155 [==============================] - 0s 106us/sample - loss: 1.9270 - val_loss: 1.7960\n",
      "Epoch 50/200\n",
      "2155/2155 [==============================] - 0s 103us/sample - loss: 1.9496 - val_loss: 1.7827\n",
      "Epoch 51/200\n",
      "2155/2155 [==============================] - 0s 103us/sample - loss: 1.8870 - val_loss: 1.9121\n",
      "Epoch 52/200\n",
      "2155/2155 [==============================] - 0s 103us/sample - loss: 1.9204 - val_loss: 1.8106\n",
      "Epoch 53/200\n",
      "2155/2155 [==============================] - 0s 106us/sample - loss: 1.9248 - val_loss: 2.0436\n",
      "Epoch 54/200\n",
      "2155/2155 [==============================] - 0s 110us/sample - loss: 1.9335 - val_loss: 1.7778\n",
      "Epoch 55/200\n",
      "2155/2155 [==============================] - 0s 107us/sample - loss: 1.9129 - val_loss: 1.7843\n",
      "Epoch 56/200\n",
      "2155/2155 [==============================] - 0s 104us/sample - loss: 1.9022 - val_loss: 1.9226\n",
      "Epoch 57/200\n",
      "2155/2155 [==============================] - 0s 104us/sample - loss: 1.8831 - val_loss: 1.8726\n",
      "Epoch 58/200\n",
      "2155/2155 [==============================] - 0s 103us/sample - loss: 1.9077 - val_loss: 1.8270\n",
      "Epoch 59/200\n",
      "2155/2155 [==============================] - 0s 105us/sample - loss: 1.9181 - val_loss: 1.7740\n",
      "Epoch 60/200\n",
      "2155/2155 [==============================] - 0s 103us/sample - loss: 1.8897 - val_loss: 1.7744\n",
      "Epoch 61/200\n",
      "2155/2155 [==============================] - 0s 105us/sample - loss: 1.8641 - val_loss: 1.7816\n",
      "Epoch 62/200\n",
      "2155/2155 [==============================] - 0s 102us/sample - loss: 1.9456 - val_loss: 1.9969\n",
      "Epoch 63/200\n",
      "2155/2155 [==============================] - 0s 104us/sample - loss: 1.9018 - val_loss: 1.8633\n",
      "Epoch 64/200\n",
      "2155/2155 [==============================] - 0s 104us/sample - loss: 1.8911 - val_loss: 1.7712\n",
      "Epoch 65/200\n",
      "2155/2155 [==============================] - 0s 108us/sample - loss: 1.8712 - val_loss: 1.7646\n",
      "Epoch 66/200\n",
      "2155/2155 [==============================] - 0s 106us/sample - loss: 1.9064 - val_loss: 1.7798\n",
      "Epoch 67/200\n",
      "2155/2155 [==============================] - 0s 103us/sample - loss: 1.8775 - val_loss: 1.7853\n",
      "Epoch 68/200\n",
      "2155/2155 [==============================] - 0s 103us/sample - loss: 1.8809 - val_loss: 1.7846\n",
      "Epoch 69/200\n",
      "2155/2155 [==============================] - 0s 104us/sample - loss: 1.8878 - val_loss: 1.8125\n",
      "Epoch 70/200\n",
      "2155/2155 [==============================] - 0s 103us/sample - loss: 1.8902 - val_loss: 1.8527\n",
      "Epoch 71/200\n",
      "2155/2155 [==============================] - 0s 110us/sample - loss: 1.8719 - val_loss: 1.7601\n",
      "Epoch 72/200\n",
      "2155/2155 [==============================] - 0s 102us/sample - loss: 1.9282 - val_loss: 1.8816\n",
      "Epoch 73/200\n",
      "2155/2155 [==============================] - 0s 108us/sample - loss: 1.8737 - val_loss: 1.8436\n",
      "Epoch 74/200\n",
      "2155/2155 [==============================] - 0s 104us/sample - loss: 1.9297 - val_loss: 1.8692\n",
      "Epoch 75/200\n",
      "2155/2155 [==============================] - 0s 106us/sample - loss: 1.8778 - val_loss: 1.7625\n",
      "Epoch 76/200\n",
      "2155/2155 [==============================] - 0s 105us/sample - loss: 1.8864 - val_loss: 1.8159\n",
      "Epoch 77/200\n",
      "2155/2155 [==============================] - 0s 104us/sample - loss: 1.8635 - val_loss: 1.7775\n",
      "Epoch 78/200\n",
      "2155/2155 [==============================] - 0s 105us/sample - loss: 1.9004 - val_loss: 1.8925\n",
      "Epoch 79/200\n",
      "2155/2155 [==============================] - 0s 102us/sample - loss: 1.9112 - val_loss: 1.7631\n",
      "Epoch 80/200\n",
      "2155/2155 [==============================] - 0s 103us/sample - loss: 1.8621 - val_loss: 1.7592\n",
      "Epoch 81/200\n",
      "2155/2155 [==============================] - 0s 106us/sample - loss: 1.9317 - val_loss: 1.7580\n",
      "Epoch 82/200\n",
      "2155/2155 [==============================] - 0s 104us/sample - loss: 1.8675 - val_loss: 1.7909\n",
      "Epoch 83/200\n",
      "2155/2155 [==============================] - 0s 105us/sample - loss: 1.8540 - val_loss: 1.7831\n",
      "Epoch 84/200\n",
      "2155/2155 [==============================] - 0s 104us/sample - loss: 1.8888 - val_loss: 2.0695\n",
      "Epoch 85/200\n",
      "2155/2155 [==============================] - 0s 103us/sample - loss: 1.8901 - val_loss: 1.8367\n",
      "Epoch 86/200\n",
      "2155/2155 [==============================] - 0s 103us/sample - loss: 1.8731 - val_loss: 1.7569\n",
      "Epoch 87/200\n",
      "2155/2155 [==============================] - 0s 102us/sample - loss: 1.8767 - val_loss: 1.7606\n",
      "Epoch 88/200\n",
      "2155/2155 [==============================] - 0s 103us/sample - loss: 1.8928 - val_loss: 1.7578\n",
      "Epoch 89/200\n",
      "2155/2155 [==============================] - 0s 100us/sample - loss: 1.8612 - val_loss: 1.8369\n",
      "Epoch 90/200\n",
      "2155/2155 [==============================] - 0s 103us/sample - loss: 1.8704 - val_loss: 2.4269\n",
      "Epoch 91/200\n",
      "2155/2155 [==============================] - 0s 102us/sample - loss: 1.9058 - val_loss: 1.8550\n",
      "Epoch 92/200\n",
      "2155/2155 [==============================] - 0s 103us/sample - loss: 1.8621 - val_loss: 1.7702\n",
      "Epoch 93/200\n",
      "2155/2155 [==============================] - 0s 102us/sample - loss: 1.8278 - val_loss: 1.8150\n",
      "Epoch 94/200\n",
      "2155/2155 [==============================] - 0s 102us/sample - loss: 1.8740 - val_loss: 1.8972\n",
      "Epoch 95/200\n",
      "2155/2155 [==============================] - 0s 101us/sample - loss: 1.8760 - val_loss: 1.7540\n",
      "Epoch 96/200\n",
      "2155/2155 [==============================] - 0s 104us/sample - loss: 1.8776 - val_loss: 1.8621\n",
      "Epoch 97/200\n",
      "2155/2155 [==============================] - 0s 102us/sample - loss: 1.8509 - val_loss: 1.8371\n",
      "Epoch 98/200\n",
      "2155/2155 [==============================] - 0s 101us/sample - loss: 1.8368 - val_loss: 1.7582\n",
      "Epoch 99/200\n",
      "2155/2155 [==============================] - 0s 103us/sample - loss: 1.8641 - val_loss: 1.8297\n",
      "Epoch 100/200\n",
      "2155/2155 [==============================] - 0s 107us/sample - loss: 1.8553 - val_loss: 1.9178\n",
      "Epoch 101/200\n",
      "2155/2155 [==============================] - 0s 103us/sample - loss: 1.8883 - val_loss: 1.8272\n",
      "Epoch 102/200\n",
      "2155/2155 [==============================] - 0s 103us/sample - loss: 1.8758 - val_loss: 1.7838\n",
      "Epoch 103/200\n",
      "2155/2155 [==============================] - 0s 101us/sample - loss: 1.8641 - val_loss: 1.7915\n",
      "Epoch 104/200\n",
      "2155/2155 [==============================] - 0s 104us/sample - loss: 1.8523 - val_loss: 1.7543\n",
      "Epoch 105/200\n",
      "2155/2155 [==============================] - 0s 103us/sample - loss: 1.8787 - val_loss: 1.7800\n",
      "Epoch 106/200\n",
      "2155/2155 [==============================] - 0s 104us/sample - loss: 1.8435 - val_loss: 1.7572\n",
      "Epoch 107/200\n",
      "2155/2155 [==============================] - 0s 106us/sample - loss: 1.8475 - val_loss: 1.7862\n",
      "Epoch 108/200\n",
      "2155/2155 [==============================] - 0s 100us/sample - loss: 1.8550 - val_loss: 1.9702\n",
      "Epoch 109/200\n",
      "2155/2155 [==============================] - 0s 105us/sample - loss: 1.8874 - val_loss: 2.0366\n",
      "Epoch 110/200\n",
      "2155/2155 [==============================] - 0s 101us/sample - loss: 1.8549 - val_loss: 1.7638\n",
      "Epoch 111/200\n",
      "2155/2155 [==============================] - 0s 100us/sample - loss: 1.8703 - val_loss: 1.7926\n",
      "Epoch 112/200\n",
      "2155/2155 [==============================] - 0s 101us/sample - loss: 1.8525 - val_loss: 2.0316\n",
      "Epoch 113/200\n",
      "2155/2155 [==============================] - 0s 107us/sample - loss: 1.8529 - val_loss: 1.7510\n",
      "Epoch 114/200\n",
      "2155/2155 [==============================] - 0s 104us/sample - loss: 1.8340 - val_loss: 1.7700\n",
      "Epoch 115/200\n",
      "2155/2155 [==============================] - 0s 105us/sample - loss: 1.8718 - val_loss: 1.8268\n",
      "Epoch 116/200\n",
      "2155/2155 [==============================] - 0s 111us/sample - loss: 1.8460 - val_loss: 1.7514\n",
      "Epoch 117/200\n",
      "2155/2155 [==============================] - 0s 108us/sample - loss: 1.8496 - val_loss: 1.8161\n",
      "Epoch 118/200\n",
      "2155/2155 [==============================] - 0s 103us/sample - loss: 1.8518 - val_loss: 1.8387\n",
      "Epoch 119/200\n",
      "2155/2155 [==============================] - 0s 102us/sample - loss: 1.8930 - val_loss: 1.8049\n",
      "Epoch 120/200\n",
      "2155/2155 [==============================] - 0s 106us/sample - loss: 1.8753 - val_loss: 1.8440\n",
      "Epoch 121/200\n",
      "2155/2155 [==============================] - 0s 103us/sample - loss: 1.8533 - val_loss: 1.7730\n",
      "Epoch 122/200\n",
      "2155/2155 [==============================] - 0s 106us/sample - loss: 1.8380 - val_loss: 1.7757\n",
      "Epoch 123/200\n",
      "2155/2155 [==============================] - 0s 105us/sample - loss: 1.8514 - val_loss: 1.7524\n",
      "Epoch 124/200\n",
      "2155/2155 [==============================] - 0s 104us/sample - loss: 1.8657 - val_loss: 1.7853\n",
      "Epoch 125/200\n",
      "2155/2155 [==============================] - 0s 103us/sample - loss: 1.8248 - val_loss: 1.7705\n",
      "Epoch 126/200\n",
      "2155/2155 [==============================] - 0s 104us/sample - loss: 1.8191 - val_loss: 1.7952\n",
      "Epoch 127/200\n",
      "2155/2155 [==============================] - 0s 104us/sample - loss: 1.8595 - val_loss: 1.7696\n",
      "Epoch 128/200\n",
      "2155/2155 [==============================] - 0s 105us/sample - loss: 1.8258 - val_loss: 1.7876\n",
      "Epoch 129/200\n",
      "2155/2155 [==============================] - 0s 105us/sample - loss: 1.8355 - val_loss: 1.7638\n",
      "Epoch 130/200\n",
      "2155/2155 [==============================] - 0s 109us/sample - loss: 1.8494 - val_loss: 2.0277\n",
      "Epoch 131/200\n",
      "2155/2155 [==============================] - 0s 104us/sample - loss: 1.8553 - val_loss: 1.7653\n",
      "Epoch 132/200\n",
      "2155/2155 [==============================] - 0s 106us/sample - loss: 1.8250 - val_loss: 1.8045\n",
      "Epoch 133/200\n",
      "2155/2155 [==============================] - 0s 103us/sample - loss: 1.8349 - val_loss: 1.8378\n",
      "Epoch 134/200\n",
      "2155/2155 [==============================] - 0s 107us/sample - loss: 1.8411 - val_loss: 1.7604\n",
      "Epoch 135/200\n",
      "2155/2155 [==============================] - 0s 106us/sample - loss: 1.8402 - val_loss: 1.8167\n",
      "Epoch 136/200\n",
      "2155/2155 [==============================] - 0s 103us/sample - loss: 1.8155 - val_loss: 1.7808\n",
      "Epoch 137/200\n",
      "2155/2155 [==============================] - 0s 103us/sample - loss: 1.8282 - val_loss: 1.7841\n",
      "Epoch 138/200\n",
      "2155/2155 [==============================] - 0s 103us/sample - loss: 1.8439 - val_loss: 1.8170\n",
      "Epoch 139/200\n",
      "2155/2155 [==============================] - 0s 105us/sample - loss: 1.8517 - val_loss: 1.7506\n",
      "Epoch 140/200\n",
      "2155/2155 [==============================] - 0s 104us/sample - loss: 1.8356 - val_loss: 1.9120\n",
      "Epoch 141/200\n",
      "2155/2155 [==============================] - 0s 104us/sample - loss: 1.8638 - val_loss: 1.7700\n",
      "Epoch 142/200\n",
      "2155/2155 [==============================] - 0s 102us/sample - loss: 1.8388 - val_loss: 1.8443\n",
      "Epoch 143/200\n",
      "2155/2155 [==============================] - 0s 106us/sample - loss: 1.8375 - val_loss: 1.8583\n",
      "Epoch 144/200\n",
      "2155/2155 [==============================] - 0s 103us/sample - loss: 1.8352 - val_loss: 1.7553\n",
      "Epoch 145/200\n",
      "2155/2155 [==============================] - 0s 103us/sample - loss: 1.8309 - val_loss: 1.7553\n",
      "Epoch 146/200\n",
      "2155/2155 [==============================] - 0s 104us/sample - loss: 1.8311 - val_loss: 1.7769\n",
      "Epoch 147/200\n",
      "2155/2155 [==============================] - 0s 105us/sample - loss: 1.8341 - val_loss: 1.8673\n",
      "Epoch 148/200\n",
      "2155/2155 [==============================] - 0s 102us/sample - loss: 1.8222 - val_loss: 1.7995\n",
      "Epoch 149/200\n",
      "2155/2155 [==============================] - 0s 105us/sample - loss: 1.8344 - val_loss: 2.2008\n",
      "Epoch 150/200\n",
      "2155/2155 [==============================] - 0s 102us/sample - loss: 1.8379 - val_loss: 1.8166\n",
      "Epoch 151/200\n"
     ]
    },
    {
     "name": "stdout",
     "output_type": "stream",
     "text": [
      "2155/2155 [==============================] - 0s 108us/sample - loss: 1.8017 - val_loss: 1.7467\n",
      "Epoch 152/200\n",
      "2155/2155 [==============================] - 0s 104us/sample - loss: 1.8375 - val_loss: 1.7988\n",
      "Epoch 153/200\n",
      "2155/2155 [==============================] - 0s 101us/sample - loss: 1.8072 - val_loss: 1.7450\n",
      "Epoch 154/200\n",
      "2155/2155 [==============================] - 0s 100us/sample - loss: 1.7871 - val_loss: 2.1001\n",
      "Epoch 155/200\n",
      "2155/2155 [==============================] - 0s 101us/sample - loss: 1.8974 - val_loss: 1.8392\n",
      "Epoch 156/200\n",
      "2155/2155 [==============================] - 0s 102us/sample - loss: 1.8277 - val_loss: 1.8558\n",
      "Epoch 157/200\n",
      "2155/2155 [==============================] - 0s 106us/sample - loss: 1.8286 - val_loss: 1.7560\n",
      "Epoch 158/200\n",
      "2155/2155 [==============================] - 0s 104us/sample - loss: 1.8196 - val_loss: 1.8631\n",
      "Epoch 159/200\n",
      "2155/2155 [==============================] - 0s 100us/sample - loss: 1.8217 - val_loss: 1.7571\n",
      "Epoch 160/200\n",
      "2155/2155 [==============================] - 0s 104us/sample - loss: 1.8389 - val_loss: 1.7932\n",
      "Epoch 161/200\n",
      "2155/2155 [==============================] - 0s 103us/sample - loss: 1.8171 - val_loss: 2.3789\n",
      "Epoch 162/200\n",
      "2155/2155 [==============================] - 0s 101us/sample - loss: 1.9008 - val_loss: 1.7702\n",
      "Epoch 163/200\n",
      "2155/2155 [==============================] - 0s 102us/sample - loss: 1.8329 - val_loss: 1.7654\n",
      "Epoch 164/200\n",
      "2155/2155 [==============================] - 0s 101us/sample - loss: 1.8396 - val_loss: 1.7434\n",
      "Epoch 165/200\n",
      "2155/2155 [==============================] - 0s 100us/sample - loss: 1.8047 - val_loss: 1.7533\n",
      "Epoch 166/200\n",
      "2155/2155 [==============================] - 0s 104us/sample - loss: 1.8185 - val_loss: 1.8394\n",
      "Epoch 167/200\n",
      "2155/2155 [==============================] - 0s 102us/sample - loss: 1.8304 - val_loss: 1.7443\n",
      "Epoch 168/200\n",
      "2155/2155 [==============================] - 0s 104us/sample - loss: 1.8800 - val_loss: 1.7665\n",
      "Epoch 169/200\n",
      "2155/2155 [==============================] - 0s 102us/sample - loss: 1.7982 - val_loss: 1.7856\n",
      "Epoch 170/200\n",
      "2155/2155 [==============================] - 0s 103us/sample - loss: 1.8240 - val_loss: 1.8309\n",
      "Epoch 171/200\n",
      "2155/2155 [==============================] - 0s 104us/sample - loss: 1.8133 - val_loss: 1.8780\n",
      "Epoch 172/200\n",
      "2155/2155 [==============================] - 0s 102us/sample - loss: 1.8051 - val_loss: 1.8813\n",
      "Epoch 173/200\n",
      "2155/2155 [==============================] - 0s 105us/sample - loss: 1.8189 - val_loss: 1.7712\n",
      "Epoch 174/200\n",
      "2155/2155 [==============================] - 0s 103us/sample - loss: 1.7984 - val_loss: 1.7658\n",
      "Epoch 175/200\n",
      "2155/2155 [==============================] - 0s 101us/sample - loss: 1.7992 - val_loss: 2.0511\n",
      "Epoch 176/200\n",
      "2155/2155 [==============================] - 0s 102us/sample - loss: 1.8302 - val_loss: 1.7712\n",
      "Epoch 177/200\n",
      "2155/2155 [==============================] - 0s 106us/sample - loss: 1.8202 - val_loss: 1.8798\n",
      "Epoch 178/200\n",
      "2155/2155 [==============================] - 0s 103us/sample - loss: 1.8205 - val_loss: 1.8279\n",
      "Epoch 179/200\n",
      "2155/2155 [==============================] - 0s 102us/sample - loss: 1.8124 - val_loss: 1.7557\n",
      "Epoch 180/200\n",
      "2155/2155 [==============================] - 0s 99us/sample - loss: 1.8288 - val_loss: 1.7490\n",
      "Epoch 181/200\n",
      "2155/2155 [==============================] - 0s 103us/sample - loss: 1.8206 - val_loss: 1.7466\n",
      "Epoch 182/200\n",
      "2155/2155 [==============================] - 0s 104us/sample - loss: 1.8093 - val_loss: 1.7655\n",
      "Epoch 183/200\n",
      "2155/2155 [==============================] - 0s 112us/sample - loss: 1.7991 - val_loss: 1.8726\n",
      "Epoch 184/200\n",
      "2155/2155 [==============================] - 0s 116us/sample - loss: 1.7884 - val_loss: 1.7820\n",
      "Epoch 185/200\n",
      "2155/2155 [==============================] - 0s 106us/sample - loss: 1.8050 - val_loss: 1.8198\n",
      "Epoch 186/200\n",
      "2155/2155 [==============================] - 0s 103us/sample - loss: 1.8214 - val_loss: 1.7822\n",
      "Epoch 187/200\n",
      "2155/2155 [==============================] - 0s 103us/sample - loss: 1.8160 - val_loss: 1.7661\n",
      "Epoch 188/200\n",
      "2155/2155 [==============================] - 0s 106us/sample - loss: 1.7841 - val_loss: 1.7695\n",
      "Epoch 189/200\n",
      "2155/2155 [==============================] - 0s 104us/sample - loss: 1.8054 - val_loss: 1.7491\n",
      "Epoch 190/200\n",
      "2155/2155 [==============================] - 0s 110us/sample - loss: 1.8045 - val_loss: 1.7777\n",
      "Epoch 191/200\n",
      "2155/2155 [==============================] - 0s 103us/sample - loss: 1.8088 - val_loss: 1.8266\n",
      "Epoch 192/200\n",
      "2155/2155 [==============================] - 0s 103us/sample - loss: 1.7969 - val_loss: 1.8107\n",
      "Epoch 193/200\n",
      "2155/2155 [==============================] - 0s 108us/sample - loss: 1.8017 - val_loss: 1.7429\n",
      "Epoch 194/200\n",
      "2155/2155 [==============================] - 0s 102us/sample - loss: 1.8100 - val_loss: 1.9656\n",
      "Epoch 195/200\n",
      "2155/2155 [==============================] - 0s 102us/sample - loss: 1.8248 - val_loss: 1.7614\n",
      "Epoch 196/200\n",
      "2155/2155 [==============================] - 0s 105us/sample - loss: 1.8353 - val_loss: 1.8737\n",
      "Epoch 197/200\n",
      "2155/2155 [==============================] - 0s 105us/sample - loss: 1.8124 - val_loss: 1.9161\n",
      "Epoch 198/200\n",
      "2155/2155 [==============================] - 0s 104us/sample - loss: 1.7970 - val_loss: 1.7628\n",
      "Epoch 199/200\n",
      "2155/2155 [==============================] - 0s 105us/sample - loss: 1.8379 - val_loss: 1.7908\n",
      "Epoch 200/200\n",
      "2155/2155 [==============================] - 0s 105us/sample - loss: 1.7927 - val_loss: 1.7591\n"
     ]
    }
   ],
   "source": [
    "history4 = model4.fit(X_train_3D, y_train, epochs=200, batch_size=100,\n",
    "                      validation_data=(X_valid_3D, y_valid))"
   ]
  },
  {
   "cell_type": "code",
   "execution_count": 72,
   "metadata": {},
   "outputs": [
    {
     "name": "stdout",
     "output_type": "stream",
     "text": [
      "725/725 [==============================] - 0s 77us/sample - loss: 1.7591\n"
     ]
    },
    {
     "data": {
      "text/plain": [
       "1.7590992352058148"
      ]
     },
     "execution_count": 72,
     "metadata": {},
     "output_type": "execute_result"
    }
   ],
   "source": [
    "model4.evaluate(X_valid_3D, y_valid)"
   ]
  },
  {
   "cell_type": "code",
   "execution_count": 73,
   "metadata": {},
   "outputs": [
    {
     "data": {
      "image/png": "[encoded data removed]",
      "text/plain": [
       "<Figure size 432x288 with 1 Axes>"
      ]
     },
     "metadata": {
      "needs_background": "light"
     },
     "output_type": "display_data"
    }
   ],
   "source": [
    "plot_history(history4)"
   ]
  },
  {
   "cell_type": "code",
   "execution_count": 75,
   "metadata": {},
   "outputs": [],
   "source": [
    "y_pred_rnn4 = model4.predict(X_valid_3D)[:, -1]"
   ]
  },
  {
   "cell_type": "code",
   "execution_count": 77,
   "metadata": {},
   "outputs": [
    {
     "data": {
      "image/png": "[encoded data removed]",
      "text/plain": [
       "<Figure size 720x360 with 1 Axes>"
      ]
     },
     "metadata": {
      "needs_background": "light"
     },
     "output_type": "display_data"
    }
   ],
   "source": [
    "plot_predictions((\"Target\", y_valid),\n",
    "                 (\"Linear\", y_pred_linear),\n",
    "                 (\"RNN\", y_pred_rnn4),\n",
    "                 end=365)"
   ]
  },
  {
   "cell_type": "code",
   "execution_count": null,
   "metadata": {},
   "outputs": [],
   "source": []
  },
  {
   "cell_type": "markdown",
   "metadata": {},
   "source": [
    "![Exercise](https://c1.staticflickr.com/9/8101/8553474140_c50cf08708_b.jpg)"
   ]
  },
  {
   "cell_type": "markdown",
   "metadata": {},
   "source": [
    "# Exercice 5 – Sequence classification"
   ]
  },
  {
   "cell_type": "markdown",
   "metadata": {},
   "source": [
    "Let's load the IMDB movie reviews, for binary sentiment analysis (positive review or negative review):"
   ]
  },
  {
   "cell_type": "markdown",
   "metadata": {},
   "source": [
    "We only want the 10,000 most common words:"
   ]
  },
  {
   "cell_type": "code",
   "execution_count": null,
   "metadata": {},
   "outputs": [],
   "source": [
    "num_words = 10000\n",
    "(X_train, y_train), (X_test, y_test) = keras.datasets.imdb.load_data(num_words=num_words)"
   ]
  },
  {
   "cell_type": "markdown",
   "metadata": {},
   "source": [
    "Let's also get the word index (word to word id):"
   ]
  },
  {
   "cell_type": "code",
   "execution_count": null,
   "metadata": {},
   "outputs": [],
   "source": [
    "word_index = keras.datasets.imdb.get_word_index()"
   ]
  },
  {
   "cell_type": "markdown",
   "metadata": {},
   "source": [
    "And let's create a reverse index (word id to word). Three special word ids are added:"
   ]
  },
  {
   "cell_type": "code",
   "execution_count": null,
   "metadata": {},
   "outputs": [],
   "source": [
    "reverse_index = {word_id + 3: word for word, word_id in word_index.items()}\n",
    "reverse_index[0] = \"<pad>\" # padding\n",
    "reverse_index[1] = \"<sos>\" # start of sequence\n",
    "reverse_index[2] = \"<oov>\" # out-of-vocabulary\n",
    "reverse_index[3] = \"<unk>\" # unknown"
   ]
  },
  {
   "cell_type": "markdown",
   "metadata": {},
   "source": [
    "Let's write a little function to decode reviews:"
   ]
  },
  {
   "cell_type": "code",
   "execution_count": null,
   "metadata": {},
   "outputs": [],
   "source": [
    "def decode_review(word_ids):\n",
    "    return \" \".join([reverse_index.get(word_id, \"<err>\") for word_id in word_ids])"
   ]
  },
  {
   "cell_type": "markdown",
   "metadata": {},
   "source": [
    "Let's look at a review:"
   ]
  },
  {
   "cell_type": "code",
   "execution_count": null,
   "metadata": {},
   "outputs": [],
   "source": [
    "decode_review(X_train[0])"
   ]
  },
  {
   "cell_type": "markdown",
   "metadata": {},
   "source": [
    "It seems very positive, let's look at the target (0=negative review, 1=positive review):"
   ]
  },
  {
   "cell_type": "code",
   "execution_count": null,
   "metadata": {},
   "outputs": [],
   "source": [
    "y_train[0]"
   ]
  },
  {
   "cell_type": "markdown",
   "metadata": {},
   "source": [
    "And another review:"
   ]
  },
  {
   "cell_type": "code",
   "execution_count": null,
   "metadata": {},
   "outputs": [],
   "source": [
    "decode_review(X_train[1])"
   ]
  },
  {
   "cell_type": "markdown",
   "metadata": {},
   "source": [
    "Very negative! Let's check the target:"
   ]
  },
  {
   "cell_type": "code",
   "execution_count": null,
   "metadata": {},
   "outputs": [],
   "source": [
    "y_train[1]"
   ]
  },
  {
   "cell_type": "markdown",
   "metadata": {},
   "source": [
    "## 5.1) Train a baseline model"
   ]
  },
  {
   "cell_type": "markdown",
   "metadata": {},
   "source": [
    "Train and evaluate a baseline model using ScikitLearn. You will need to create a pipeline with a `CountVectorizer`, a `TfidfTransformer` and an `SGDClassifier`. The `CountVectorizer` transformer expects text as input, so let's create a text version of the training set and test set:"
   ]
  },
  {
   "cell_type": "code",
   "execution_count": null,
   "metadata": {},
   "outputs": [],
   "source": [
    "X_train_text = [decode_review(words_ids) for words_ids in X_train]\n",
    "X_test_text = [decode_review(words_ids) for words_ids in X_test]"
   ]
  },
  {
   "cell_type": "code",
   "execution_count": null,
   "metadata": {},
   "outputs": [],
   "source": [
    "from sklearn.feature_extraction.text import CountVectorizer, TfidfTransformer\n",
    "from sklearn.pipeline import Pipeline\n",
    "from sklearn.linear_model import SGDClassifier"
   ]
  },
  {
   "cell_type": "code",
   "execution_count": null,
   "metadata": {},
   "outputs": [],
   "source": []
  },
  {
   "cell_type": "code",
   "execution_count": null,
   "metadata": {},
   "outputs": [],
   "source": []
  },
  {
   "cell_type": "code",
   "execution_count": null,
   "metadata": {},
   "outputs": [],
   "source": []
  },
  {
   "cell_type": "markdown",
   "metadata": {},
   "source": [
    "## 5.2) Create a sequence classifier"
   ]
  },
  {
   "cell_type": "markdown",
   "metadata": {},
   "source": [
    "Create a sequence classifier using Keras:\n",
    "* Use `keras.preprocessing.sequence.pad_sequences()` to preprocess `X_train`: this will create a 2D array of 25,000 rows (one per review) and `maxlen=500` columns. Reviews longer than 500 words will be cropped, while reviews shorter \n",
    "than 500 words will be padded with zeros.\n",
    "* The first layer in your model should be an `Embedding` layer, with `input_dim=num_words` and `output_dim=10`. The model will gradually learn to represent each of the 10,000 words as a 10-dimensional vector. So the next layer will receive 3D batchs of shape (batch size, 500, 10).\n",
    "* Add one or more LSTM layers with 32 neurons each.\n",
    "* The output layer should be a Dense layer with a sigmoid activation function, since this is a binary classification problem.\n",
    "* When compiling the model, you should use the `binary_crossentropy` loss.\n",
    "* Fit the model for 10 epochs, using a batch size of 128 and `validation_split=0.2`."
   ]
  },
  {
   "cell_type": "code",
   "execution_count": null,
   "metadata": {},
   "outputs": [],
   "source": []
  },
  {
   "cell_type": "code",
   "execution_count": null,
   "metadata": {},
   "outputs": [],
   "source": []
  },
  {
   "cell_type": "code",
   "execution_count": null,
   "metadata": {},
   "outputs": [],
   "source": []
  },
  {
   "cell_type": "markdown",
   "metadata": {},
   "source": [
    "![Exercise solution](https://camo.githubusercontent.com/250388fde3fac9135ead9471733ee28e049f7a37/68747470733a2f2f75706c6f61642e77696b696d656469612e6f72672f77696b6970656469612f636f6d6d6f6e732f302f30362f46696c6f735f736567756e646f5f6c6f676f5f253238666c69707065642532392e6a7067)"
   ]
  },
  {
   "cell_type": "markdown",
   "metadata": {},
   "source": [
    "# Exercice 5 – Solution"
   ]
  },
  {
   "cell_type": "markdown",
   "metadata": {},
   "source": [
    "## 5.1) Train a baseline model"
   ]
  },
  {
   "cell_type": "code",
   "execution_count": 50,
   "metadata": {},
   "outputs": [
    {
     "ename": "NameError",
     "evalue": "name 'decode_review' is not defined",
     "output_type": "error",
     "traceback": [
      "\u001b[0;31m---------------------------------------------------------------------------\u001b[0m",
      "\u001b[0;31mNameError\u001b[0m                                 Traceback (most recent call last)",
      "\u001b[0;32m<ipython-input-50-2bad052b3d63>\u001b[0m in \u001b[0;36m<module>\u001b[0;34m\u001b[0m\n\u001b[0;32m----> 1\u001b[0;31m \u001b[0mX_train_text\u001b[0m \u001b[0;34m=\u001b[0m \u001b[0;34m[\u001b[0m\u001b[0mdecode_review\u001b[0m\u001b[0;34m(\u001b[0m\u001b[0mwords_ids\u001b[0m\u001b[0;34m)\u001b[0m \u001b[0;32mfor\u001b[0m \u001b[0mwords_ids\u001b[0m \u001b[0;32min\u001b[0m \u001b[0mX_train\u001b[0m\u001b[0;34m]\u001b[0m\u001b[0;34m\u001b[0m\u001b[0;34m\u001b[0m\u001b[0m\n\u001b[0m\u001b[1;32m      2\u001b[0m \u001b[0mX_test_text\u001b[0m \u001b[0;34m=\u001b[0m \u001b[0;34m[\u001b[0m\u001b[0mdecode_review\u001b[0m\u001b[0;34m(\u001b[0m\u001b[0mwords_ids\u001b[0m\u001b[0;34m)\u001b[0m \u001b[0;32mfor\u001b[0m \u001b[0mwords_ids\u001b[0m \u001b[0;32min\u001b[0m \u001b[0mX_test\u001b[0m\u001b[0;34m]\u001b[0m\u001b[0;34m\u001b[0m\u001b[0;34m\u001b[0m\u001b[0m\n",
      "\u001b[0;32m<ipython-input-50-2bad052b3d63>\u001b[0m in \u001b[0;36m<listcomp>\u001b[0;34m(.0)\u001b[0m\n\u001b[0;32m----> 1\u001b[0;31m \u001b[0mX_train_text\u001b[0m \u001b[0;34m=\u001b[0m \u001b[0;34m[\u001b[0m\u001b[0mdecode_review\u001b[0m\u001b[0;34m(\u001b[0m\u001b[0mwords_ids\u001b[0m\u001b[0;34m)\u001b[0m \u001b[0;32mfor\u001b[0m \u001b[0mwords_ids\u001b[0m \u001b[0;32min\u001b[0m \u001b[0mX_train\u001b[0m\u001b[0;34m]\u001b[0m\u001b[0;34m\u001b[0m\u001b[0;34m\u001b[0m\u001b[0m\n\u001b[0m\u001b[1;32m      2\u001b[0m \u001b[0mX_test_text\u001b[0m \u001b[0;34m=\u001b[0m \u001b[0;34m[\u001b[0m\u001b[0mdecode_review\u001b[0m\u001b[0;34m(\u001b[0m\u001b[0mwords_ids\u001b[0m\u001b[0;34m)\u001b[0m \u001b[0;32mfor\u001b[0m \u001b[0mwords_ids\u001b[0m \u001b[0;32min\u001b[0m \u001b[0mX_test\u001b[0m\u001b[0;34m]\u001b[0m\u001b[0;34m\u001b[0m\u001b[0;34m\u001b[0m\u001b[0m\n",
      "\u001b[0;31mNameError\u001b[0m: name 'decode_review' is not defined"
     ]
    }
   ],
   "source": [
    "X_train_text = [decode_review(words_ids) for words_ids in X_train]\n",
    "X_test_text = [decode_review(words_ids) for words_ids in X_test]"
   ]
  },
  {
   "cell_type": "code",
   "execution_count": null,
   "metadata": {},
   "outputs": [],
   "source": [
    "from sklearn.feature_extraction.text import CountVectorizer, TfidfTransformer\n",
    "from sklearn.pipeline import Pipeline\n",
    "from sklearn.linear_model import SGDClassifier"
   ]
  },
  {
   "cell_type": "code",
   "execution_count": null,
   "metadata": {},
   "outputs": [],
   "source": [
    "pipeline = Pipeline([\n",
    "    ('vect', CountVectorizer()),\n",
    "    ('tfidf', TfidfTransformer()),\n",
    "    ('clf', SGDClassifier(max_iter=50)),\n",
    "])"
   ]
  },
  {
   "cell_type": "code",
   "execution_count": null,
   "metadata": {},
   "outputs": [],
   "source": [
    "pipeline.fit(X_train_text, y_train)"
   ]
  },
  {
   "cell_type": "code",
   "execution_count": null,
   "metadata": {},
   "outputs": [],
   "source": [
    "pipeline.score(X_test_text, y_test)"
   ]
  },
  {
   "cell_type": "markdown",
   "metadata": {},
   "source": [
    "We get 88.5% accuracy, that's not too bad. But don't forget to check the ratio of positive reviews:"
   ]
  },
  {
   "cell_type": "code",
   "execution_count": null,
   "metadata": {},
   "outputs": [],
   "source": [
    "y_test.mean()"
   ]
  },
  {
   "cell_type": "markdown",
   "metadata": {},
   "source": [
    "Let's try our model:"
   ]
  },
  {
   "cell_type": "code",
   "execution_count": null,
   "metadata": {},
   "outputs": [],
   "source": [
    "pipeline.predict([\"this movie was really awesome\"])"
   ]
  },
  {
   "cell_type": "markdown",
   "metadata": {},
   "source": [
    "## 5.2) Create a sequence classifier"
   ]
  },
  {
   "cell_type": "code",
   "execution_count": 49,
   "metadata": {},
   "outputs": [
    {
     "ename": "ValueError",
     "evalue": "invalid literal for int() with base 10: 't-29'",
     "output_type": "error",
     "traceback": [
      "\u001b[0;31m---------------------------------------------------------------------------\u001b[0m",
      "\u001b[0;31mValueError\u001b[0m                                Traceback (most recent call last)",
      "\u001b[0;32m<ipython-input-49-e60be795f65a>\u001b[0m in \u001b[0;36m<module>\u001b[0;34m\u001b[0m\n\u001b[1;32m      1\u001b[0m \u001b[0mmaxlen\u001b[0m \u001b[0;34m=\u001b[0m \u001b[0;36m500\u001b[0m\u001b[0;34m\u001b[0m\u001b[0;34m\u001b[0m\u001b[0m\n\u001b[0;32m----> 2\u001b[0;31m \u001b[0mX_train_trim\u001b[0m \u001b[0;34m=\u001b[0m \u001b[0mkeras\u001b[0m\u001b[0;34m.\u001b[0m\u001b[0mpreprocessing\u001b[0m\u001b[0;34m.\u001b[0m\u001b[0msequence\u001b[0m\u001b[0;34m.\u001b[0m\u001b[0mpad_sequences\u001b[0m\u001b[0;34m(\u001b[0m\u001b[0mX_train\u001b[0m\u001b[0;34m,\u001b[0m \u001b[0mmaxlen\u001b[0m\u001b[0;34m=\u001b[0m\u001b[0mmaxlen\u001b[0m\u001b[0;34m)\u001b[0m\u001b[0;34m\u001b[0m\u001b[0;34m\u001b[0m\u001b[0m\n\u001b[0m\u001b[1;32m      3\u001b[0m \u001b[0mX_test_trim\u001b[0m \u001b[0;34m=\u001b[0m \u001b[0mkeras\u001b[0m\u001b[0;34m.\u001b[0m\u001b[0mpreprocessing\u001b[0m\u001b[0;34m.\u001b[0m\u001b[0msequence\u001b[0m\u001b[0;34m.\u001b[0m\u001b[0mpad_sequences\u001b[0m\u001b[0;34m(\u001b[0m\u001b[0mX_test\u001b[0m\u001b[0;34m,\u001b[0m \u001b[0mmaxlen\u001b[0m\u001b[0;34m=\u001b[0m\u001b[0mmaxlen\u001b[0m\u001b[0;34m)\u001b[0m\u001b[0;34m\u001b[0m\u001b[0;34m\u001b[0m\u001b[0m\n",
      "\u001b[0;32m~/projects/tf2_course/tf2/lib/python3.7/site-packages/keras_preprocessing/sequence.py\u001b[0m in \u001b[0;36mpad_sequences\u001b[0;34m(sequences, maxlen, dtype, padding, truncating, value)\u001b[0m\n\u001b[1;32m     92\u001b[0m \u001b[0;34m\u001b[0m\u001b[0m\n\u001b[1;32m     93\u001b[0m         \u001b[0;31m# check `trunc` has expected shape\u001b[0m\u001b[0;34m\u001b[0m\u001b[0;34m\u001b[0m\u001b[0;34m\u001b[0m\u001b[0m\n\u001b[0;32m---> 94\u001b[0;31m         \u001b[0mtrunc\u001b[0m \u001b[0;34m=\u001b[0m \u001b[0mnp\u001b[0m\u001b[0;34m.\u001b[0m\u001b[0masarray\u001b[0m\u001b[0;34m(\u001b[0m\u001b[0mtrunc\u001b[0m\u001b[0;34m,\u001b[0m \u001b[0mdtype\u001b[0m\u001b[0;34m=\u001b[0m\u001b[0mdtype\u001b[0m\u001b[0;34m)\u001b[0m\u001b[0;34m\u001b[0m\u001b[0;34m\u001b[0m\u001b[0m\n\u001b[0m\u001b[1;32m     95\u001b[0m         \u001b[0;32mif\u001b[0m \u001b[0mtrunc\u001b[0m\u001b[0;34m.\u001b[0m\u001b[0mshape\u001b[0m\u001b[0;34m[\u001b[0m\u001b[0;36m1\u001b[0m\u001b[0;34m:\u001b[0m\u001b[0;34m]\u001b[0m \u001b[0;34m!=\u001b[0m \u001b[0msample_shape\u001b[0m\u001b[0;34m:\u001b[0m\u001b[0;34m\u001b[0m\u001b[0;34m\u001b[0m\u001b[0m\n\u001b[1;32m     96\u001b[0m             raise ValueError('Shape of sample %s of sequence at position %s '\n",
      "\u001b[0;32m~/projects/tf2_course/tf2/lib/python3.7/site-packages/numpy/core/numeric.py\u001b[0m in \u001b[0;36masarray\u001b[0;34m(a, dtype, order)\u001b[0m\n\u001b[1;32m    499\u001b[0m \u001b[0;34m\u001b[0m\u001b[0m\n\u001b[1;32m    500\u001b[0m     \"\"\"\n\u001b[0;32m--> 501\u001b[0;31m     \u001b[0;32mreturn\u001b[0m \u001b[0marray\u001b[0m\u001b[0;34m(\u001b[0m\u001b[0ma\u001b[0m\u001b[0;34m,\u001b[0m \u001b[0mdtype\u001b[0m\u001b[0;34m,\u001b[0m \u001b[0mcopy\u001b[0m\u001b[0;34m=\u001b[0m\u001b[0;32mFalse\u001b[0m\u001b[0;34m,\u001b[0m \u001b[0morder\u001b[0m\u001b[0;34m=\u001b[0m\u001b[0morder\u001b[0m\u001b[0;34m)\u001b[0m\u001b[0;34m\u001b[0m\u001b[0;34m\u001b[0m\u001b[0m\n\u001b[0m\u001b[1;32m    502\u001b[0m \u001b[0;34m\u001b[0m\u001b[0m\n\u001b[1;32m    503\u001b[0m \u001b[0;34m\u001b[0m\u001b[0m\n",
      "\u001b[0;31mValueError\u001b[0m: invalid literal for int() with base 10: 't-29'"
     ]
    }
   ],
   "source": [
    "maxlen = 500\n",
    "X_train_trim = keras.preprocessing.sequence.pad_sequences(X_train, maxlen=maxlen)\n",
    "X_test_trim = keras.preprocessing.sequence.pad_sequences(X_test, maxlen=maxlen)"
   ]
  },
  {
   "cell_type": "code",
   "execution_count": null,
   "metadata": {},
   "outputs": [],
   "source": [
    "model = keras.models.Sequential()\n",
    "model.add(keras.layers.Embedding(input_dim=num_words, output_dim=10))\n",
    "model.add(keras.layers.LSTM(32))\n",
    "model.add(keras.layers.Dense(1, activation=\"sigmoid\"))"
   ]
  },
  {
   "cell_type": "code",
   "execution_count": null,
   "metadata": {},
   "outputs": [],
   "source": [
    "model.compile(loss=\"binary_crossentropy\", optimizer=\"rmsprop\", metrics=[\"accuracy\"])"
   ]
  },
  {
   "cell_type": "code",
   "execution_count": null,
   "metadata": {},
   "outputs": [],
   "source": [
    "model.summary()"
   ]
  },
  {
   "cell_type": "code",
   "execution_count": null,
   "metadata": {},
   "outputs": [],
   "source": [
    "history = model.fit(X_train_trim, y_train,\n",
    "                    epochs=10, batch_size=128, validation_split=0.2)"
   ]
  },
  {
   "cell_type": "code",
   "execution_count": null,
   "metadata": {},
   "outputs": [],
   "source": [
    "model.evaluate(X_test_trim, y_test)"
   ]
  },
  {
   "cell_type": "markdown",
   "metadata": {},
   "source": [
    "![Exercise](https://c1.staticflickr.com/9/8101/8553474140_c50cf08708_b.jpg)"
   ]
  },
  {
   "cell_type": "markdown",
   "metadata": {},
   "source": [
    "# Exercise 6 – Bidirectional RNN"
   ]
  },
  {
   "cell_type": "markdown",
   "metadata": {},
   "source": [
    "Update the previous sequence classification model to use a bidirectional LSTM. For this, you just need to wrap the LSTM layer in a `Bidirectional` layer. If the model overfits, try adding a dropout layer."
   ]
  },
  {
   "cell_type": "code",
   "execution_count": null,
   "metadata": {},
   "outputs": [],
   "source": []
  },
  {
   "cell_type": "code",
   "execution_count": null,
   "metadata": {},
   "outputs": [],
   "source": []
  },
  {
   "cell_type": "code",
   "execution_count": null,
   "metadata": {},
   "outputs": [],
   "source": []
  },
  {
   "cell_type": "markdown",
   "metadata": {},
   "source": [
    "![Exercise solution](https://camo.githubusercontent.com/250388fde3fac9135ead9471733ee28e049f7a37/68747470733a2f2f75706c6f61642e77696b696d656469612e6f72672f77696b6970656469612f636f6d6d6f6e732f302f30362f46696c6f735f736567756e646f5f6c6f676f5f253238666c69707065642532392e6a7067)"
   ]
  },
  {
   "cell_type": "markdown",
   "metadata": {},
   "source": [
    "# Exercise 6 – Solution"
   ]
  },
  {
   "cell_type": "code",
   "execution_count": 48,
   "metadata": {},
   "outputs": [
    {
     "ename": "NameError",
     "evalue": "name 'num_words' is not defined",
     "output_type": "error",
     "traceback": [
      "\u001b[0;31m---------------------------------------------------------------------------\u001b[0m",
      "\u001b[0;31mNameError\u001b[0m                                 Traceback (most recent call last)",
      "\u001b[0;32m<ipython-input-48-c7ba74cab112>\u001b[0m in \u001b[0;36m<module>\u001b[0;34m\u001b[0m\n\u001b[1;32m      1\u001b[0m \u001b[0mmodel\u001b[0m \u001b[0;34m=\u001b[0m \u001b[0mkeras\u001b[0m\u001b[0;34m.\u001b[0m\u001b[0mmodels\u001b[0m\u001b[0;34m.\u001b[0m\u001b[0mSequential\u001b[0m\u001b[0;34m(\u001b[0m\u001b[0;34m)\u001b[0m\u001b[0;34m\u001b[0m\u001b[0;34m\u001b[0m\u001b[0m\n\u001b[0;32m----> 2\u001b[0;31m \u001b[0mmodel\u001b[0m\u001b[0;34m.\u001b[0m\u001b[0madd\u001b[0m\u001b[0;34m(\u001b[0m\u001b[0mkeras\u001b[0m\u001b[0;34m.\u001b[0m\u001b[0mlayers\u001b[0m\u001b[0;34m.\u001b[0m\u001b[0mEmbedding\u001b[0m\u001b[0;34m(\u001b[0m\u001b[0minput_dim\u001b[0m\u001b[0;34m=\u001b[0m\u001b[0mnum_words\u001b[0m\u001b[0;34m,\u001b[0m \u001b[0moutput_dim\u001b[0m\u001b[0;34m=\u001b[0m\u001b[0;36m10\u001b[0m\u001b[0;34m)\u001b[0m\u001b[0;34m)\u001b[0m\u001b[0;34m\u001b[0m\u001b[0;34m\u001b[0m\u001b[0m\n\u001b[0m\u001b[1;32m      3\u001b[0m \u001b[0mmodel\u001b[0m\u001b[0;34m.\u001b[0m\u001b[0madd\u001b[0m\u001b[0;34m(\u001b[0m\u001b[0mkeras\u001b[0m\u001b[0;34m.\u001b[0m\u001b[0mlayers\u001b[0m\u001b[0;34m.\u001b[0m\u001b[0mDropout\u001b[0m\u001b[0;34m(\u001b[0m\u001b[0;36m0.5\u001b[0m\u001b[0;34m)\u001b[0m\u001b[0;34m)\u001b[0m\u001b[0;34m\u001b[0m\u001b[0;34m\u001b[0m\u001b[0m\n\u001b[1;32m      4\u001b[0m \u001b[0mmodel\u001b[0m\u001b[0;34m.\u001b[0m\u001b[0madd\u001b[0m\u001b[0;34m(\u001b[0m\u001b[0mkeras\u001b[0m\u001b[0;34m.\u001b[0m\u001b[0mlayers\u001b[0m\u001b[0;34m.\u001b[0m\u001b[0mBidirectional\u001b[0m\u001b[0;34m(\u001b[0m\u001b[0mkeras\u001b[0m\u001b[0;34m.\u001b[0m\u001b[0mlayers\u001b[0m\u001b[0;34m.\u001b[0m\u001b[0mLSTM\u001b[0m\u001b[0;34m(\u001b[0m\u001b[0;36m32\u001b[0m\u001b[0;34m)\u001b[0m\u001b[0;34m)\u001b[0m\u001b[0;34m)\u001b[0m\u001b[0;34m\u001b[0m\u001b[0;34m\u001b[0m\u001b[0m\n\u001b[1;32m      5\u001b[0m \u001b[0mmodel\u001b[0m\u001b[0;34m.\u001b[0m\u001b[0madd\u001b[0m\u001b[0;34m(\u001b[0m\u001b[0mkeras\u001b[0m\u001b[0;34m.\u001b[0m\u001b[0mlayers\u001b[0m\u001b[0;34m.\u001b[0m\u001b[0mDense\u001b[0m\u001b[0;34m(\u001b[0m\u001b[0;36m1\u001b[0m\u001b[0;34m,\u001b[0m \u001b[0mactivation\u001b[0m\u001b[0;34m=\u001b[0m\u001b[0;34m\"sigmoid\"\u001b[0m\u001b[0;34m)\u001b[0m\u001b[0;34m)\u001b[0m\u001b[0;34m\u001b[0m\u001b[0;34m\u001b[0m\u001b[0m\n",
      "\u001b[0;31mNameError\u001b[0m: name 'num_words' is not defined"
     ]
    }
   ],
   "source": [
    "model = keras.models.Sequential()\n",
    "model.add(keras.layers.Embedding(input_dim=num_words, output_dim=10))\n",
    "model.add(keras.layers.Dropout(0.5))\n",
    "model.add(keras.layers.Bidirectional(keras.layers.LSTM(32)))\n",
    "model.add(keras.layers.Dense(1, activation=\"sigmoid\"))"
   ]
  },
  {
   "cell_type": "code",
   "execution_count": null,
   "metadata": {},
   "outputs": [],
   "source": [
    "model.compile(loss=\"binary_crossentropy\", optimizer=\"rmsprop\", metrics=[\"accuracy\"])"
   ]
  },
  {
   "cell_type": "code",
   "execution_count": null,
   "metadata": {},
   "outputs": [],
   "source": [
    "history = model.fit(X_train_trim, y_train,\n",
    "                    epochs=10, batch_size=128, validation_split=0.2)"
   ]
  },
  {
   "cell_type": "code",
   "execution_count": null,
   "metadata": {
    "scrolled": true
   },
   "outputs": [],
   "source": [
    "model.evaluate(X_test_trim, y_test)"
   ]
  }
 ],
 "metadata": {
  "kernelspec": {
   "display_name": "Python 3",
   "language": "python",
   "name": "python3"
  },
  "language_info": {
   "codemirror_mode": {
    "name": "ipython",
    "version": 3
   },
   "file_extension": ".py",
   "mimetype": "text/x-python",
   "name": "python",
   "nbconvert_exporter": "python",
   "pygments_lexer": "ipython3",
   "version": "3.7.2"
  }
 },
 "nbformat": 4,
 "nbformat_minor": 2
}
